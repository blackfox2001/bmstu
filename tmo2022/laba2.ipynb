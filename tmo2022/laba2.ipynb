{
  "nbformat": 4,
  "nbformat_minor": 0,
  "metadata": {
    "colab": {
      "name": "Laba2.ipynb",
      "provenance": [],
      "authorship_tag": "ABX9TyNdjNzkyzGlp1IH7wqeNG6u",
      "include_colab_link": true
    },
    "kernelspec": {
      "name": "python3",
      "display_name": "Python 3"
    },
    "language_info": {
      "name": "python"
    }
  },
  "cells": [
    {
      "cell_type": "markdown",
      "metadata": {
        "id": "view-in-github",
        "colab_type": "text"
      },
      "source": [
        "<a href=\"https://colab.research.google.com/github/blackfox2001/bmstu/blob/master/tmo2022/laba2.ipynb\" target=\"_parent\"><img src=\"https://colab.research.google.com/assets/colab-badge.svg\" alt=\"Open In Colab\"/></a>"
      ]
    },
    {
      "cell_type": "markdown",
      "source": [
        "# **Обработка пропусков в данных, кодирование категориальных признаков, масштабирование данных.**"
      ],
      "metadata": {
        "id": "-r-yZnGyIcW_"
      }
    },
    {
      "cell_type": "markdown",
      "source": [
        "## **Загрузка и первичный анализ данных**"
      ],
      "metadata": {
        "id": "cdgnxSSmIt3O"
      }
    },
    {
      "cell_type": "code",
      "source": [
        "import numpy as np\n",
        "import pandas as pd\n",
        "import seaborn as sns\n",
        "import matplotlib.pyplot as plt\n",
        "from google.colab import files"
      ],
      "metadata": {
        "id": "liqswPr3bfpR"
      },
      "execution_count": 2,
      "outputs": []
    },
    {
      "cell_type": "code",
      "source": [
        "files.upload()"
      ],
      "metadata": {
        "colab": {
          "resources": {
            "http://localhost:8080/nbextensions/google.colab/files.js": {
              "data": "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",
              "ok": true,
              "headers": [
                [
                  "content-type",
                  "application/javascript"
                ]
              ],
              "status": 200,
              "status_text": "OK"
            }
          },
          "base_uri": "https://localhost:8080/",
          "height": 111
        },
        "id": "_5Ms3HJZc8Lv",
        "outputId": "cd6fb8aa-aaba-4d90-c517-df4ba31dfdec"
      },
      "execution_count": 3,
      "outputs": [
        {
          "output_type": "display_data",
          "data": {
            "text/plain": [
              "<IPython.core.display.HTML object>"
            ],
            "text/html": [
              "\n",
              "     <input type=\"file\" id=\"files-96bfd368-e67b-4e10-ae59-16bc9bf1e544\" name=\"files[]\" multiple disabled\n",
              "        style=\"border:none\" />\n",
              "     <output id=\"result-96bfd368-e67b-4e10-ae59-16bc9bf1e544\">\n",
              "      Upload widget is only available when the cell has been executed in the\n",
              "      current browser session. Please rerun this cell to enable.\n",
              "      </output>\n",
              "      <script src=\"/nbextensions/google.colab/files.js\"></script> "
            ]
          },
          "metadata": {}
        },
        {
          "output_type": "stream",
          "name": "stdout",
          "text": [
            "Saving penguins_size.csv to penguins_size.csv\n"
          ]
        },
        {
          "output_type": "execute_result",
          "data": {
            "text/plain": [
              "{'penguins_size.csv': b'species,island,culmen_length_mm,culmen_depth_mm,flipper_length_mm,body_mass_g,sex\\nAdelie,Torgersen,39.1,18.7,181,3750,MALE\\nAdelie,Torgersen,39.5,17.4,186,3800,FEMALE\\nAdelie,Torgersen,40.3,18,195,3250,FEMALE\\nAdelie,Torgersen,NA,NA,NA,NA,NA\\nAdelie,Torgersen,36.7,19.3,193,3450,FEMALE\\nAdelie,Torgersen,39.3,20.6,190,3650,MALE\\nAdelie,Torgersen,38.9,17.8,181,3625,FEMALE\\nAdelie,Torgersen,39.2,19.6,195,4675,MALE\\nAdelie,Torgersen,34.1,18.1,193,3475,NA\\nAdelie,Torgersen,42,20.2,190,4250,NA\\nAdelie,Torgersen,37.8,17.1,186,3300,NA\\nAdelie,Torgersen,37.8,17.3,180,3700,NA\\nAdelie,Torgersen,41.1,17.6,182,3200,FEMALE\\nAdelie,Torgersen,38.6,21.2,191,3800,MALE\\nAdelie,Torgersen,34.6,21.1,198,4400,MALE\\nAdelie,Torgersen,36.6,17.8,185,3700,FEMALE\\nAdelie,Torgersen,38.7,19,195,3450,FEMALE\\nAdelie,Torgersen,42.5,20.7,197,4500,MALE\\nAdelie,Torgersen,34.4,18.4,184,3325,FEMALE\\nAdelie,Torgersen,46,21.5,194,4200,MALE\\nAdelie,Biscoe,37.8,18.3,174,3400,FEMALE\\nAdelie,Biscoe,37.7,18.7,180,3600,MALE\\nAdelie,Biscoe,35.9,19.2,189,3800,FEMALE\\nAdelie,Biscoe,38.2,18.1,185,3950,MALE\\nAdelie,Biscoe,38.8,17.2,180,3800,MALE\\nAdelie,Biscoe,35.3,18.9,187,3800,FEMALE\\nAdelie,Biscoe,40.6,18.6,183,3550,MALE\\nAdelie,Biscoe,40.5,17.9,187,3200,FEMALE\\nAdelie,Biscoe,37.9,18.6,172,3150,FEMALE\\nAdelie,Biscoe,40.5,18.9,180,3950,MALE\\nAdelie,Dream,39.5,16.7,178,3250,FEMALE\\nAdelie,Dream,37.2,18.1,178,3900,MALE\\nAdelie,Dream,39.5,17.8,188,3300,FEMALE\\nAdelie,Dream,40.9,18.9,184,3900,MALE\\nAdelie,Dream,36.4,17,195,3325,FEMALE\\nAdelie,Dream,39.2,21.1,196,4150,MALE\\nAdelie,Dream,38.8,20,190,3950,MALE\\nAdelie,Dream,42.2,18.5,180,3550,FEMALE\\nAdelie,Dream,37.6,19.3,181,3300,FEMALE\\nAdelie,Dream,39.8,19.1,184,4650,MALE\\nAdelie,Dream,36.5,18,182,3150,FEMALE\\nAdelie,Dream,40.8,18.4,195,3900,MALE\\nAdelie,Dream,36,18.5,186,3100,FEMALE\\nAdelie,Dream,44.1,19.7,196,4400,MALE\\nAdelie,Dream,37,16.9,185,3000,FEMALE\\nAdelie,Dream,39.6,18.8,190,4600,MALE\\nAdelie,Dream,41.1,19,182,3425,MALE\\nAdelie,Dream,37.5,18.9,179,2975,NA\\nAdelie,Dream,36,17.9,190,3450,FEMALE\\nAdelie,Dream,42.3,21.2,191,4150,MALE\\nAdelie,Biscoe,39.6,17.7,186,3500,FEMALE\\nAdelie,Biscoe,40.1,18.9,188,4300,MALE\\nAdelie,Biscoe,35,17.9,190,3450,FEMALE\\nAdelie,Biscoe,42,19.5,200,4050,MALE\\nAdelie,Biscoe,34.5,18.1,187,2900,FEMALE\\nAdelie,Biscoe,41.4,18.6,191,3700,MALE\\nAdelie,Biscoe,39,17.5,186,3550,FEMALE\\nAdelie,Biscoe,40.6,18.8,193,3800,MALE\\nAdelie,Biscoe,36.5,16.6,181,2850,FEMALE\\nAdelie,Biscoe,37.6,19.1,194,3750,MALE\\nAdelie,Biscoe,35.7,16.9,185,3150,FEMALE\\nAdelie,Biscoe,41.3,21.1,195,4400,MALE\\nAdelie,Biscoe,37.6,17,185,3600,FEMALE\\nAdelie,Biscoe,41.1,18.2,192,4050,MALE\\nAdelie,Biscoe,36.4,17.1,184,2850,FEMALE\\nAdelie,Biscoe,41.6,18,192,3950,MALE\\nAdelie,Biscoe,35.5,16.2,195,3350,FEMALE\\nAdelie,Biscoe,41.1,19.1,188,4100,MALE\\nAdelie,Torgersen,35.9,16.6,190,3050,FEMALE\\nAdelie,Torgersen,41.8,19.4,198,4450,MALE\\nAdelie,Torgersen,33.5,19,190,3600,FEMALE\\nAdelie,Torgersen,39.7,18.4,190,3900,MALE\\nAdelie,Torgersen,39.6,17.2,196,3550,FEMALE\\nAdelie,Torgersen,45.8,18.9,197,4150,MALE\\nAdelie,Torgersen,35.5,17.5,190,3700,FEMALE\\nAdelie,Torgersen,42.8,18.5,195,4250,MALE\\nAdelie,Torgersen,40.9,16.8,191,3700,FEMALE\\nAdelie,Torgersen,37.2,19.4,184,3900,MALE\\nAdelie,Torgersen,36.2,16.1,187,3550,FEMALE\\nAdelie,Torgersen,42.1,19.1,195,4000,MALE\\nAdelie,Torgersen,34.6,17.2,189,3200,FEMALE\\nAdelie,Torgersen,42.9,17.6,196,4700,MALE\\nAdelie,Torgersen,36.7,18.8,187,3800,FEMALE\\nAdelie,Torgersen,35.1,19.4,193,4200,MALE\\nAdelie,Dream,37.3,17.8,191,3350,FEMALE\\nAdelie,Dream,41.3,20.3,194,3550,MALE\\nAdelie,Dream,36.3,19.5,190,3800,MALE\\nAdelie,Dream,36.9,18.6,189,3500,FEMALE\\nAdelie,Dream,38.3,19.2,189,3950,MALE\\nAdelie,Dream,38.9,18.8,190,3600,FEMALE\\nAdelie,Dream,35.7,18,202,3550,FEMALE\\nAdelie,Dream,41.1,18.1,205,4300,MALE\\nAdelie,Dream,34,17.1,185,3400,FEMALE\\nAdelie,Dream,39.6,18.1,186,4450,MALE\\nAdelie,Dream,36.2,17.3,187,3300,FEMALE\\nAdelie,Dream,40.8,18.9,208,4300,MALE\\nAdelie,Dream,38.1,18.6,190,3700,FEMALE\\nAdelie,Dream,40.3,18.5,196,4350,MALE\\nAdelie,Dream,33.1,16.1,178,2900,FEMALE\\nAdelie,Dream,43.2,18.5,192,4100,MALE\\nAdelie,Biscoe,35,17.9,192,3725,FEMALE\\nAdelie,Biscoe,41,20,203,4725,MALE\\nAdelie,Biscoe,37.7,16,183,3075,FEMALE\\nAdelie,Biscoe,37.8,20,190,4250,MALE\\nAdelie,Biscoe,37.9,18.6,193,2925,FEMALE\\nAdelie,Biscoe,39.7,18.9,184,3550,MALE\\nAdelie,Biscoe,38.6,17.2,199,3750,FEMALE\\nAdelie,Biscoe,38.2,20,190,3900,MALE\\nAdelie,Biscoe,38.1,17,181,3175,FEMALE\\nAdelie,Biscoe,43.2,19,197,4775,MALE\\nAdelie,Biscoe,38.1,16.5,198,3825,FEMALE\\nAdelie,Biscoe,45.6,20.3,191,4600,MALE\\nAdelie,Biscoe,39.7,17.7,193,3200,FEMALE\\nAdelie,Biscoe,42.2,19.5,197,4275,MALE\\nAdelie,Biscoe,39.6,20.7,191,3900,FEMALE\\nAdelie,Biscoe,42.7,18.3,196,4075,MALE\\nAdelie,Torgersen,38.6,17,188,2900,FEMALE\\nAdelie,Torgersen,37.3,20.5,199,3775,MALE\\nAdelie,Torgersen,35.7,17,189,3350,FEMALE\\nAdelie,Torgersen,41.1,18.6,189,3325,MALE\\nAdelie,Torgersen,36.2,17.2,187,3150,FEMALE\\nAdelie,Torgersen,37.7,19.8,198,3500,MALE\\nAdelie,Torgersen,40.2,17,176,3450,FEMALE\\nAdelie,Torgersen,41.4,18.5,202,3875,MALE\\nAdelie,Torgersen,35.2,15.9,186,3050,FEMALE\\nAdelie,Torgersen,40.6,19,199,4000,MALE\\nAdelie,Torgersen,38.8,17.6,191,3275,FEMALE\\nAdelie,Torgersen,41.5,18.3,195,4300,MALE\\nAdelie,Torgersen,39,17.1,191,3050,FEMALE\\nAdelie,Torgersen,44.1,18,210,4000,MALE\\nAdelie,Torgersen,38.5,17.9,190,3325,FEMALE\\nAdelie,Torgersen,43.1,19.2,197,3500,MALE\\nAdelie,Dream,36.8,18.5,193,3500,FEMALE\\nAdelie,Dream,37.5,18.5,199,4475,MALE\\nAdelie,Dream,38.1,17.6,187,3425,FEMALE\\nAdelie,Dream,41.1,17.5,190,3900,MALE\\nAdelie,Dream,35.6,17.5,191,3175,FEMALE\\nAdelie,Dream,40.2,20.1,200,3975,MALE\\nAdelie,Dream,37,16.5,185,3400,FEMALE\\nAdelie,Dream,39.7,17.9,193,4250,MALE\\nAdelie,Dream,40.2,17.1,193,3400,FEMALE\\nAdelie,Dream,40.6,17.2,187,3475,MALE\\nAdelie,Dream,32.1,15.5,188,3050,FEMALE\\nAdelie,Dream,40.7,17,190,3725,MALE\\nAdelie,Dream,37.3,16.8,192,3000,FEMALE\\nAdelie,Dream,39,18.7,185,3650,MALE\\nAdelie,Dream,39.2,18.6,190,4250,MALE\\nAdelie,Dream,36.6,18.4,184,3475,FEMALE\\nAdelie,Dream,36,17.8,195,3450,FEMALE\\nAdelie,Dream,37.8,18.1,193,3750,MALE\\nAdelie,Dream,36,17.1,187,3700,FEMALE\\nAdelie,Dream,41.5,18.5,201,4000,MALE\\nChinstrap,Dream,46.5,17.9,192,3500,FEMALE\\nChinstrap,Dream,50,19.5,196,3900,MALE\\nChinstrap,Dream,51.3,19.2,193,3650,MALE\\nChinstrap,Dream,45.4,18.7,188,3525,FEMALE\\nChinstrap,Dream,52.7,19.8,197,3725,MALE\\nChinstrap,Dream,45.2,17.8,198,3950,FEMALE\\nChinstrap,Dream,46.1,18.2,178,3250,FEMALE\\nChinstrap,Dream,51.3,18.2,197,3750,MALE\\nChinstrap,Dream,46,18.9,195,4150,FEMALE\\nChinstrap,Dream,51.3,19.9,198,3700,MALE\\nChinstrap,Dream,46.6,17.8,193,3800,FEMALE\\nChinstrap,Dream,51.7,20.3,194,3775,MALE\\nChinstrap,Dream,47,17.3,185,3700,FEMALE\\nChinstrap,Dream,52,18.1,201,4050,MALE\\nChinstrap,Dream,45.9,17.1,190,3575,FEMALE\\nChinstrap,Dream,50.5,19.6,201,4050,MALE\\nChinstrap,Dream,50.3,20,197,3300,MALE\\nChinstrap,Dream,58,17.8,181,3700,FEMALE\\nChinstrap,Dream,46.4,18.6,190,3450,FEMALE\\nChinstrap,Dream,49.2,18.2,195,4400,MALE\\nChinstrap,Dream,42.4,17.3,181,3600,FEMALE\\nChinstrap,Dream,48.5,17.5,191,3400,MALE\\nChinstrap,Dream,43.2,16.6,187,2900,FEMALE\\nChinstrap,Dream,50.6,19.4,193,3800,MALE\\nChinstrap,Dream,46.7,17.9,195,3300,FEMALE\\nChinstrap,Dream,52,19,197,4150,MALE\\nChinstrap,Dream,50.5,18.4,200,3400,FEMALE\\nChinstrap,Dream,49.5,19,200,3800,MALE\\nChinstrap,Dream,46.4,17.8,191,3700,FEMALE\\nChinstrap,Dream,52.8,20,205,4550,MALE\\nChinstrap,Dream,40.9,16.6,187,3200,FEMALE\\nChinstrap,Dream,54.2,20.8,201,4300,MALE\\nChinstrap,Dream,42.5,16.7,187,3350,FEMALE\\nChinstrap,Dream,51,18.8,203,4100,MALE\\nChinstrap,Dream,49.7,18.6,195,3600,MALE\\nChinstrap,Dream,47.5,16.8,199,3900,FEMALE\\nChinstrap,Dream,47.6,18.3,195,3850,FEMALE\\nChinstrap,Dream,52,20.7,210,4800,MALE\\nChinstrap,Dream,46.9,16.6,192,2700,FEMALE\\nChinstrap,Dream,53.5,19.9,205,4500,MALE\\nChinstrap,Dream,49,19.5,210,3950,MALE\\nChinstrap,Dream,46.2,17.5,187,3650,FEMALE\\nChinstrap,Dream,50.9,19.1,196,3550,MALE\\nChinstrap,Dream,45.5,17,196,3500,FEMALE\\nChinstrap,Dream,50.9,17.9,196,3675,FEMALE\\nChinstrap,Dream,50.8,18.5,201,4450,MALE\\nChinstrap,Dream,50.1,17.9,190,3400,FEMALE\\nChinstrap,Dream,49,19.6,212,4300,MALE\\nChinstrap,Dream,51.5,18.7,187,3250,MALE\\nChinstrap,Dream,49.8,17.3,198,3675,FEMALE\\nChinstrap,Dream,48.1,16.4,199,3325,FEMALE\\nChinstrap,Dream,51.4,19,201,3950,MALE\\nChinstrap,Dream,45.7,17.3,193,3600,FEMALE\\nChinstrap,Dream,50.7,19.7,203,4050,MALE\\nChinstrap,Dream,42.5,17.3,187,3350,FEMALE\\nChinstrap,Dream,52.2,18.8,197,3450,MALE\\nChinstrap,Dream,45.2,16.6,191,3250,FEMALE\\nChinstrap,Dream,49.3,19.9,203,4050,MALE\\nChinstrap,Dream,50.2,18.8,202,3800,MALE\\nChinstrap,Dream,45.6,19.4,194,3525,FEMALE\\nChinstrap,Dream,51.9,19.5,206,3950,MALE\\nChinstrap,Dream,46.8,16.5,189,3650,FEMALE\\nChinstrap,Dream,45.7,17,195,3650,FEMALE\\nChinstrap,Dream,55.8,19.8,207,4000,MALE\\nChinstrap,Dream,43.5,18.1,202,3400,FEMALE\\nChinstrap,Dream,49.6,18.2,193,3775,MALE\\nChinstrap,Dream,50.8,19,210,4100,MALE\\nChinstrap,Dream,50.2,18.7,198,3775,FEMALE\\nGentoo,Biscoe,46.1,13.2,211,4500,FEMALE\\nGentoo,Biscoe,50,16.3,230,5700,MALE\\nGentoo,Biscoe,48.7,14.1,210,4450,FEMALE\\nGentoo,Biscoe,50,15.2,218,5700,MALE\\nGentoo,Biscoe,47.6,14.5,215,5400,MALE\\nGentoo,Biscoe,46.5,13.5,210,4550,FEMALE\\nGentoo,Biscoe,45.4,14.6,211,4800,FEMALE\\nGentoo,Biscoe,46.7,15.3,219,5200,MALE\\nGentoo,Biscoe,43.3,13.4,209,4400,FEMALE\\nGentoo,Biscoe,46.8,15.4,215,5150,MALE\\nGentoo,Biscoe,40.9,13.7,214,4650,FEMALE\\nGentoo,Biscoe,49,16.1,216,5550,MALE\\nGentoo,Biscoe,45.5,13.7,214,4650,FEMALE\\nGentoo,Biscoe,48.4,14.6,213,5850,MALE\\nGentoo,Biscoe,45.8,14.6,210,4200,FEMALE\\nGentoo,Biscoe,49.3,15.7,217,5850,MALE\\nGentoo,Biscoe,42,13.5,210,4150,FEMALE\\nGentoo,Biscoe,49.2,15.2,221,6300,MALE\\nGentoo,Biscoe,46.2,14.5,209,4800,FEMALE\\nGentoo,Biscoe,48.7,15.1,222,5350,MALE\\nGentoo,Biscoe,50.2,14.3,218,5700,MALE\\nGentoo,Biscoe,45.1,14.5,215,5000,FEMALE\\nGentoo,Biscoe,46.5,14.5,213,4400,FEMALE\\nGentoo,Biscoe,46.3,15.8,215,5050,MALE\\nGentoo,Biscoe,42.9,13.1,215,5000,FEMALE\\nGentoo,Biscoe,46.1,15.1,215,5100,MALE\\nGentoo,Biscoe,44.5,14.3,216,4100,NA\\nGentoo,Biscoe,47.8,15,215,5650,MALE\\nGentoo,Biscoe,48.2,14.3,210,4600,FEMALE\\nGentoo,Biscoe,50,15.3,220,5550,MALE\\nGentoo,Biscoe,47.3,15.3,222,5250,MALE\\nGentoo,Biscoe,42.8,14.2,209,4700,FEMALE\\nGentoo,Biscoe,45.1,14.5,207,5050,FEMALE\\nGentoo,Biscoe,59.6,17,230,6050,MALE\\nGentoo,Biscoe,49.1,14.8,220,5150,FEMALE\\nGentoo,Biscoe,48.4,16.3,220,5400,MALE\\nGentoo,Biscoe,42.6,13.7,213,4950,FEMALE\\nGentoo,Biscoe,44.4,17.3,219,5250,MALE\\nGentoo,Biscoe,44,13.6,208,4350,FEMALE\\nGentoo,Biscoe,48.7,15.7,208,5350,MALE\\nGentoo,Biscoe,42.7,13.7,208,3950,FEMALE\\nGentoo,Biscoe,49.6,16,225,5700,MALE\\nGentoo,Biscoe,45.3,13.7,210,4300,FEMALE\\nGentoo,Biscoe,49.6,15,216,4750,MALE\\nGentoo,Biscoe,50.5,15.9,222,5550,MALE\\nGentoo,Biscoe,43.6,13.9,217,4900,FEMALE\\nGentoo,Biscoe,45.5,13.9,210,4200,FEMALE\\nGentoo,Biscoe,50.5,15.9,225,5400,MALE\\nGentoo,Biscoe,44.9,13.3,213,5100,FEMALE\\nGentoo,Biscoe,45.2,15.8,215,5300,MALE\\nGentoo,Biscoe,46.6,14.2,210,4850,FEMALE\\nGentoo,Biscoe,48.5,14.1,220,5300,MALE\\nGentoo,Biscoe,45.1,14.4,210,4400,FEMALE\\nGentoo,Biscoe,50.1,15,225,5000,MALE\\nGentoo,Biscoe,46.5,14.4,217,4900,FEMALE\\nGentoo,Biscoe,45,15.4,220,5050,MALE\\nGentoo,Biscoe,43.8,13.9,208,4300,FEMALE\\nGentoo,Biscoe,45.5,15,220,5000,MALE\\nGentoo,Biscoe,43.2,14.5,208,4450,FEMALE\\nGentoo,Biscoe,50.4,15.3,224,5550,MALE\\nGentoo,Biscoe,45.3,13.8,208,4200,FEMALE\\nGentoo,Biscoe,46.2,14.9,221,5300,MALE\\nGentoo,Biscoe,45.7,13.9,214,4400,FEMALE\\nGentoo,Biscoe,54.3,15.7,231,5650,MALE\\nGentoo,Biscoe,45.8,14.2,219,4700,FEMALE\\nGentoo,Biscoe,49.8,16.8,230,5700,MALE\\nGentoo,Biscoe,46.2,14.4,214,4650,NA\\nGentoo,Biscoe,49.5,16.2,229,5800,MALE\\nGentoo,Biscoe,43.5,14.2,220,4700,FEMALE\\nGentoo,Biscoe,50.7,15,223,5550,MALE\\nGentoo,Biscoe,47.7,15,216,4750,FEMALE\\nGentoo,Biscoe,46.4,15.6,221,5000,MALE\\nGentoo,Biscoe,48.2,15.6,221,5100,MALE\\nGentoo,Biscoe,46.5,14.8,217,5200,FEMALE\\nGentoo,Biscoe,46.4,15,216,4700,FEMALE\\nGentoo,Biscoe,48.6,16,230,5800,MALE\\nGentoo,Biscoe,47.5,14.2,209,4600,FEMALE\\nGentoo,Biscoe,51.1,16.3,220,6000,MALE\\nGentoo,Biscoe,45.2,13.8,215,4750,FEMALE\\nGentoo,Biscoe,45.2,16.4,223,5950,MALE\\nGentoo,Biscoe,49.1,14.5,212,4625,FEMALE\\nGentoo,Biscoe,52.5,15.6,221,5450,MALE\\nGentoo,Biscoe,47.4,14.6,212,4725,FEMALE\\nGentoo,Biscoe,50,15.9,224,5350,MALE\\nGentoo,Biscoe,44.9,13.8,212,4750,FEMALE\\nGentoo,Biscoe,50.8,17.3,228,5600,MALE\\nGentoo,Biscoe,43.4,14.4,218,4600,FEMALE\\nGentoo,Biscoe,51.3,14.2,218,5300,MALE\\nGentoo,Biscoe,47.5,14,212,4875,FEMALE\\nGentoo,Biscoe,52.1,17,230,5550,MALE\\nGentoo,Biscoe,47.5,15,218,4950,FEMALE\\nGentoo,Biscoe,52.2,17.1,228,5400,MALE\\nGentoo,Biscoe,45.5,14.5,212,4750,FEMALE\\nGentoo,Biscoe,49.5,16.1,224,5650,MALE\\nGentoo,Biscoe,44.5,14.7,214,4850,FEMALE\\nGentoo,Biscoe,50.8,15.7,226,5200,MALE\\nGentoo,Biscoe,49.4,15.8,216,4925,MALE\\nGentoo,Biscoe,46.9,14.6,222,4875,FEMALE\\nGentoo,Biscoe,48.4,14.4,203,4625,FEMALE\\nGentoo,Biscoe,51.1,16.5,225,5250,MALE\\nGentoo,Biscoe,48.5,15,219,4850,FEMALE\\nGentoo,Biscoe,55.9,17,228,5600,MALE\\nGentoo,Biscoe,47.2,15.5,215,4975,FEMALE\\nGentoo,Biscoe,49.1,15,228,5500,MALE\\nGentoo,Biscoe,47.3,13.8,216,4725,NA\\nGentoo,Biscoe,46.8,16.1,215,5500,MALE\\nGentoo,Biscoe,41.7,14.7,210,4700,FEMALE\\nGentoo,Biscoe,53.4,15.8,219,5500,MALE\\nGentoo,Biscoe,43.3,14,208,4575,FEMALE\\nGentoo,Biscoe,48.1,15.1,209,5500,MALE\\nGentoo,Biscoe,50.5,15.2,216,5000,FEMALE\\nGentoo,Biscoe,49.8,15.9,229,5950,MALE\\nGentoo,Biscoe,43.5,15.2,213,4650,FEMALE\\nGentoo,Biscoe,51.5,16.3,230,5500,MALE\\nGentoo,Biscoe,46.2,14.1,217,4375,FEMALE\\nGentoo,Biscoe,55.1,16,230,5850,MALE\\nGentoo,Biscoe,44.5,15.7,217,4875,.\\nGentoo,Biscoe,48.8,16.2,222,6000,MALE\\nGentoo,Biscoe,47.2,13.7,214,4925,FEMALE\\nGentoo,Biscoe,NA,NA,NA,NA,NA\\nGentoo,Biscoe,46.8,14.3,215,4850,FEMALE\\nGentoo,Biscoe,50.4,15.7,222,5750,MALE\\nGentoo,Biscoe,45.2,14.8,212,5200,FEMALE\\nGentoo,Biscoe,49.9,16.1,213,5400,MALE\\n'}"
            ]
          },
          "metadata": {},
          "execution_count": 3
        }
      ]
    },
    {
      "cell_type": "code",
      "execution_count": 4,
      "metadata": {
        "id": "jvrRogERa1LJ"
      },
      "outputs": [],
      "source": [
        "data = pd.read_csv('penguins_size.csv')"
      ]
    },
    {
      "cell_type": "markdown",
      "source": [
        "Наша база данных о [пингвинах](https://www.kaggle.com/datasets/parulpandey/palmer-archipelago-antarctica-penguin-data)"
      ],
      "metadata": {
        "id": "Oj5tGyMHIrTm"
      }
    },
    {
      "cell_type": "markdown",
      "source": [
        "Описание набора данных:\n",
        "\n",
        "species: виды пингвинов  (Антарктический, Адели или Субантарктический)\n",
        "\n",
        "culmen_length_mm: длина клюва (мм)\n",
        "\n",
        "culmen_depth_mm: высота клюва (мм)\n",
        "\n",
        "flipper_length_mm: длина плавника (мм)\n",
        "\n",
        "body_mass_g: масса тела (г)\n",
        "\n",
        "island: название острова на Палмере\n",
        "\n",
        "sex: пол пингвина"
      ],
      "metadata": {
        "id": "c2MHAu_fJLdW"
      }
    },
    {
      "cell_type": "markdown",
      "source": [
        "Размер набора данных:"
      ],
      "metadata": {
        "id": "uT1qJepMLM_i"
      }
    },
    {
      "cell_type": "code",
      "source": [
        "data.shape"
      ],
      "metadata": {
        "colab": {
          "base_uri": "https://localhost:8080/"
        },
        "id": "P-Vhghp8iLDs",
        "outputId": "75f52815-e9f3-4908-bad4-105469084663"
      },
      "execution_count": 6,
      "outputs": [
        {
          "output_type": "execute_result",
          "data": {
            "text/plain": [
              "(344, 7)"
            ]
          },
          "metadata": {},
          "execution_count": 6
        }
      ]
    },
    {
      "cell_type": "markdown",
      "source": [
        "Типы колонок:"
      ],
      "metadata": {
        "id": "1ozBHE70LPyC"
      }
    },
    {
      "cell_type": "code",
      "source": [
        "data.dtypes"
      ],
      "metadata": {
        "colab": {
          "base_uri": "https://localhost:8080/"
        },
        "id": "1mzmuuoSiS6g",
        "outputId": "d32a45b2-4fc4-4046-f03d-0b6595132a47"
      },
      "execution_count": 7,
      "outputs": [
        {
          "output_type": "execute_result",
          "data": {
            "text/plain": [
              "species               object\n",
              "island                object\n",
              "culmen_length_mm     float64\n",
              "culmen_depth_mm      float64\n",
              "flipper_length_mm    float64\n",
              "body_mass_g          float64\n",
              "sex                   object\n",
              "dtype: object"
            ]
          },
          "metadata": {},
          "execution_count": 7
        }
      ]
    },
    {
      "cell_type": "markdown",
      "source": [
        "Проверим, есть ли пропущенные значения:"
      ],
      "metadata": {
        "id": "eNhbob_pLSrb"
      }
    },
    {
      "cell_type": "code",
      "source": [
        "data.isnull().sum()"
      ],
      "metadata": {
        "colab": {
          "base_uri": "https://localhost:8080/"
        },
        "id": "w9baCxlTdJIg",
        "outputId": "69934c89-0a56-409e-b2cb-5a10070ac102"
      },
      "execution_count": 5,
      "outputs": [
        {
          "output_type": "execute_result",
          "data": {
            "text/plain": [
              "species               0\n",
              "island                0\n",
              "culmen_length_mm      2\n",
              "culmen_depth_mm       2\n",
              "flipper_length_mm     2\n",
              "body_mass_g           2\n",
              "sex                  10\n",
              "dtype: int64"
            ]
          },
          "metadata": {},
          "execution_count": 5
        }
      ]
    },
    {
      "cell_type": "markdown",
      "source": [
        "Первые 5 строк датасета:"
      ],
      "metadata": {
        "id": "Sn238gJULXja"
      }
    },
    {
      "cell_type": "code",
      "source": [
        "data.head()"
      ],
      "metadata": {
        "colab": {
          "base_uri": "https://localhost:8080/",
          "height": 206
        },
        "id": "P6VkMffKiU0F",
        "outputId": "277ee17f-0f32-46f4-fdfd-51c7cacd907d"
      },
      "execution_count": 8,
      "outputs": [
        {
          "output_type": "execute_result",
          "data": {
            "text/plain": [
              "  species     island  culmen_length_mm  culmen_depth_mm  flipper_length_mm  \\\n",
              "0  Adelie  Torgersen              39.1             18.7              181.0   \n",
              "1  Adelie  Torgersen              39.5             17.4              186.0   \n",
              "2  Adelie  Torgersen              40.3             18.0              195.0   \n",
              "3  Adelie  Torgersen               NaN              NaN                NaN   \n",
              "4  Adelie  Torgersen              36.7             19.3              193.0   \n",
              "\n",
              "   body_mass_g     sex  \n",
              "0       3750.0    MALE  \n",
              "1       3800.0  FEMALE  \n",
              "2       3250.0  FEMALE  \n",
              "3          NaN     NaN  \n",
              "4       3450.0  FEMALE  "
            ],
            "text/html": [
              "\n",
              "  <div id=\"df-b5847a54-376a-48c0-bdbb-f91de95b8648\">\n",
              "    <div class=\"colab-df-container\">\n",
              "      <div>\n",
              "<style scoped>\n",
              "    .dataframe tbody tr th:only-of-type {\n",
              "        vertical-align: middle;\n",
              "    }\n",
              "\n",
              "    .dataframe tbody tr th {\n",
              "        vertical-align: top;\n",
              "    }\n",
              "\n",
              "    .dataframe thead th {\n",
              "        text-align: right;\n",
              "    }\n",
              "</style>\n",
              "<table border=\"1\" class=\"dataframe\">\n",
              "  <thead>\n",
              "    <tr style=\"text-align: right;\">\n",
              "      <th></th>\n",
              "      <th>species</th>\n",
              "      <th>island</th>\n",
              "      <th>culmen_length_mm</th>\n",
              "      <th>culmen_depth_mm</th>\n",
              "      <th>flipper_length_mm</th>\n",
              "      <th>body_mass_g</th>\n",
              "      <th>sex</th>\n",
              "    </tr>\n",
              "  </thead>\n",
              "  <tbody>\n",
              "    <tr>\n",
              "      <th>0</th>\n",
              "      <td>Adelie</td>\n",
              "      <td>Torgersen</td>\n",
              "      <td>39.1</td>\n",
              "      <td>18.7</td>\n",
              "      <td>181.0</td>\n",
              "      <td>3750.0</td>\n",
              "      <td>MALE</td>\n",
              "    </tr>\n",
              "    <tr>\n",
              "      <th>1</th>\n",
              "      <td>Adelie</td>\n",
              "      <td>Torgersen</td>\n",
              "      <td>39.5</td>\n",
              "      <td>17.4</td>\n",
              "      <td>186.0</td>\n",
              "      <td>3800.0</td>\n",
              "      <td>FEMALE</td>\n",
              "    </tr>\n",
              "    <tr>\n",
              "      <th>2</th>\n",
              "      <td>Adelie</td>\n",
              "      <td>Torgersen</td>\n",
              "      <td>40.3</td>\n",
              "      <td>18.0</td>\n",
              "      <td>195.0</td>\n",
              "      <td>3250.0</td>\n",
              "      <td>FEMALE</td>\n",
              "    </tr>\n",
              "    <tr>\n",
              "      <th>3</th>\n",
              "      <td>Adelie</td>\n",
              "      <td>Torgersen</td>\n",
              "      <td>NaN</td>\n",
              "      <td>NaN</td>\n",
              "      <td>NaN</td>\n",
              "      <td>NaN</td>\n",
              "      <td>NaN</td>\n",
              "    </tr>\n",
              "    <tr>\n",
              "      <th>4</th>\n",
              "      <td>Adelie</td>\n",
              "      <td>Torgersen</td>\n",
              "      <td>36.7</td>\n",
              "      <td>19.3</td>\n",
              "      <td>193.0</td>\n",
              "      <td>3450.0</td>\n",
              "      <td>FEMALE</td>\n",
              "    </tr>\n",
              "  </tbody>\n",
              "</table>\n",
              "</div>\n",
              "      <button class=\"colab-df-convert\" onclick=\"convertToInteractive('df-b5847a54-376a-48c0-bdbb-f91de95b8648')\"\n",
              "              title=\"Convert this dataframe to an interactive table.\"\n",
              "              style=\"display:none;\">\n",
              "        \n",
              "  <svg xmlns=\"http://www.w3.org/2000/svg\" height=\"24px\"viewBox=\"0 0 24 24\"\n",
              "       width=\"24px\">\n",
              "    <path d=\"M0 0h24v24H0V0z\" fill=\"none\"/>\n",
              "    <path d=\"M18.56 5.44l.94 2.06.94-2.06 2.06-.94-2.06-.94-.94-2.06-.94 2.06-2.06.94zm-11 1L8.5 8.5l.94-2.06 2.06-.94-2.06-.94L8.5 2.5l-.94 2.06-2.06.94zm10 10l.94 2.06.94-2.06 2.06-.94-2.06-.94-.94-2.06-.94 2.06-2.06.94z\"/><path d=\"M17.41 7.96l-1.37-1.37c-.4-.4-.92-.59-1.43-.59-.52 0-1.04.2-1.43.59L10.3 9.45l-7.72 7.72c-.78.78-.78 2.05 0 2.83L4 21.41c.39.39.9.59 1.41.59.51 0 1.02-.2 1.41-.59l7.78-7.78 2.81-2.81c.8-.78.8-2.07 0-2.86zM5.41 20L4 18.59l7.72-7.72 1.47 1.35L5.41 20z\"/>\n",
              "  </svg>\n",
              "      </button>\n",
              "      \n",
              "  <style>\n",
              "    .colab-df-container {\n",
              "      display:flex;\n",
              "      flex-wrap:wrap;\n",
              "      gap: 12px;\n",
              "    }\n",
              "\n",
              "    .colab-df-convert {\n",
              "      background-color: #E8F0FE;\n",
              "      border: none;\n",
              "      border-radius: 50%;\n",
              "      cursor: pointer;\n",
              "      display: none;\n",
              "      fill: #1967D2;\n",
              "      height: 32px;\n",
              "      padding: 0 0 0 0;\n",
              "      width: 32px;\n",
              "    }\n",
              "\n",
              "    .colab-df-convert:hover {\n",
              "      background-color: #E2EBFA;\n",
              "      box-shadow: 0px 1px 2px rgba(60, 64, 67, 0.3), 0px 1px 3px 1px rgba(60, 64, 67, 0.15);\n",
              "      fill: #174EA6;\n",
              "    }\n",
              "\n",
              "    [theme=dark] .colab-df-convert {\n",
              "      background-color: #3B4455;\n",
              "      fill: #D2E3FC;\n",
              "    }\n",
              "\n",
              "    [theme=dark] .colab-df-convert:hover {\n",
              "      background-color: #434B5C;\n",
              "      box-shadow: 0px 1px 3px 1px rgba(0, 0, 0, 0.15);\n",
              "      filter: drop-shadow(0px 1px 2px rgba(0, 0, 0, 0.3));\n",
              "      fill: #FFFFFF;\n",
              "    }\n",
              "  </style>\n",
              "\n",
              "      <script>\n",
              "        const buttonEl =\n",
              "          document.querySelector('#df-b5847a54-376a-48c0-bdbb-f91de95b8648 button.colab-df-convert');\n",
              "        buttonEl.style.display =\n",
              "          google.colab.kernel.accessAllowed ? 'block' : 'none';\n",
              "\n",
              "        async function convertToInteractive(key) {\n",
              "          const element = document.querySelector('#df-b5847a54-376a-48c0-bdbb-f91de95b8648');\n",
              "          const dataTable =\n",
              "            await google.colab.kernel.invokeFunction('convertToInteractive',\n",
              "                                                     [key], {});\n",
              "          if (!dataTable) return;\n",
              "\n",
              "          const docLinkHtml = 'Like what you see? Visit the ' +\n",
              "            '<a target=\"_blank\" href=https://colab.research.google.com/notebooks/data_table.ipynb>data table notebook</a>'\n",
              "            + ' to learn more about interactive tables.';\n",
              "          element.innerHTML = '';\n",
              "          dataTable['output_type'] = 'display_data';\n",
              "          await google.colab.output.renderOutput(dataTable, element);\n",
              "          const docLink = document.createElement('div');\n",
              "          docLink.innerHTML = docLinkHtml;\n",
              "          element.appendChild(docLink);\n",
              "        }\n",
              "      </script>\n",
              "    </div>\n",
              "  </div>\n",
              "  "
            ]
          },
          "metadata": {},
          "execution_count": 8
        }
      ]
    },
    {
      "cell_type": "markdown",
      "source": [
        "## **Обработка пропусков в данных**"
      ],
      "metadata": {
        "id": "QpJLD2HKLbhD"
      }
    },
    {
      "cell_type": "markdown",
      "source": [
        "### **Простые стратегии - удаление или заполнение нулями**"
      ],
      "metadata": {
        "id": "F5UB2pKILe3Y"
      }
    },
    {
      "cell_type": "markdown",
      "source": [
        "Удаление колонок, содержащих пустые значения:"
      ],
      "metadata": {
        "id": "ChMyyiinLm8I"
      }
    },
    {
      "cell_type": "code",
      "source": [
        "data_new_1 = data.dropna(axis=1, how='any')\n",
        "(data.shape, data_new_1.shape)"
      ],
      "metadata": {
        "colab": {
          "base_uri": "https://localhost:8080/"
        },
        "id": "5cyotMA0kXko",
        "outputId": "47ed7c99-177b-45ee-ae60-4340514d673d"
      },
      "execution_count": 85,
      "outputs": [
        {
          "output_type": "execute_result",
          "data": {
            "text/plain": [
              "((344, 7), (344, 2))"
            ]
          },
          "metadata": {},
          "execution_count": 85
        }
      ]
    },
    {
      "cell_type": "markdown",
      "source": [
        "Удаление строк, содержащих пустые значения:"
      ],
      "metadata": {
        "id": "F4joUaeGLtWw"
      }
    },
    {
      "cell_type": "code",
      "source": [
        "data_new_2 = data.dropna(axis=0, how='any')\n",
        "(data.shape, data_new_2.shape)"
      ],
      "metadata": {
        "colab": {
          "base_uri": "https://localhost:8080/"
        },
        "id": "kC01zwqIkZdK",
        "outputId": "b0ade098-97aa-4f15-c2b6-ac27f43dd4f4"
      },
      "execution_count": 86,
      "outputs": [
        {
          "output_type": "execute_result",
          "data": {
            "text/plain": [
              "((344, 7), (334, 7))"
            ]
          },
          "metadata": {},
          "execution_count": 86
        }
      ]
    },
    {
      "cell_type": "code",
      "source": [
        "data.head()"
      ],
      "metadata": {
        "colab": {
          "base_uri": "https://localhost:8080/",
          "height": 206
        },
        "id": "idSSrzrVL2nB",
        "outputId": "f0388d37-6b54-47d6-ea33-06c06aeeed17"
      },
      "execution_count": 87,
      "outputs": [
        {
          "output_type": "execute_result",
          "data": {
            "text/plain": [
              "  species     island  culmen_length_mm  culmen_depth_mm  flipper_length_mm  \\\n",
              "0  Adelie  Torgersen              39.1             18.7              181.0   \n",
              "1  Adelie  Torgersen              39.5             17.4              186.0   \n",
              "2  Adelie  Torgersen              40.3             18.0              195.0   \n",
              "3  Adelie  Torgersen               NaN              NaN                NaN   \n",
              "4  Adelie  Torgersen              36.7             19.3              193.0   \n",
              "\n",
              "   body_mass_g     sex  \n",
              "0       3750.0    MALE  \n",
              "1       3800.0  FEMALE  \n",
              "2       3250.0  FEMALE  \n",
              "3          NaN     NaN  \n",
              "4       3450.0  FEMALE  "
            ],
            "text/html": [
              "\n",
              "  <div id=\"df-2203ba8c-6217-4a25-a886-3f41ccef78d7\">\n",
              "    <div class=\"colab-df-container\">\n",
              "      <div>\n",
              "<style scoped>\n",
              "    .dataframe tbody tr th:only-of-type {\n",
              "        vertical-align: middle;\n",
              "    }\n",
              "\n",
              "    .dataframe tbody tr th {\n",
              "        vertical-align: top;\n",
              "    }\n",
              "\n",
              "    .dataframe thead th {\n",
              "        text-align: right;\n",
              "    }\n",
              "</style>\n",
              "<table border=\"1\" class=\"dataframe\">\n",
              "  <thead>\n",
              "    <tr style=\"text-align: right;\">\n",
              "      <th></th>\n",
              "      <th>species</th>\n",
              "      <th>island</th>\n",
              "      <th>culmen_length_mm</th>\n",
              "      <th>culmen_depth_mm</th>\n",
              "      <th>flipper_length_mm</th>\n",
              "      <th>body_mass_g</th>\n",
              "      <th>sex</th>\n",
              "    </tr>\n",
              "  </thead>\n",
              "  <tbody>\n",
              "    <tr>\n",
              "      <th>0</th>\n",
              "      <td>Adelie</td>\n",
              "      <td>Torgersen</td>\n",
              "      <td>39.1</td>\n",
              "      <td>18.7</td>\n",
              "      <td>181.0</td>\n",
              "      <td>3750.0</td>\n",
              "      <td>MALE</td>\n",
              "    </tr>\n",
              "    <tr>\n",
              "      <th>1</th>\n",
              "      <td>Adelie</td>\n",
              "      <td>Torgersen</td>\n",
              "      <td>39.5</td>\n",
              "      <td>17.4</td>\n",
              "      <td>186.0</td>\n",
              "      <td>3800.0</td>\n",
              "      <td>FEMALE</td>\n",
              "    </tr>\n",
              "    <tr>\n",
              "      <th>2</th>\n",
              "      <td>Adelie</td>\n",
              "      <td>Torgersen</td>\n",
              "      <td>40.3</td>\n",
              "      <td>18.0</td>\n",
              "      <td>195.0</td>\n",
              "      <td>3250.0</td>\n",
              "      <td>FEMALE</td>\n",
              "    </tr>\n",
              "    <tr>\n",
              "      <th>3</th>\n",
              "      <td>Adelie</td>\n",
              "      <td>Torgersen</td>\n",
              "      <td>NaN</td>\n",
              "      <td>NaN</td>\n",
              "      <td>NaN</td>\n",
              "      <td>NaN</td>\n",
              "      <td>NaN</td>\n",
              "    </tr>\n",
              "    <tr>\n",
              "      <th>4</th>\n",
              "      <td>Adelie</td>\n",
              "      <td>Torgersen</td>\n",
              "      <td>36.7</td>\n",
              "      <td>19.3</td>\n",
              "      <td>193.0</td>\n",
              "      <td>3450.0</td>\n",
              "      <td>FEMALE</td>\n",
              "    </tr>\n",
              "  </tbody>\n",
              "</table>\n",
              "</div>\n",
              "      <button class=\"colab-df-convert\" onclick=\"convertToInteractive('df-2203ba8c-6217-4a25-a886-3f41ccef78d7')\"\n",
              "              title=\"Convert this dataframe to an interactive table.\"\n",
              "              style=\"display:none;\">\n",
              "        \n",
              "  <svg xmlns=\"http://www.w3.org/2000/svg\" height=\"24px\"viewBox=\"0 0 24 24\"\n",
              "       width=\"24px\">\n",
              "    <path d=\"M0 0h24v24H0V0z\" fill=\"none\"/>\n",
              "    <path d=\"M18.56 5.44l.94 2.06.94-2.06 2.06-.94-2.06-.94-.94-2.06-.94 2.06-2.06.94zm-11 1L8.5 8.5l.94-2.06 2.06-.94-2.06-.94L8.5 2.5l-.94 2.06-2.06.94zm10 10l.94 2.06.94-2.06 2.06-.94-2.06-.94-.94-2.06-.94 2.06-2.06.94z\"/><path d=\"M17.41 7.96l-1.37-1.37c-.4-.4-.92-.59-1.43-.59-.52 0-1.04.2-1.43.59L10.3 9.45l-7.72 7.72c-.78.78-.78 2.05 0 2.83L4 21.41c.39.39.9.59 1.41.59.51 0 1.02-.2 1.41-.59l7.78-7.78 2.81-2.81c.8-.78.8-2.07 0-2.86zM5.41 20L4 18.59l7.72-7.72 1.47 1.35L5.41 20z\"/>\n",
              "  </svg>\n",
              "      </button>\n",
              "      \n",
              "  <style>\n",
              "    .colab-df-container {\n",
              "      display:flex;\n",
              "      flex-wrap:wrap;\n",
              "      gap: 12px;\n",
              "    }\n",
              "\n",
              "    .colab-df-convert {\n",
              "      background-color: #E8F0FE;\n",
              "      border: none;\n",
              "      border-radius: 50%;\n",
              "      cursor: pointer;\n",
              "      display: none;\n",
              "      fill: #1967D2;\n",
              "      height: 32px;\n",
              "      padding: 0 0 0 0;\n",
              "      width: 32px;\n",
              "    }\n",
              "\n",
              "    .colab-df-convert:hover {\n",
              "      background-color: #E2EBFA;\n",
              "      box-shadow: 0px 1px 2px rgba(60, 64, 67, 0.3), 0px 1px 3px 1px rgba(60, 64, 67, 0.15);\n",
              "      fill: #174EA6;\n",
              "    }\n",
              "\n",
              "    [theme=dark] .colab-df-convert {\n",
              "      background-color: #3B4455;\n",
              "      fill: #D2E3FC;\n",
              "    }\n",
              "\n",
              "    [theme=dark] .colab-df-convert:hover {\n",
              "      background-color: #434B5C;\n",
              "      box-shadow: 0px 1px 3px 1px rgba(0, 0, 0, 0.15);\n",
              "      filter: drop-shadow(0px 1px 2px rgba(0, 0, 0, 0.3));\n",
              "      fill: #FFFFFF;\n",
              "    }\n",
              "  </style>\n",
              "\n",
              "      <script>\n",
              "        const buttonEl =\n",
              "          document.querySelector('#df-2203ba8c-6217-4a25-a886-3f41ccef78d7 button.colab-df-convert');\n",
              "        buttonEl.style.display =\n",
              "          google.colab.kernel.accessAllowed ? 'block' : 'none';\n",
              "\n",
              "        async function convertToInteractive(key) {\n",
              "          const element = document.querySelector('#df-2203ba8c-6217-4a25-a886-3f41ccef78d7');\n",
              "          const dataTable =\n",
              "            await google.colab.kernel.invokeFunction('convertToInteractive',\n",
              "                                                     [key], {});\n",
              "          if (!dataTable) return;\n",
              "\n",
              "          const docLinkHtml = 'Like what you see? Visit the ' +\n",
              "            '<a target=\"_blank\" href=https://colab.research.google.com/notebooks/data_table.ipynb>data table notebook</a>'\n",
              "            + ' to learn more about interactive tables.';\n",
              "          element.innerHTML = '';\n",
              "          dataTable['output_type'] = 'display_data';\n",
              "          await google.colab.output.renderOutput(dataTable, element);\n",
              "          const docLink = document.createElement('div');\n",
              "          docLink.innerHTML = docLinkHtml;\n",
              "          element.appendChild(docLink);\n",
              "        }\n",
              "      </script>\n",
              "    </div>\n",
              "  </div>\n",
              "  "
            ]
          },
          "metadata": {},
          "execution_count": 87
        }
      ]
    },
    {
      "cell_type": "markdown",
      "source": [
        "Заполнение всех пропущенных значений нулями (некорректно в данном случае):"
      ],
      "metadata": {
        "id": "xmt2AYctMFCI"
      }
    },
    {
      "cell_type": "code",
      "source": [
        "data_new_3 = data.fillna(0)\n",
        "data_new_3.head()"
      ],
      "metadata": {
        "colab": {
          "base_uri": "https://localhost:8080/",
          "height": 206
        },
        "id": "77hHdqRnMDCz",
        "outputId": "eb768ebe-c779-41bf-a803-1bebd4877c2a"
      },
      "execution_count": 88,
      "outputs": [
        {
          "output_type": "execute_result",
          "data": {
            "text/plain": [
              "  species     island  culmen_length_mm  culmen_depth_mm  flipper_length_mm  \\\n",
              "0  Adelie  Torgersen              39.1             18.7              181.0   \n",
              "1  Adelie  Torgersen              39.5             17.4              186.0   \n",
              "2  Adelie  Torgersen              40.3             18.0              195.0   \n",
              "3  Adelie  Torgersen               0.0              0.0                0.0   \n",
              "4  Adelie  Torgersen              36.7             19.3              193.0   \n",
              "\n",
              "   body_mass_g     sex  \n",
              "0       3750.0    MALE  \n",
              "1       3800.0  FEMALE  \n",
              "2       3250.0  FEMALE  \n",
              "3          0.0       0  \n",
              "4       3450.0  FEMALE  "
            ],
            "text/html": [
              "\n",
              "  <div id=\"df-c42b1b0e-d043-4096-bcc1-17f276183e93\">\n",
              "    <div class=\"colab-df-container\">\n",
              "      <div>\n",
              "<style scoped>\n",
              "    .dataframe tbody tr th:only-of-type {\n",
              "        vertical-align: middle;\n",
              "    }\n",
              "\n",
              "    .dataframe tbody tr th {\n",
              "        vertical-align: top;\n",
              "    }\n",
              "\n",
              "    .dataframe thead th {\n",
              "        text-align: right;\n",
              "    }\n",
              "</style>\n",
              "<table border=\"1\" class=\"dataframe\">\n",
              "  <thead>\n",
              "    <tr style=\"text-align: right;\">\n",
              "      <th></th>\n",
              "      <th>species</th>\n",
              "      <th>island</th>\n",
              "      <th>culmen_length_mm</th>\n",
              "      <th>culmen_depth_mm</th>\n",
              "      <th>flipper_length_mm</th>\n",
              "      <th>body_mass_g</th>\n",
              "      <th>sex</th>\n",
              "    </tr>\n",
              "  </thead>\n",
              "  <tbody>\n",
              "    <tr>\n",
              "      <th>0</th>\n",
              "      <td>Adelie</td>\n",
              "      <td>Torgersen</td>\n",
              "      <td>39.1</td>\n",
              "      <td>18.7</td>\n",
              "      <td>181.0</td>\n",
              "      <td>3750.0</td>\n",
              "      <td>MALE</td>\n",
              "    </tr>\n",
              "    <tr>\n",
              "      <th>1</th>\n",
              "      <td>Adelie</td>\n",
              "      <td>Torgersen</td>\n",
              "      <td>39.5</td>\n",
              "      <td>17.4</td>\n",
              "      <td>186.0</td>\n",
              "      <td>3800.0</td>\n",
              "      <td>FEMALE</td>\n",
              "    </tr>\n",
              "    <tr>\n",
              "      <th>2</th>\n",
              "      <td>Adelie</td>\n",
              "      <td>Torgersen</td>\n",
              "      <td>40.3</td>\n",
              "      <td>18.0</td>\n",
              "      <td>195.0</td>\n",
              "      <td>3250.0</td>\n",
              "      <td>FEMALE</td>\n",
              "    </tr>\n",
              "    <tr>\n",
              "      <th>3</th>\n",
              "      <td>Adelie</td>\n",
              "      <td>Torgersen</td>\n",
              "      <td>0.0</td>\n",
              "      <td>0.0</td>\n",
              "      <td>0.0</td>\n",
              "      <td>0.0</td>\n",
              "      <td>0</td>\n",
              "    </tr>\n",
              "    <tr>\n",
              "      <th>4</th>\n",
              "      <td>Adelie</td>\n",
              "      <td>Torgersen</td>\n",
              "      <td>36.7</td>\n",
              "      <td>19.3</td>\n",
              "      <td>193.0</td>\n",
              "      <td>3450.0</td>\n",
              "      <td>FEMALE</td>\n",
              "    </tr>\n",
              "  </tbody>\n",
              "</table>\n",
              "</div>\n",
              "      <button class=\"colab-df-convert\" onclick=\"convertToInteractive('df-c42b1b0e-d043-4096-bcc1-17f276183e93')\"\n",
              "              title=\"Convert this dataframe to an interactive table.\"\n",
              "              style=\"display:none;\">\n",
              "        \n",
              "  <svg xmlns=\"http://www.w3.org/2000/svg\" height=\"24px\"viewBox=\"0 0 24 24\"\n",
              "       width=\"24px\">\n",
              "    <path d=\"M0 0h24v24H0V0z\" fill=\"none\"/>\n",
              "    <path d=\"M18.56 5.44l.94 2.06.94-2.06 2.06-.94-2.06-.94-.94-2.06-.94 2.06-2.06.94zm-11 1L8.5 8.5l.94-2.06 2.06-.94-2.06-.94L8.5 2.5l-.94 2.06-2.06.94zm10 10l.94 2.06.94-2.06 2.06-.94-2.06-.94-.94-2.06-.94 2.06-2.06.94z\"/><path d=\"M17.41 7.96l-1.37-1.37c-.4-.4-.92-.59-1.43-.59-.52 0-1.04.2-1.43.59L10.3 9.45l-7.72 7.72c-.78.78-.78 2.05 0 2.83L4 21.41c.39.39.9.59 1.41.59.51 0 1.02-.2 1.41-.59l7.78-7.78 2.81-2.81c.8-.78.8-2.07 0-2.86zM5.41 20L4 18.59l7.72-7.72 1.47 1.35L5.41 20z\"/>\n",
              "  </svg>\n",
              "      </button>\n",
              "      \n",
              "  <style>\n",
              "    .colab-df-container {\n",
              "      display:flex;\n",
              "      flex-wrap:wrap;\n",
              "      gap: 12px;\n",
              "    }\n",
              "\n",
              "    .colab-df-convert {\n",
              "      background-color: #E8F0FE;\n",
              "      border: none;\n",
              "      border-radius: 50%;\n",
              "      cursor: pointer;\n",
              "      display: none;\n",
              "      fill: #1967D2;\n",
              "      height: 32px;\n",
              "      padding: 0 0 0 0;\n",
              "      width: 32px;\n",
              "    }\n",
              "\n",
              "    .colab-df-convert:hover {\n",
              "      background-color: #E2EBFA;\n",
              "      box-shadow: 0px 1px 2px rgba(60, 64, 67, 0.3), 0px 1px 3px 1px rgba(60, 64, 67, 0.15);\n",
              "      fill: #174EA6;\n",
              "    }\n",
              "\n",
              "    [theme=dark] .colab-df-convert {\n",
              "      background-color: #3B4455;\n",
              "      fill: #D2E3FC;\n",
              "    }\n",
              "\n",
              "    [theme=dark] .colab-df-convert:hover {\n",
              "      background-color: #434B5C;\n",
              "      box-shadow: 0px 1px 3px 1px rgba(0, 0, 0, 0.15);\n",
              "      filter: drop-shadow(0px 1px 2px rgba(0, 0, 0, 0.3));\n",
              "      fill: #FFFFFF;\n",
              "    }\n",
              "  </style>\n",
              "\n",
              "      <script>\n",
              "        const buttonEl =\n",
              "          document.querySelector('#df-c42b1b0e-d043-4096-bcc1-17f276183e93 button.colab-df-convert');\n",
              "        buttonEl.style.display =\n",
              "          google.colab.kernel.accessAllowed ? 'block' : 'none';\n",
              "\n",
              "        async function convertToInteractive(key) {\n",
              "          const element = document.querySelector('#df-c42b1b0e-d043-4096-bcc1-17f276183e93');\n",
              "          const dataTable =\n",
              "            await google.colab.kernel.invokeFunction('convertToInteractive',\n",
              "                                                     [key], {});\n",
              "          if (!dataTable) return;\n",
              "\n",
              "          const docLinkHtml = 'Like what you see? Visit the ' +\n",
              "            '<a target=\"_blank\" href=https://colab.research.google.com/notebooks/data_table.ipynb>data table notebook</a>'\n",
              "            + ' to learn more about interactive tables.';\n",
              "          element.innerHTML = '';\n",
              "          dataTable['output_type'] = 'display_data';\n",
              "          await google.colab.output.renderOutput(dataTable, element);\n",
              "          const docLink = document.createElement('div');\n",
              "          docLink.innerHTML = docLinkHtml;\n",
              "          element.appendChild(docLink);\n",
              "        }\n",
              "      </script>\n",
              "    </div>\n",
              "  </div>\n",
              "  "
            ]
          },
          "metadata": {},
          "execution_count": 88
        }
      ]
    },
    {
      "cell_type": "markdown",
      "source": [
        "### **\"Внедрение значений\" - импьютация (imputation)**"
      ],
      "metadata": {
        "id": "Fapr8atEMUCw"
      }
    },
    {
      "cell_type": "markdown",
      "source": [
        "**Обработка пропусков в числовых данных**"
      ],
      "metadata": {
        "id": "kKLwiuddMYYF"
      }
    },
    {
      "cell_type": "markdown",
      "source": [
        "Выберем числовые колонки с пропущенными значениями:"
      ],
      "metadata": {
        "id": "J2oZPjQEMdq_"
      }
    },
    {
      "cell_type": "code",
      "source": [
        "total_count = data.shape[0]\n",
        "num_cols = []\n",
        "for col in data.columns:\n",
        "    # Количество пустых значений \n",
        "    temp_null_count = data[data[col].isnull()].shape[0]\n",
        "    dt = str(data[col].dtype)\n",
        "    if temp_null_count>0 and (dt=='float64' or dt=='int64'):\n",
        "        num_cols.append(col)\n",
        "        temp_perc = round((temp_null_count / total_count) * 100.0, 2)\n",
        "        print('Колонка {}. Тип данных {}. Количество пустых значений {}, {}%.'.format(col, dt, temp_null_count, temp_perc))"
      ],
      "metadata": {
        "colab": {
          "base_uri": "https://localhost:8080/"
        },
        "id": "SU95E4Tjksmq",
        "outputId": "f4c11b21-0ac3-4eca-968f-93300e1c05de"
      },
      "execution_count": 11,
      "outputs": [
        {
          "output_type": "stream",
          "name": "stdout",
          "text": [
            "Колонка culmen_length_mm. Тип данных float64. Количество пустых значений 2, 0.58%.\n",
            "Колонка culmen_depth_mm. Тип данных float64. Количество пустых значений 2, 0.58%.\n",
            "Колонка flipper_length_mm. Тип данных float64. Количество пустых значений 2, 0.58%.\n",
            "Колонка body_mass_g. Тип данных float64. Количество пустых значений 2, 0.58%.\n"
          ]
        }
      ]
    },
    {
      "cell_type": "markdown",
      "source": [
        "Фильтр по колонкам с пропущенными значениями:"
      ],
      "metadata": {
        "id": "UIHr3y5iMmmM"
      }
    },
    {
      "cell_type": "code",
      "source": [
        "data_num = data[num_cols]\n",
        "data_num"
      ],
      "metadata": {
        "colab": {
          "base_uri": "https://localhost:8080/",
          "height": 423
        },
        "id": "sn_0YfAFwtMt",
        "outputId": "16a2135e-25ac-49f9-8642-48f010b23a7d"
      },
      "execution_count": 12,
      "outputs": [
        {
          "output_type": "execute_result",
          "data": {
            "text/plain": [
              "     culmen_length_mm  culmen_depth_mm  flipper_length_mm  body_mass_g\n",
              "0                39.1             18.7              181.0       3750.0\n",
              "1                39.5             17.4              186.0       3800.0\n",
              "2                40.3             18.0              195.0       3250.0\n",
              "3                 NaN              NaN                NaN          NaN\n",
              "4                36.7             19.3              193.0       3450.0\n",
              "..                ...              ...                ...          ...\n",
              "339               NaN              NaN                NaN          NaN\n",
              "340              46.8             14.3              215.0       4850.0\n",
              "341              50.4             15.7              222.0       5750.0\n",
              "342              45.2             14.8              212.0       5200.0\n",
              "343              49.9             16.1              213.0       5400.0\n",
              "\n",
              "[344 rows x 4 columns]"
            ],
            "text/html": [
              "\n",
              "  <div id=\"df-00f6577a-1d93-4486-95e8-72fea54acbd3\">\n",
              "    <div class=\"colab-df-container\">\n",
              "      <div>\n",
              "<style scoped>\n",
              "    .dataframe tbody tr th:only-of-type {\n",
              "        vertical-align: middle;\n",
              "    }\n",
              "\n",
              "    .dataframe tbody tr th {\n",
              "        vertical-align: top;\n",
              "    }\n",
              "\n",
              "    .dataframe thead th {\n",
              "        text-align: right;\n",
              "    }\n",
              "</style>\n",
              "<table border=\"1\" class=\"dataframe\">\n",
              "  <thead>\n",
              "    <tr style=\"text-align: right;\">\n",
              "      <th></th>\n",
              "      <th>culmen_length_mm</th>\n",
              "      <th>culmen_depth_mm</th>\n",
              "      <th>flipper_length_mm</th>\n",
              "      <th>body_mass_g</th>\n",
              "    </tr>\n",
              "  </thead>\n",
              "  <tbody>\n",
              "    <tr>\n",
              "      <th>0</th>\n",
              "      <td>39.1</td>\n",
              "      <td>18.7</td>\n",
              "      <td>181.0</td>\n",
              "      <td>3750.0</td>\n",
              "    </tr>\n",
              "    <tr>\n",
              "      <th>1</th>\n",
              "      <td>39.5</td>\n",
              "      <td>17.4</td>\n",
              "      <td>186.0</td>\n",
              "      <td>3800.0</td>\n",
              "    </tr>\n",
              "    <tr>\n",
              "      <th>2</th>\n",
              "      <td>40.3</td>\n",
              "      <td>18.0</td>\n",
              "      <td>195.0</td>\n",
              "      <td>3250.0</td>\n",
              "    </tr>\n",
              "    <tr>\n",
              "      <th>3</th>\n",
              "      <td>NaN</td>\n",
              "      <td>NaN</td>\n",
              "      <td>NaN</td>\n",
              "      <td>NaN</td>\n",
              "    </tr>\n",
              "    <tr>\n",
              "      <th>4</th>\n",
              "      <td>36.7</td>\n",
              "      <td>19.3</td>\n",
              "      <td>193.0</td>\n",
              "      <td>3450.0</td>\n",
              "    </tr>\n",
              "    <tr>\n",
              "      <th>...</th>\n",
              "      <td>...</td>\n",
              "      <td>...</td>\n",
              "      <td>...</td>\n",
              "      <td>...</td>\n",
              "    </tr>\n",
              "    <tr>\n",
              "      <th>339</th>\n",
              "      <td>NaN</td>\n",
              "      <td>NaN</td>\n",
              "      <td>NaN</td>\n",
              "      <td>NaN</td>\n",
              "    </tr>\n",
              "    <tr>\n",
              "      <th>340</th>\n",
              "      <td>46.8</td>\n",
              "      <td>14.3</td>\n",
              "      <td>215.0</td>\n",
              "      <td>4850.0</td>\n",
              "    </tr>\n",
              "    <tr>\n",
              "      <th>341</th>\n",
              "      <td>50.4</td>\n",
              "      <td>15.7</td>\n",
              "      <td>222.0</td>\n",
              "      <td>5750.0</td>\n",
              "    </tr>\n",
              "    <tr>\n",
              "      <th>342</th>\n",
              "      <td>45.2</td>\n",
              "      <td>14.8</td>\n",
              "      <td>212.0</td>\n",
              "      <td>5200.0</td>\n",
              "    </tr>\n",
              "    <tr>\n",
              "      <th>343</th>\n",
              "      <td>49.9</td>\n",
              "      <td>16.1</td>\n",
              "      <td>213.0</td>\n",
              "      <td>5400.0</td>\n",
              "    </tr>\n",
              "  </tbody>\n",
              "</table>\n",
              "<p>344 rows × 4 columns</p>\n",
              "</div>\n",
              "      <button class=\"colab-df-convert\" onclick=\"convertToInteractive('df-00f6577a-1d93-4486-95e8-72fea54acbd3')\"\n",
              "              title=\"Convert this dataframe to an interactive table.\"\n",
              "              style=\"display:none;\">\n",
              "        \n",
              "  <svg xmlns=\"http://www.w3.org/2000/svg\" height=\"24px\"viewBox=\"0 0 24 24\"\n",
              "       width=\"24px\">\n",
              "    <path d=\"M0 0h24v24H0V0z\" fill=\"none\"/>\n",
              "    <path d=\"M18.56 5.44l.94 2.06.94-2.06 2.06-.94-2.06-.94-.94-2.06-.94 2.06-2.06.94zm-11 1L8.5 8.5l.94-2.06 2.06-.94-2.06-.94L8.5 2.5l-.94 2.06-2.06.94zm10 10l.94 2.06.94-2.06 2.06-.94-2.06-.94-.94-2.06-.94 2.06-2.06.94z\"/><path d=\"M17.41 7.96l-1.37-1.37c-.4-.4-.92-.59-1.43-.59-.52 0-1.04.2-1.43.59L10.3 9.45l-7.72 7.72c-.78.78-.78 2.05 0 2.83L4 21.41c.39.39.9.59 1.41.59.51 0 1.02-.2 1.41-.59l7.78-7.78 2.81-2.81c.8-.78.8-2.07 0-2.86zM5.41 20L4 18.59l7.72-7.72 1.47 1.35L5.41 20z\"/>\n",
              "  </svg>\n",
              "      </button>\n",
              "      \n",
              "  <style>\n",
              "    .colab-df-container {\n",
              "      display:flex;\n",
              "      flex-wrap:wrap;\n",
              "      gap: 12px;\n",
              "    }\n",
              "\n",
              "    .colab-df-convert {\n",
              "      background-color: #E8F0FE;\n",
              "      border: none;\n",
              "      border-radius: 50%;\n",
              "      cursor: pointer;\n",
              "      display: none;\n",
              "      fill: #1967D2;\n",
              "      height: 32px;\n",
              "      padding: 0 0 0 0;\n",
              "      width: 32px;\n",
              "    }\n",
              "\n",
              "    .colab-df-convert:hover {\n",
              "      background-color: #E2EBFA;\n",
              "      box-shadow: 0px 1px 2px rgba(60, 64, 67, 0.3), 0px 1px 3px 1px rgba(60, 64, 67, 0.15);\n",
              "      fill: #174EA6;\n",
              "    }\n",
              "\n",
              "    [theme=dark] .colab-df-convert {\n",
              "      background-color: #3B4455;\n",
              "      fill: #D2E3FC;\n",
              "    }\n",
              "\n",
              "    [theme=dark] .colab-df-convert:hover {\n",
              "      background-color: #434B5C;\n",
              "      box-shadow: 0px 1px 3px 1px rgba(0, 0, 0, 0.15);\n",
              "      filter: drop-shadow(0px 1px 2px rgba(0, 0, 0, 0.3));\n",
              "      fill: #FFFFFF;\n",
              "    }\n",
              "  </style>\n",
              "\n",
              "      <script>\n",
              "        const buttonEl =\n",
              "          document.querySelector('#df-00f6577a-1d93-4486-95e8-72fea54acbd3 button.colab-df-convert');\n",
              "        buttonEl.style.display =\n",
              "          google.colab.kernel.accessAllowed ? 'block' : 'none';\n",
              "\n",
              "        async function convertToInteractive(key) {\n",
              "          const element = document.querySelector('#df-00f6577a-1d93-4486-95e8-72fea54acbd3');\n",
              "          const dataTable =\n",
              "            await google.colab.kernel.invokeFunction('convertToInteractive',\n",
              "                                                     [key], {});\n",
              "          if (!dataTable) return;\n",
              "\n",
              "          const docLinkHtml = 'Like what you see? Visit the ' +\n",
              "            '<a target=\"_blank\" href=https://colab.research.google.com/notebooks/data_table.ipynb>data table notebook</a>'\n",
              "            + ' to learn more about interactive tables.';\n",
              "          element.innerHTML = '';\n",
              "          dataTable['output_type'] = 'display_data';\n",
              "          await google.colab.output.renderOutput(dataTable, element);\n",
              "          const docLink = document.createElement('div');\n",
              "          docLink.innerHTML = docLinkHtml;\n",
              "          element.appendChild(docLink);\n",
              "        }\n",
              "      </script>\n",
              "    </div>\n",
              "  </div>\n",
              "  "
            ]
          },
          "metadata": {},
          "execution_count": 12
        }
      ]
    },
    {
      "cell_type": "markdown",
      "source": [
        "Гистограмма по признакам:"
      ],
      "metadata": {
        "id": "nSsLeeQCMpDV"
      }
    },
    {
      "cell_type": "code",
      "source": [
        "for col in data_num:\n",
        "    plt.hist(data[col], 50)\n",
        "    plt.xlabel(col)\n",
        "    plt.show()"
      ],
      "metadata": {
        "colab": {
          "base_uri": "https://localhost:8080/",
          "height": 1000
        },
        "id": "Ygq-_RIfxXiR",
        "outputId": "117be0ff-4e4d-4f3e-9142-60cb2c4ff366"
      },
      "execution_count": 13,
      "outputs": [
        {
          "output_type": "display_data",
          "data": {
            "text/plain": [
              "<Figure size 432x288 with 1 Axes>"
            ],
            "image/png": "[encoded data removed]"
          },
          "metadata": {
            "needs_background": "light"
          }
        },
        {
          "output_type": "display_data",
          "data": {
            "text/plain": [
              "<Figure size 432x288 with 1 Axes>"
            ],
            "image/png": "[encoded data removed]"
          },
          "metadata": {
            "needs_background": "light"
          }
        },
        {
          "output_type": "display_data",
          "data": {
            "text/plain": [
              "<Figure size 432x288 with 1 Axes>"
            ],
            "image/png": "[encoded data removed]"
          },
          "metadata": {
            "needs_background": "light"
          }
        },
        {
          "output_type": "display_data",
          "data": {
            "text/plain": [
              "<Figure size 432x288 with 1 Axes>"
            ],
            "image/png": "[encoded data removed]"
          },
          "metadata": {
            "needs_background": "light"
          }
        }
      ]
    },
    {
      "cell_type": "code",
      "source": [
        "from sklearn.impute import SimpleImputer\n",
        "from sklearn.impute import MissingIndicator"
      ],
      "metadata": {
        "id": "EkFdUuHlx4BZ"
      },
      "execution_count": 17,
      "outputs": []
    },
    {
      "cell_type": "markdown",
      "source": [
        "Функция позволяет задавать колонку и вид импьютации:"
      ],
      "metadata": {
        "id": "XoqXH6jjM50U"
      }
    },
    {
      "cell_type": "code",
      "source": [
        "def test_num_impute_col(dataset, column, strategy_param):\n",
        "    temp_data = dataset[[column]]\n",
        "    \n",
        "    indicator = MissingIndicator()\n",
        "    mask_missing_values_only = indicator.fit_transform(temp_data)\n",
        "    \n",
        "    imp_num = SimpleImputer(strategy=strategy_param)\n",
        "    data_num_imp = imp_num.fit_transform(temp_data)\n",
        "    \n",
        "    filled_data = data_num_imp[mask_missing_values_only]\n",
        "    \n",
        "    return column, strategy_param, filled_data.size, filled_data[0], filled_data[filled_data.size-1]"
      ],
      "metadata": {
        "id": "qx7g427c5SeJ"
      },
      "execution_count": 52,
      "outputs": []
    },
    {
      "cell_type": "markdown",
      "source": [
        "Выполняем функцию для всех пропущенных чисел с разными стратегиями заполнения колонок:"
      ],
      "metadata": {
        "id": "VrWu4SWEM9uP"
      }
    },
    {
      "cell_type": "code",
      "source": [
        "test_num_impute_col(data, 'culmen_length_mm', 'mean')"
      ],
      "metadata": {
        "colab": {
          "base_uri": "https://localhost:8080/"
        },
        "id": "Ulhlmcg34vC8",
        "outputId": "1caaf3d8-1bf5-423a-86e0-d95fedf96124"
      },
      "execution_count": 53,
      "outputs": [
        {
          "output_type": "execute_result",
          "data": {
            "text/plain": [
              "('culmen_length_mm', 'mean', 2, 43.9219298245614, 43.9219298245614)"
            ]
          },
          "metadata": {},
          "execution_count": 53
        }
      ]
    },
    {
      "cell_type": "code",
      "source": [
        "test_num_impute_col(data, 'culmen_depth_mm', 'median')"
      ],
      "metadata": {
        "colab": {
          "base_uri": "https://localhost:8080/"
        },
        "id": "ONfwNkxK8uEs",
        "outputId": "b659cf6b-a69e-49dc-e383-60b533a6a610"
      },
      "execution_count": 54,
      "outputs": [
        {
          "output_type": "execute_result",
          "data": {
            "text/plain": [
              "('culmen_depth_mm', 'median', 2, 17.3, 17.3)"
            ]
          },
          "metadata": {},
          "execution_count": 54
        }
      ]
    },
    {
      "cell_type": "code",
      "source": [
        "test_num_impute_col(data, 'flipper_length_mm', 'most_frequent')"
      ],
      "metadata": {
        "colab": {
          "base_uri": "https://localhost:8080/"
        },
        "id": "1p1QSG2r88Rk",
        "outputId": "3da3f8c3-c1cc-444c-9685-e37e5570c6c1"
      },
      "execution_count": 55,
      "outputs": [
        {
          "output_type": "execute_result",
          "data": {
            "text/plain": [
              "('flipper_length_mm', 'most_frequent', 2, 190.0, 190.0)"
            ]
          },
          "metadata": {},
          "execution_count": 55
        }
      ]
    },
    {
      "cell_type": "code",
      "source": [
        "test_num_impute_col(data, 'body_mass_g', 'most_frequent')"
      ],
      "metadata": {
        "colab": {
          "base_uri": "https://localhost:8080/"
        },
        "id": "58_XOY7J9QqU",
        "outputId": "36204044-cf54-4754-9170-c928a178cc1e"
      },
      "execution_count": 56,
      "outputs": [
        {
          "output_type": "execute_result",
          "data": {
            "text/plain": [
              "('body_mass_g', 'most_frequent', 2, 3800.0, 3800.0)"
            ]
          },
          "metadata": {},
          "execution_count": 56
        }
      ]
    },
    {
      "cell_type": "markdown",
      "source": [
        "**Обработка пропусков в категориальных данных**"
      ],
      "metadata": {
        "id": "z2mMEWCF9_GX"
      }
    },
    {
      "cell_type": "markdown",
      "source": [
        "Выберем категориальные колонки с пропущенными значениями:"
      ],
      "metadata": {
        "id": "FPfPaty9NPly"
      }
    },
    {
      "cell_type": "code",
      "source": [
        "cat_cols = []\n",
        "for col in data.columns:\n",
        "    # Количество пустых значений \n",
        "    temp_null_count = data[data[col].isnull()].shape[0]\n",
        "    dt = str(data[col].dtype)\n",
        "    if temp_null_count>0 and (dt=='object'):\n",
        "        cat_cols.append(col)\n",
        "        temp_perc = round((temp_null_count / total_count) * 100.0, 2)\n",
        "        print('Колонка {}. Тип данных {}. Количество пустых значений {}, {}%.'.format(col, dt, temp_null_count, temp_perc))"
      ],
      "metadata": {
        "colab": {
          "base_uri": "https://localhost:8080/"
        },
        "id": "Pwd_8Ywd9-bI",
        "outputId": "8f411cdb-5416-43c4-daeb-beea5005d6ee"
      },
      "execution_count": 41,
      "outputs": [
        {
          "output_type": "stream",
          "name": "stdout",
          "text": [
            "Колонка sex. Тип данных object. Количество пустых значений 10, 2.91%.\n"
          ]
        }
      ]
    },
    {
      "cell_type": "code",
      "source": [
        "cat_temp_data = data[['sex']]\n",
        "cat_temp_data.head()"
      ],
      "metadata": {
        "colab": {
          "base_uri": "https://localhost:8080/",
          "height": 206
        },
        "id": "SP5chb0i-dzw",
        "outputId": "cea5b954-a3f7-48ed-fdd4-5a92a062c7f0"
      },
      "execution_count": 42,
      "outputs": [
        {
          "output_type": "execute_result",
          "data": {
            "text/plain": [
              "      sex\n",
              "0    MALE\n",
              "1  FEMALE\n",
              "2  FEMALE\n",
              "3     NaN\n",
              "4  FEMALE"
            ],
            "text/html": [
              "\n",
              "  <div id=\"df-22b6ebe5-2bd0-47fa-a8df-450fcab1f35b\">\n",
              "    <div class=\"colab-df-container\">\n",
              "      <div>\n",
              "<style scoped>\n",
              "    .dataframe tbody tr th:only-of-type {\n",
              "        vertical-align: middle;\n",
              "    }\n",
              "\n",
              "    .dataframe tbody tr th {\n",
              "        vertical-align: top;\n",
              "    }\n",
              "\n",
              "    .dataframe thead th {\n",
              "        text-align: right;\n",
              "    }\n",
              "</style>\n",
              "<table border=\"1\" class=\"dataframe\">\n",
              "  <thead>\n",
              "    <tr style=\"text-align: right;\">\n",
              "      <th></th>\n",
              "      <th>sex</th>\n",
              "    </tr>\n",
              "  </thead>\n",
              "  <tbody>\n",
              "    <tr>\n",
              "      <th>0</th>\n",
              "      <td>MALE</td>\n",
              "    </tr>\n",
              "    <tr>\n",
              "      <th>1</th>\n",
              "      <td>FEMALE</td>\n",
              "    </tr>\n",
              "    <tr>\n",
              "      <th>2</th>\n",
              "      <td>FEMALE</td>\n",
              "    </tr>\n",
              "    <tr>\n",
              "      <th>3</th>\n",
              "      <td>NaN</td>\n",
              "    </tr>\n",
              "    <tr>\n",
              "      <th>4</th>\n",
              "      <td>FEMALE</td>\n",
              "    </tr>\n",
              "  </tbody>\n",
              "</table>\n",
              "</div>\n",
              "      <button class=\"colab-df-convert\" onclick=\"convertToInteractive('df-22b6ebe5-2bd0-47fa-a8df-450fcab1f35b')\"\n",
              "              title=\"Convert this dataframe to an interactive table.\"\n",
              "              style=\"display:none;\">\n",
              "        \n",
              "  <svg xmlns=\"http://www.w3.org/2000/svg\" height=\"24px\"viewBox=\"0 0 24 24\"\n",
              "       width=\"24px\">\n",
              "    <path d=\"M0 0h24v24H0V0z\" fill=\"none\"/>\n",
              "    <path d=\"M18.56 5.44l.94 2.06.94-2.06 2.06-.94-2.06-.94-.94-2.06-.94 2.06-2.06.94zm-11 1L8.5 8.5l.94-2.06 2.06-.94-2.06-.94L8.5 2.5l-.94 2.06-2.06.94zm10 10l.94 2.06.94-2.06 2.06-.94-2.06-.94-.94-2.06-.94 2.06-2.06.94z\"/><path d=\"M17.41 7.96l-1.37-1.37c-.4-.4-.92-.59-1.43-.59-.52 0-1.04.2-1.43.59L10.3 9.45l-7.72 7.72c-.78.78-.78 2.05 0 2.83L4 21.41c.39.39.9.59 1.41.59.51 0 1.02-.2 1.41-.59l7.78-7.78 2.81-2.81c.8-.78.8-2.07 0-2.86zM5.41 20L4 18.59l7.72-7.72 1.47 1.35L5.41 20z\"/>\n",
              "  </svg>\n",
              "      </button>\n",
              "      \n",
              "  <style>\n",
              "    .colab-df-container {\n",
              "      display:flex;\n",
              "      flex-wrap:wrap;\n",
              "      gap: 12px;\n",
              "    }\n",
              "\n",
              "    .colab-df-convert {\n",
              "      background-color: #E8F0FE;\n",
              "      border: none;\n",
              "      border-radius: 50%;\n",
              "      cursor: pointer;\n",
              "      display: none;\n",
              "      fill: #1967D2;\n",
              "      height: 32px;\n",
              "      padding: 0 0 0 0;\n",
              "      width: 32px;\n",
              "    }\n",
              "\n",
              "    .colab-df-convert:hover {\n",
              "      background-color: #E2EBFA;\n",
              "      box-shadow: 0px 1px 2px rgba(60, 64, 67, 0.3), 0px 1px 3px 1px rgba(60, 64, 67, 0.15);\n",
              "      fill: #174EA6;\n",
              "    }\n",
              "\n",
              "    [theme=dark] .colab-df-convert {\n",
              "      background-color: #3B4455;\n",
              "      fill: #D2E3FC;\n",
              "    }\n",
              "\n",
              "    [theme=dark] .colab-df-convert:hover {\n",
              "      background-color: #434B5C;\n",
              "      box-shadow: 0px 1px 3px 1px rgba(0, 0, 0, 0.15);\n",
              "      filter: drop-shadow(0px 1px 2px rgba(0, 0, 0, 0.3));\n",
              "      fill: #FFFFFF;\n",
              "    }\n",
              "  </style>\n",
              "\n",
              "      <script>\n",
              "        const buttonEl =\n",
              "          document.querySelector('#df-22b6ebe5-2bd0-47fa-a8df-450fcab1f35b button.colab-df-convert');\n",
              "        buttonEl.style.display =\n",
              "          google.colab.kernel.accessAllowed ? 'block' : 'none';\n",
              "\n",
              "        async function convertToInteractive(key) {\n",
              "          const element = document.querySelector('#df-22b6ebe5-2bd0-47fa-a8df-450fcab1f35b');\n",
              "          const dataTable =\n",
              "            await google.colab.kernel.invokeFunction('convertToInteractive',\n",
              "                                                     [key], {});\n",
              "          if (!dataTable) return;\n",
              "\n",
              "          const docLinkHtml = 'Like what you see? Visit the ' +\n",
              "            '<a target=\"_blank\" href=https://colab.research.google.com/notebooks/data_table.ipynb>data table notebook</a>'\n",
              "            + ' to learn more about interactive tables.';\n",
              "          element.innerHTML = '';\n",
              "          dataTable['output_type'] = 'display_data';\n",
              "          await google.colab.output.renderOutput(dataTable, element);\n",
              "          const docLink = document.createElement('div');\n",
              "          docLink.innerHTML = docLinkHtml;\n",
              "          element.appendChild(docLink);\n",
              "        }\n",
              "      </script>\n",
              "    </div>\n",
              "  </div>\n",
              "  "
            ]
          },
          "metadata": {},
          "execution_count": 42
        }
      ]
    },
    {
      "cell_type": "code",
      "source": [
        "cat_temp_data['sex'].unique()"
      ],
      "metadata": {
        "colab": {
          "base_uri": "https://localhost:8080/"
        },
        "id": "PuMECXDE-lRu",
        "outputId": "2157d661-bdab-433c-dfef-581b64e9c349"
      },
      "execution_count": 43,
      "outputs": [
        {
          "output_type": "execute_result",
          "data": {
            "text/plain": [
              "array(['MALE', 'FEMALE', nan, '.'], dtype=object)"
            ]
          },
          "metadata": {},
          "execution_count": 43
        }
      ]
    },
    {
      "cell_type": "markdown",
      "source": [
        "Импьютация наиболее частыми значениями:"
      ],
      "metadata": {
        "id": "5BwRUVUCNT1x"
      }
    },
    {
      "cell_type": "code",
      "source": [
        "imp2 = SimpleImputer(missing_values=np.nan, strategy='most_frequent')\n",
        "data_imp2 = imp2.fit_transform(cat_temp_data)\n",
        "data_imp2"
      ],
      "metadata": {
        "colab": {
          "base_uri": "https://localhost:8080/"
        },
        "id": "Mtf_k-XD_ht_",
        "outputId": "9a6e4f38-b134-44af-bd32-4145c7bd6f9b"
      },
      "execution_count": 70,
      "outputs": [
        {
          "output_type": "execute_result",
          "data": {
            "text/plain": [
              "array([['MALE'],\n",
              "       ['FEMALE'],\n",
              "       ['FEMALE'],\n",
              "       ['MALE'],\n",
              "       ['FEMALE'],\n",
              "       ['MALE'],\n",
              "       ['FEMALE'],\n",
              "       ['MALE'],\n",
              "       ['MALE'],\n",
              "       ['MALE'],\n",
              "       ['MALE'],\n",
              "       ['MALE'],\n",
              "       ['FEMALE'],\n",
              "       ['MALE'],\n",
              "       ['MALE'],\n",
              "       ['FEMALE'],\n",
              "       ['FEMALE'],\n",
              "       ['MALE'],\n",
              "       ['FEMALE'],\n",
              "       ['MALE'],\n",
              "       ['FEMALE'],\n",
              "       ['MALE'],\n",
              "       ['FEMALE'],\n",
              "       ['MALE'],\n",
              "       ['MALE'],\n",
              "       ['FEMALE'],\n",
              "       ['MALE'],\n",
              "       ['FEMALE'],\n",
              "       ['FEMALE'],\n",
              "       ['MALE'],\n",
              "       ['FEMALE'],\n",
              "       ['MALE'],\n",
              "       ['FEMALE'],\n",
              "       ['MALE'],\n",
              "       ['FEMALE'],\n",
              "       ['MALE'],\n",
              "       ['MALE'],\n",
              "       ['FEMALE'],\n",
              "       ['FEMALE'],\n",
              "       ['MALE'],\n",
              "       ['FEMALE'],\n",
              "       ['MALE'],\n",
              "       ['FEMALE'],\n",
              "       ['MALE'],\n",
              "       ['FEMALE'],\n",
              "       ['MALE'],\n",
              "       ['MALE'],\n",
              "       ['MALE'],\n",
              "       ['FEMALE'],\n",
              "       ['MALE'],\n",
              "       ['FEMALE'],\n",
              "       ['MALE'],\n",
              "       ['FEMALE'],\n",
              "       ['MALE'],\n",
              "       ['FEMALE'],\n",
              "       ['MALE'],\n",
              "       ['FEMALE'],\n",
              "       ['MALE'],\n",
              "       ['FEMALE'],\n",
              "       ['MALE'],\n",
              "       ['FEMALE'],\n",
              "       ['MALE'],\n",
              "       ['FEMALE'],\n",
              "       ['MALE'],\n",
              "       ['FEMALE'],\n",
              "       ['MALE'],\n",
              "       ['FEMALE'],\n",
              "       ['MALE'],\n",
              "       ['FEMALE'],\n",
              "       ['MALE'],\n",
              "       ['FEMALE'],\n",
              "       ['MALE'],\n",
              "       ['FEMALE'],\n",
              "       ['MALE'],\n",
              "       ['FEMALE'],\n",
              "       ['MALE'],\n",
              "       ['FEMALE'],\n",
              "       ['MALE'],\n",
              "       ['FEMALE'],\n",
              "       ['MALE'],\n",
              "       ['FEMALE'],\n",
              "       ['MALE'],\n",
              "       ['FEMALE'],\n",
              "       ['MALE'],\n",
              "       ['FEMALE'],\n",
              "       ['MALE'],\n",
              "       ['MALE'],\n",
              "       ['FEMALE'],\n",
              "       ['MALE'],\n",
              "       ['FEMALE'],\n",
              "       ['FEMALE'],\n",
              "       ['MALE'],\n",
              "       ['FEMALE'],\n",
              "       ['MALE'],\n",
              "       ['FEMALE'],\n",
              "       ['MALE'],\n",
              "       ['FEMALE'],\n",
              "       ['MALE'],\n",
              "       ['FEMALE'],\n",
              "       ['MALE'],\n",
              "       ['FEMALE'],\n",
              "       ['MALE'],\n",
              "       ['FEMALE'],\n",
              "       ['MALE'],\n",
              "       ['FEMALE'],\n",
              "       ['MALE'],\n",
              "       ['FEMALE'],\n",
              "       ['MALE'],\n",
              "       ['FEMALE'],\n",
              "       ['MALE'],\n",
              "       ['FEMALE'],\n",
              "       ['MALE'],\n",
              "       ['FEMALE'],\n",
              "       ['MALE'],\n",
              "       ['FEMALE'],\n",
              "       ['MALE'],\n",
              "       ['FEMALE'],\n",
              "       ['MALE'],\n",
              "       ['FEMALE'],\n",
              "       ['MALE'],\n",
              "       ['FEMALE'],\n",
              "       ['MALE'],\n",
              "       ['FEMALE'],\n",
              "       ['MALE'],\n",
              "       ['FEMALE'],\n",
              "       ['MALE'],\n",
              "       ['FEMALE'],\n",
              "       ['MALE'],\n",
              "       ['FEMALE'],\n",
              "       ['MALE'],\n",
              "       ['FEMALE'],\n",
              "       ['MALE'],\n",
              "       ['FEMALE'],\n",
              "       ['MALE'],\n",
              "       ['FEMALE'],\n",
              "       ['MALE'],\n",
              "       ['FEMALE'],\n",
              "       ['MALE'],\n",
              "       ['FEMALE'],\n",
              "       ['MALE'],\n",
              "       ['FEMALE'],\n",
              "       ['MALE'],\n",
              "       ['FEMALE'],\n",
              "       ['MALE'],\n",
              "       ['FEMALE'],\n",
              "       ['MALE'],\n",
              "       ['MALE'],\n",
              "       ['FEMALE'],\n",
              "       ['FEMALE'],\n",
              "       ['MALE'],\n",
              "       ['FEMALE'],\n",
              "       ['MALE'],\n",
              "       ['FEMALE'],\n",
              "       ['MALE'],\n",
              "       ['MALE'],\n",
              "       ['FEMALE'],\n",
              "       ['MALE'],\n",
              "       ['FEMALE'],\n",
              "       ['FEMALE'],\n",
              "       ['MALE'],\n",
              "       ['FEMALE'],\n",
              "       ['MALE'],\n",
              "       ['FEMALE'],\n",
              "       ['MALE'],\n",
              "       ['FEMALE'],\n",
              "       ['MALE'],\n",
              "       ['FEMALE'],\n",
              "       ['MALE'],\n",
              "       ['MALE'],\n",
              "       ['FEMALE'],\n",
              "       ['FEMALE'],\n",
              "       ['MALE'],\n",
              "       ['FEMALE'],\n",
              "       ['MALE'],\n",
              "       ['FEMALE'],\n",
              "       ['MALE'],\n",
              "       ['FEMALE'],\n",
              "       ['MALE'],\n",
              "       ['FEMALE'],\n",
              "       ['MALE'],\n",
              "       ['FEMALE'],\n",
              "       ['MALE'],\n",
              "       ['FEMALE'],\n",
              "       ['MALE'],\n",
              "       ['FEMALE'],\n",
              "       ['MALE'],\n",
              "       ['MALE'],\n",
              "       ['FEMALE'],\n",
              "       ['FEMALE'],\n",
              "       ['MALE'],\n",
              "       ['FEMALE'],\n",
              "       ['MALE'],\n",
              "       ['MALE'],\n",
              "       ['FEMALE'],\n",
              "       ['MALE'],\n",
              "       ['FEMALE'],\n",
              "       ['FEMALE'],\n",
              "       ['MALE'],\n",
              "       ['FEMALE'],\n",
              "       ['MALE'],\n",
              "       ['MALE'],\n",
              "       ['FEMALE'],\n",
              "       ['FEMALE'],\n",
              "       ['MALE'],\n",
              "       ['FEMALE'],\n",
              "       ['MALE'],\n",
              "       ['FEMALE'],\n",
              "       ['MALE'],\n",
              "       ['FEMALE'],\n",
              "       ['MALE'],\n",
              "       ['MALE'],\n",
              "       ['FEMALE'],\n",
              "       ['MALE'],\n",
              "       ['FEMALE'],\n",
              "       ['FEMALE'],\n",
              "       ['MALE'],\n",
              "       ['FEMALE'],\n",
              "       ['MALE'],\n",
              "       ['MALE'],\n",
              "       ['FEMALE'],\n",
              "       ['FEMALE'],\n",
              "       ['MALE'],\n",
              "       ['FEMALE'],\n",
              "       ['MALE'],\n",
              "       ['MALE'],\n",
              "       ['FEMALE'],\n",
              "       ['FEMALE'],\n",
              "       ['MALE'],\n",
              "       ['FEMALE'],\n",
              "       ['MALE'],\n",
              "       ['FEMALE'],\n",
              "       ['MALE'],\n",
              "       ['FEMALE'],\n",
              "       ['MALE'],\n",
              "       ['FEMALE'],\n",
              "       ['MALE'],\n",
              "       ['FEMALE'],\n",
              "       ['MALE'],\n",
              "       ['FEMALE'],\n",
              "       ['MALE'],\n",
              "       ['MALE'],\n",
              "       ['FEMALE'],\n",
              "       ['FEMALE'],\n",
              "       ['MALE'],\n",
              "       ['FEMALE'],\n",
              "       ['MALE'],\n",
              "       ['MALE'],\n",
              "       ['MALE'],\n",
              "       ['FEMALE'],\n",
              "       ['MALE'],\n",
              "       ['MALE'],\n",
              "       ['FEMALE'],\n",
              "       ['FEMALE'],\n",
              "       ['MALE'],\n",
              "       ['FEMALE'],\n",
              "       ['MALE'],\n",
              "       ['FEMALE'],\n",
              "       ['MALE'],\n",
              "       ['FEMALE'],\n",
              "       ['MALE'],\n",
              "       ['FEMALE'],\n",
              "       ['MALE'],\n",
              "       ['FEMALE'],\n",
              "       ['MALE'],\n",
              "       ['MALE'],\n",
              "       ['FEMALE'],\n",
              "       ['FEMALE'],\n",
              "       ['MALE'],\n",
              "       ['FEMALE'],\n",
              "       ['MALE'],\n",
              "       ['FEMALE'],\n",
              "       ['MALE'],\n",
              "       ['FEMALE'],\n",
              "       ['MALE'],\n",
              "       ['FEMALE'],\n",
              "       ['MALE'],\n",
              "       ['FEMALE'],\n",
              "       ['MALE'],\n",
              "       ['FEMALE'],\n",
              "       ['MALE'],\n",
              "       ['FEMALE'],\n",
              "       ['MALE'],\n",
              "       ['FEMALE'],\n",
              "       ['MALE'],\n",
              "       ['FEMALE'],\n",
              "       ['MALE'],\n",
              "       ['MALE'],\n",
              "       ['MALE'],\n",
              "       ['FEMALE'],\n",
              "       ['MALE'],\n",
              "       ['FEMALE'],\n",
              "       ['MALE'],\n",
              "       ['MALE'],\n",
              "       ['FEMALE'],\n",
              "       ['FEMALE'],\n",
              "       ['MALE'],\n",
              "       ['FEMALE'],\n",
              "       ['MALE'],\n",
              "       ['FEMALE'],\n",
              "       ['MALE'],\n",
              "       ['FEMALE'],\n",
              "       ['MALE'],\n",
              "       ['FEMALE'],\n",
              "       ['MALE'],\n",
              "       ['FEMALE'],\n",
              "       ['MALE'],\n",
              "       ['FEMALE'],\n",
              "       ['MALE'],\n",
              "       ['FEMALE'],\n",
              "       ['MALE'],\n",
              "       ['FEMALE'],\n",
              "       ['MALE'],\n",
              "       ['FEMALE'],\n",
              "       ['MALE'],\n",
              "       ['FEMALE'],\n",
              "       ['MALE'],\n",
              "       ['MALE'],\n",
              "       ['FEMALE'],\n",
              "       ['FEMALE'],\n",
              "       ['MALE'],\n",
              "       ['FEMALE'],\n",
              "       ['MALE'],\n",
              "       ['FEMALE'],\n",
              "       ['MALE'],\n",
              "       ['MALE'],\n",
              "       ['MALE'],\n",
              "       ['FEMALE'],\n",
              "       ['MALE'],\n",
              "       ['FEMALE'],\n",
              "       ['MALE'],\n",
              "       ['FEMALE'],\n",
              "       ['MALE'],\n",
              "       ['FEMALE'],\n",
              "       ['MALE'],\n",
              "       ['FEMALE'],\n",
              "       ['MALE'],\n",
              "       ['.'],\n",
              "       ['MALE'],\n",
              "       ['FEMALE'],\n",
              "       ['MALE'],\n",
              "       ['FEMALE'],\n",
              "       ['MALE'],\n",
              "       ['FEMALE'],\n",
              "       ['MALE']], dtype=object)"
            ]
          },
          "metadata": {},
          "execution_count": 70
        }
      ]
    },
    {
      "cell_type": "code",
      "source": [
        "np.unique(data_imp2)"
      ],
      "metadata": {
        "colab": {
          "base_uri": "https://localhost:8080/"
        },
        "id": "lMYqWPmcAEs0",
        "outputId": "15fdc65f-60ee-4c48-fa9a-635ad2bacd48"
      },
      "execution_count": 71,
      "outputs": [
        {
          "output_type": "execute_result",
          "data": {
            "text/plain": [
              "array(['.', 'FEMALE', 'MALE'], dtype=object)"
            ]
          },
          "metadata": {},
          "execution_count": 71
        }
      ]
    },
    {
      "cell_type": "markdown",
      "source": [
        "## **Преобразование категориальных признаков в числовые**"
      ],
      "metadata": {
        "id": "SPwNFza6Bz6p"
      }
    },
    {
      "cell_type": "markdown",
      "source": [
        "### **Использование LabelEncoder**"
      ],
      "metadata": {
        "id": "2U9KFuf6Najr"
      }
    },
    {
      "cell_type": "code",
      "source": [
        "from sklearn.preprocessing import LabelEncoder"
      ],
      "metadata": {
        "id": "aGVbHzmXAnT6"
      },
      "execution_count": 57,
      "outputs": []
    },
    {
      "cell_type": "code",
      "source": [
        "cat_enc = pd.DataFrame({'coded_sex':data_imp2.T[0]})\n",
        "cat_enc"
      ],
      "metadata": {
        "colab": {
          "base_uri": "https://localhost:8080/",
          "height": 423
        },
        "id": "n_aKfILhCaKO",
        "outputId": "1874558d-8f3a-4d75-e433-276077fe4439"
      },
      "execution_count": 58,
      "outputs": [
        {
          "output_type": "execute_result",
          "data": {
            "text/plain": [
              "    coded_sex\n",
              "0        MALE\n",
              "1      FEMALE\n",
              "2      FEMALE\n",
              "3        MALE\n",
              "4      FEMALE\n",
              "..        ...\n",
              "339      MALE\n",
              "340    FEMALE\n",
              "341      MALE\n",
              "342    FEMALE\n",
              "343      MALE\n",
              "\n",
              "[344 rows x 1 columns]"
            ],
            "text/html": [
              "\n",
              "  <div id=\"df-c2f70d68-431c-4297-a9a0-524fd1dd02a7\">\n",
              "    <div class=\"colab-df-container\">\n",
              "      <div>\n",
              "<style scoped>\n",
              "    .dataframe tbody tr th:only-of-type {\n",
              "        vertical-align: middle;\n",
              "    }\n",
              "\n",
              "    .dataframe tbody tr th {\n",
              "        vertical-align: top;\n",
              "    }\n",
              "\n",
              "    .dataframe thead th {\n",
              "        text-align: right;\n",
              "    }\n",
              "</style>\n",
              "<table border=\"1\" class=\"dataframe\">\n",
              "  <thead>\n",
              "    <tr style=\"text-align: right;\">\n",
              "      <th></th>\n",
              "      <th>coded_sex</th>\n",
              "    </tr>\n",
              "  </thead>\n",
              "  <tbody>\n",
              "    <tr>\n",
              "      <th>0</th>\n",
              "      <td>MALE</td>\n",
              "    </tr>\n",
              "    <tr>\n",
              "      <th>1</th>\n",
              "      <td>FEMALE</td>\n",
              "    </tr>\n",
              "    <tr>\n",
              "      <th>2</th>\n",
              "      <td>FEMALE</td>\n",
              "    </tr>\n",
              "    <tr>\n",
              "      <th>3</th>\n",
              "      <td>MALE</td>\n",
              "    </tr>\n",
              "    <tr>\n",
              "      <th>4</th>\n",
              "      <td>FEMALE</td>\n",
              "    </tr>\n",
              "    <tr>\n",
              "      <th>...</th>\n",
              "      <td>...</td>\n",
              "    </tr>\n",
              "    <tr>\n",
              "      <th>339</th>\n",
              "      <td>MALE</td>\n",
              "    </tr>\n",
              "    <tr>\n",
              "      <th>340</th>\n",
              "      <td>FEMALE</td>\n",
              "    </tr>\n",
              "    <tr>\n",
              "      <th>341</th>\n",
              "      <td>MALE</td>\n",
              "    </tr>\n",
              "    <tr>\n",
              "      <th>342</th>\n",
              "      <td>FEMALE</td>\n",
              "    </tr>\n",
              "    <tr>\n",
              "      <th>343</th>\n",
              "      <td>MALE</td>\n",
              "    </tr>\n",
              "  </tbody>\n",
              "</table>\n",
              "<p>344 rows × 1 columns</p>\n",
              "</div>\n",
              "      <button class=\"colab-df-convert\" onclick=\"convertToInteractive('df-c2f70d68-431c-4297-a9a0-524fd1dd02a7')\"\n",
              "              title=\"Convert this dataframe to an interactive table.\"\n",
              "              style=\"display:none;\">\n",
              "        \n",
              "  <svg xmlns=\"http://www.w3.org/2000/svg\" height=\"24px\"viewBox=\"0 0 24 24\"\n",
              "       width=\"24px\">\n",
              "    <path d=\"M0 0h24v24H0V0z\" fill=\"none\"/>\n",
              "    <path d=\"M18.56 5.44l.94 2.06.94-2.06 2.06-.94-2.06-.94-.94-2.06-.94 2.06-2.06.94zm-11 1L8.5 8.5l.94-2.06 2.06-.94-2.06-.94L8.5 2.5l-.94 2.06-2.06.94zm10 10l.94 2.06.94-2.06 2.06-.94-2.06-.94-.94-2.06-.94 2.06-2.06.94z\"/><path d=\"M17.41 7.96l-1.37-1.37c-.4-.4-.92-.59-1.43-.59-.52 0-1.04.2-1.43.59L10.3 9.45l-7.72 7.72c-.78.78-.78 2.05 0 2.83L4 21.41c.39.39.9.59 1.41.59.51 0 1.02-.2 1.41-.59l7.78-7.78 2.81-2.81c.8-.78.8-2.07 0-2.86zM5.41 20L4 18.59l7.72-7.72 1.47 1.35L5.41 20z\"/>\n",
              "  </svg>\n",
              "      </button>\n",
              "      \n",
              "  <style>\n",
              "    .colab-df-container {\n",
              "      display:flex;\n",
              "      flex-wrap:wrap;\n",
              "      gap: 12px;\n",
              "    }\n",
              "\n",
              "    .colab-df-convert {\n",
              "      background-color: #E8F0FE;\n",
              "      border: none;\n",
              "      border-radius: 50%;\n",
              "      cursor: pointer;\n",
              "      display: none;\n",
              "      fill: #1967D2;\n",
              "      height: 32px;\n",
              "      padding: 0 0 0 0;\n",
              "      width: 32px;\n",
              "    }\n",
              "\n",
              "    .colab-df-convert:hover {\n",
              "      background-color: #E2EBFA;\n",
              "      box-shadow: 0px 1px 2px rgba(60, 64, 67, 0.3), 0px 1px 3px 1px rgba(60, 64, 67, 0.15);\n",
              "      fill: #174EA6;\n",
              "    }\n",
              "\n",
              "    [theme=dark] .colab-df-convert {\n",
              "      background-color: #3B4455;\n",
              "      fill: #D2E3FC;\n",
              "    }\n",
              "\n",
              "    [theme=dark] .colab-df-convert:hover {\n",
              "      background-color: #434B5C;\n",
              "      box-shadow: 0px 1px 3px 1px rgba(0, 0, 0, 0.15);\n",
              "      filter: drop-shadow(0px 1px 2px rgba(0, 0, 0, 0.3));\n",
              "      fill: #FFFFFF;\n",
              "    }\n",
              "  </style>\n",
              "\n",
              "      <script>\n",
              "        const buttonEl =\n",
              "          document.querySelector('#df-c2f70d68-431c-4297-a9a0-524fd1dd02a7 button.colab-df-convert');\n",
              "        buttonEl.style.display =\n",
              "          google.colab.kernel.accessAllowed ? 'block' : 'none';\n",
              "\n",
              "        async function convertToInteractive(key) {\n",
              "          const element = document.querySelector('#df-c2f70d68-431c-4297-a9a0-524fd1dd02a7');\n",
              "          const dataTable =\n",
              "            await google.colab.kernel.invokeFunction('convertToInteractive',\n",
              "                                                     [key], {});\n",
              "          if (!dataTable) return;\n",
              "\n",
              "          const docLinkHtml = 'Like what you see? Visit the ' +\n",
              "            '<a target=\"_blank\" href=https://colab.research.google.com/notebooks/data_table.ipynb>data table notebook</a>'\n",
              "            + ' to learn more about interactive tables.';\n",
              "          element.innerHTML = '';\n",
              "          dataTable['output_type'] = 'display_data';\n",
              "          await google.colab.output.renderOutput(dataTable, element);\n",
              "          const docLink = document.createElement('div');\n",
              "          docLink.innerHTML = docLinkHtml;\n",
              "          element.appendChild(docLink);\n",
              "        }\n",
              "      </script>\n",
              "    </div>\n",
              "  </div>\n",
              "  "
            ]
          },
          "metadata": {},
          "execution_count": 58
        }
      ]
    },
    {
      "cell_type": "markdown",
      "source": [
        "Уникальные значения:"
      ],
      "metadata": {
        "id": "ySXseBCCNtmB"
      }
    },
    {
      "cell_type": "code",
      "source": [
        "cat_enc['coded_sex'].unique()"
      ],
      "metadata": {
        "colab": {
          "base_uri": "https://localhost:8080/"
        },
        "id": "aWBljrcsCkHL",
        "outputId": "d0f93f92-335d-45c7-e1b1-d28df05158e3"
      },
      "execution_count": 59,
      "outputs": [
        {
          "output_type": "execute_result",
          "data": {
            "text/plain": [
              "array(['MALE', 'FEMALE', '.'], dtype=object)"
            ]
          },
          "metadata": {},
          "execution_count": 59
        }
      ]
    },
    {
      "cell_type": "code",
      "source": [
        "le = LabelEncoder()\n",
        "cat_enc_le = le.fit_transform(cat_enc['coded_sex'])"
      ],
      "metadata": {
        "id": "9NBiH-E7Cu81"
      },
      "execution_count": 60,
      "outputs": []
    },
    {
      "cell_type": "markdown",
      "source": [
        "Закодированный категориальный признак:"
      ],
      "metadata": {
        "id": "1jkDqYPWNwV9"
      }
    },
    {
      "cell_type": "code",
      "source": [
        "cat_enc_le"
      ],
      "metadata": {
        "colab": {
          "base_uri": "https://localhost:8080/"
        },
        "id": "NcG-sRw_C2c6",
        "outputId": "acb4b57c-0387-4ba6-89a3-fca549a8f534"
      },
      "execution_count": 61,
      "outputs": [
        {
          "output_type": "execute_result",
          "data": {
            "text/plain": [
              "array([2, 1, 1, 2, 1, 2, 1, 2, 2, 2, 2, 2, 1, 2, 2, 1, 1, 2, 1, 2, 1, 2,\n",
              "       1, 2, 2, 1, 2, 1, 1, 2, 1, 2, 1, 2, 1, 2, 2, 1, 1, 2, 1, 2, 1, 2,\n",
              "       1, 2, 2, 2, 1, 2, 1, 2, 1, 2, 1, 2, 1, 2, 1, 2, 1, 2, 1, 2, 1, 2,\n",
              "       1, 2, 1, 2, 1, 2, 1, 2, 1, 2, 1, 2, 1, 2, 1, 2, 1, 2, 1, 2, 2, 1,\n",
              "       2, 1, 1, 2, 1, 2, 1, 2, 1, 2, 1, 2, 1, 2, 1, 2, 1, 2, 1, 2, 1, 2,\n",
              "       1, 2, 1, 2, 1, 2, 1, 2, 1, 2, 1, 2, 1, 2, 1, 2, 1, 2, 1, 2, 1, 2,\n",
              "       1, 2, 1, 2, 1, 2, 1, 2, 1, 2, 1, 2, 1, 2, 2, 1, 1, 2, 1, 2, 1, 2,\n",
              "       2, 1, 2, 1, 1, 2, 1, 2, 1, 2, 1, 2, 1, 2, 2, 1, 1, 2, 1, 2, 1, 2,\n",
              "       1, 2, 1, 2, 1, 2, 1, 2, 1, 2, 2, 1, 1, 2, 1, 2, 2, 1, 2, 1, 1, 2,\n",
              "       1, 2, 2, 1, 1, 2, 1, 2, 1, 2, 1, 2, 2, 1, 2, 1, 1, 2, 1, 2, 2, 1,\n",
              "       1, 2, 1, 2, 2, 1, 1, 2, 1, 2, 1, 2, 1, 2, 1, 2, 1, 2, 1, 2, 2, 1,\n",
              "       1, 2, 1, 2, 2, 2, 1, 2, 2, 1, 1, 2, 1, 2, 1, 2, 1, 2, 1, 2, 1, 2,\n",
              "       2, 1, 1, 2, 1, 2, 1, 2, 1, 2, 1, 2, 1, 2, 1, 2, 1, 2, 1, 2, 1, 2,\n",
              "       2, 2, 1, 2, 1, 2, 2, 1, 1, 2, 1, 2, 1, 2, 1, 2, 1, 2, 1, 2, 1, 2,\n",
              "       1, 2, 1, 2, 1, 2, 1, 2, 2, 1, 1, 2, 1, 2, 1, 2, 2, 2, 1, 2, 1, 2,\n",
              "       1, 2, 1, 2, 1, 2, 0, 2, 1, 2, 1, 2, 1, 2])"
            ]
          },
          "metadata": {},
          "execution_count": 61
        }
      ]
    },
    {
      "cell_type": "markdown",
      "source": [
        "## **Масштабирование данных**"
      ],
      "metadata": {
        "id": "8juXSUe_N4z5"
      }
    },
    {
      "cell_type": "code",
      "source": [
        "from sklearn.preprocessing import MinMaxScaler, StandardScaler, Normalizer"
      ],
      "metadata": {
        "id": "j89lGdGVEFfA"
      },
      "execution_count": 73,
      "outputs": []
    },
    {
      "cell_type": "markdown",
      "source": [
        "### **MinMax масштабирование**"
      ],
      "metadata": {
        "id": "R_nvYZ4sN81o"
      }
    },
    {
      "cell_type": "code",
      "source": [
        "sc1 = MinMaxScaler()\n",
        "sc1_data = sc1.fit_transform(data[['body_mass_g']])"
      ],
      "metadata": {
        "id": "pjLw5E9IEMOU"
      },
      "execution_count": 74,
      "outputs": []
    },
    {
      "cell_type": "code",
      "source": [
        "plt.hist(data['body_mass_g'], 50)\n",
        "plt.show()"
      ],
      "metadata": {
        "colab": {
          "base_uri": "https://localhost:8080/",
          "height": 265
        },
        "id": "sEtGeRCtEW48",
        "outputId": "f9e6e58c-b2ff-4548-91b3-23bf80d1ceeb"
      },
      "execution_count": 80,
      "outputs": [
        {
          "output_type": "display_data",
          "data": {
            "text/plain": [
              "<Figure size 432x288 with 1 Axes>"
            ],
            "image/png": "[encoded data removed]"
          },
          "metadata": {
            "needs_background": "light"
          }
        }
      ]
    },
    {
      "cell_type": "code",
      "source": [
        "plt.hist(sc1_data, 50)\n",
        "plt.show()"
      ],
      "metadata": {
        "colab": {
          "base_uri": "https://localhost:8080/",
          "height": 265
        },
        "id": "kGFNPMtREwn4",
        "outputId": "d2b18865-6d78-48e7-b89f-b8a46c7e5ae0"
      },
      "execution_count": 81,
      "outputs": [
        {
          "output_type": "display_data",
          "data": {
            "text/plain": [
              "<Figure size 432x288 with 1 Axes>"
            ],
            "image/png": "[encoded data removed]"
          },
          "metadata": {
            "needs_background": "light"
          }
        }
      ]
    },
    {
      "cell_type": "markdown",
      "source": [
        "### **Масштабирование данных на основе Z-оценки**"
      ],
      "metadata": {
        "id": "nQlkDODSOCV-"
      }
    },
    {
      "cell_type": "code",
      "source": [
        "sc2 = StandardScaler()\n",
        "sc2_data = sc2.fit_transform(data[['body_mass_g']])"
      ],
      "metadata": {
        "id": "OKjRTwMHFezL"
      },
      "execution_count": 82,
      "outputs": []
    },
    {
      "cell_type": "code",
      "source": [
        "plt.hist(sc2_data, 50)\n",
        "plt.show()"
      ],
      "metadata": {
        "colab": {
          "base_uri": "https://localhost:8080/",
          "height": 265
        },
        "id": "WLaHoSFmFh2O",
        "outputId": "1f6321b6-961a-43ec-ddd9-539529134afd"
      },
      "execution_count": 83,
      "outputs": [
        {
          "output_type": "display_data",
          "data": {
            "text/plain": [
              "<Figure size 432x288 with 1 Axes>"
            ],
            "image/png": "[encoded data removed]"
          },
          "metadata": {
            "needs_background": "light"
          }
        }
      ]
    }
  ]
}