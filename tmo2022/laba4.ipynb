{
  "nbformat": 4,
  "nbformat_minor": 0,
  "metadata": {
    "colab": {
      "name": "laba4.ipynb",
      "provenance": [],
      "authorship_tag": "ABX9TyM89FFboPqF/jL9n6vq7McB",
      "include_colab_link": true
    },
    "kernelspec": {
      "name": "python3",
      "display_name": "Python 3"
    },
    "language_info": {
      "name": "python"
    }
  },
  "cells": [
    {
      "cell_type": "markdown",
      "metadata": {
        "id": "view-in-github",
        "colab_type": "text"
      },
      "source": [
        "<a href=\"https://colab.research.google.com/github/blackfox2001/bmstu/blob/master/tmo2022/laba4.ipynb\" target=\"_parent\"><img src=\"https://colab.research.google.com/assets/colab-badge.svg\" alt=\"Open In Colab\"/></a>"
      ]
    },
    {
      "cell_type": "markdown",
      "source": [
        "# **Лабораторная работа 4**"
      ],
      "metadata": {
        "id": "gug8nrZsAjmq"
      }
    },
    {
      "cell_type": "markdown",
      "source": [
        "## Задание"
      ],
      "metadata": {
        "id": "fQ73rOmeAodI"
      }
    },
    {
      "cell_type": "markdown",
      "source": [
        "Выберите набор данных (датасет) для решения задачи классификации или регрессии.\n",
        "\n",
        "В случае необходимости проведите удаление или заполнение пропусков и кодирование категориальных признаков.\n",
        "\n",
        "С использованием метода train_test_split разделите выборку на обучающую и тестовую.\n",
        "\n",
        "Обучите следующие модели:\n",
        "\n",
        "одну из линейных моделей (линейную или полиномиальную регрессию при решении задачи регрессии, логистическую регрессию при решении задачи классификации);\n",
        "\n",
        "SVM;\n",
        "\n",
        "дерево решений.\n",
        "\n",
        "Оцените качество моделей с помощью двух подходящих для задачи метрик. Сравните качество полученных моделей.\n",
        "\n",
        "Постройте график, показывающий важность признаков в дереве решений.\n",
        "\n",
        "Визуализируйте дерево решений или выведите правила дерева решений в текстовом виде."
      ],
      "metadata": {
        "id": "yNsQfbHjAsHT"
      }
    },
    {
      "cell_type": "markdown",
      "source": [
        "## Выбор и загрузка данных"
      ],
      "metadata": {
        "id": "PdKAQqqSA8b0"
      }
    },
    {
      "cell_type": "markdown",
      "source": [
        "В качестве датасета будем использовать набор данных, содержащий данные о трудоустройстве студентов. Данный набор доступен по адресу: https://www.kaggle.com/datasets/uciml/student-alcohol-consumption?select=student-por.csv\n",
        "\n",
        "sl_no - серийный номер (номер в датасете);\n",
        "\n",
        "gender - пол;\n",
        "\n",
        "ssc_p - процент среднего образования;\n",
        "\n",
        "ssc_b - Министерство образования (центральное или другое);\n",
        "\n",
        "hsc_p - процент высшего образования;\n",
        "\n",
        "hsc_b - Министерство образования (центральное или другое);\n",
        "\n",
        "hsc_s - специализация полного среднего образования;\n",
        "\n",
        "degree_p - процент выпустившихся;\n",
        "\n",
        "degree_t - бакалавриат (сфера образования);\n",
        "\n",
        "workex - опыт работы;\n",
        "\n",
        "etest_p - процент теста на трудоустройство;\n",
        "\n",
        "specialisation - специальность после выпуска;\n",
        "\n",
        "mba_p - MBA процент;\n",
        "\n",
        "status - статус трудоустройства (устроен или не устроен);\n",
        "\n",
        "salary - запралата, которую предлагают кандидатам."
      ],
      "metadata": {
        "id": "i1OcmKTOBESh"
      }
    },
    {
      "cell_type": "markdown",
      "source": [
        "Импортируем библиотеки"
      ],
      "metadata": {
        "id": "txeqwc5iBSud"
      }
    },
    {
      "cell_type": "code",
      "source": [
        "import numpy as np\n",
        "import pandas as pd\n",
        "import seaborn as sns\n",
        "import matplotlib.pyplot as plt\n",
        "from google.colab import files\n",
        "%matplotlib inline\n",
        "sns.set(style=\"ticks\")"
      ],
      "metadata": {
        "id": "5Sj8GJbvBTaJ"
      },
      "execution_count": 2,
      "outputs": []
    },
    {
      "cell_type": "markdown",
      "source": [
        "Загружаем данные"
      ],
      "metadata": {
        "id": "hKB9v6VbBXDG"
      }
    },
    {
      "cell_type": "code",
      "source": [
        "files.upload()"
      ],
      "metadata": {
        "colab": {
          "resources": {
            "http://localhost:8080/nbextensions/google.colab/files.js": {
              "data": "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",
              "ok": true,
              "headers": [
                [
                  "content-type",
                  "application/javascript"
                ]
              ],
              "status": 200,
              "status_text": "OK"
            }
          },
          "base_uri": "https://localhost:8080/",
          "height": 111
        },
        "id": "oyAiNj0tBXo_",
        "outputId": "7b1d51ff-be43-44f7-f33e-aeb31177c07b"
      },
      "execution_count": 38,
      "outputs": [
        {
          "output_type": "display_data",
          "data": {
            "text/plain": [
              "<IPython.core.display.HTML object>"
            ],
            "text/html": [
              "\n",
              "     <input type=\"file\" id=\"files-b04b453e-8f84-4326-96b0-896510d57f39\" name=\"files[]\" multiple disabled\n",
              "        style=\"border:none\" />\n",
              "     <output id=\"result-b04b453e-8f84-4326-96b0-896510d57f39\">\n",
              "      Upload widget is only available when the cell has been executed in the\n",
              "      current browser session. Please rerun this cell to enable.\n",
              "      </output>\n",
              "      <script src=\"/nbextensions/google.colab/files.js\"></script> "
            ]
          },
          "metadata": {}
        },
        {
          "output_type": "stream",
          "name": "stdout",
          "text": [
            "Saving StudentsPerformance.csv to StudentsPerformance.csv\n"
          ]
        },
        {
          "output_type": "execute_result",
          "data": {
            "text/plain": [
              "{'StudentsPerformance.csv': b'\"gender\",\"race/ethnicity\",\"parental level of education\",\"lunch\",\"test preparation course\",\"math score\",\"reading score\",\"writing score\"\\n\"female\",\"group B\",\"bachelor\\'s degree\",\"standard\",\"none\",\"72\",\"72\",\"74\"\\n\"female\",\"group C\",\"some college\",\"standard\",\"completed\",\"69\",\"90\",\"88\"\\n\"female\",\"group B\",\"master\\'s degree\",\"standard\",\"none\",\"90\",\"95\",\"93\"\\n\"male\",\"group A\",\"associate\\'s degree\",\"free/reduced\",\"none\",\"47\",\"57\",\"44\"\\n\"male\",\"group C\",\"some college\",\"standard\",\"none\",\"76\",\"78\",\"75\"\\n\"female\",\"group B\",\"associate\\'s degree\",\"standard\",\"none\",\"71\",\"83\",\"78\"\\n\"female\",\"group B\",\"some college\",\"standard\",\"completed\",\"88\",\"95\",\"92\"\\n\"male\",\"group B\",\"some college\",\"free/reduced\",\"none\",\"40\",\"43\",\"39\"\\n\"male\",\"group D\",\"high school\",\"free/reduced\",\"completed\",\"64\",\"64\",\"67\"\\n\"female\",\"group B\",\"high school\",\"free/reduced\",\"none\",\"38\",\"60\",\"50\"\\n\"male\",\"group C\",\"associate\\'s degree\",\"standard\",\"none\",\"58\",\"54\",\"52\"\\n\"male\",\"group D\",\"associate\\'s degree\",\"standard\",\"none\",\"40\",\"52\",\"43\"\\n\"female\",\"group B\",\"high school\",\"standard\",\"none\",\"65\",\"81\",\"73\"\\n\"male\",\"group A\",\"some college\",\"standard\",\"completed\",\"78\",\"72\",\"70\"\\n\"female\",\"group A\",\"master\\'s degree\",\"standard\",\"none\",\"50\",\"53\",\"58\"\\n\"female\",\"group C\",\"some high school\",\"standard\",\"none\",\"69\",\"75\",\"78\"\\n\"male\",\"group C\",\"high school\",\"standard\",\"none\",\"88\",\"89\",\"86\"\\n\"female\",\"group B\",\"some high school\",\"free/reduced\",\"none\",\"18\",\"32\",\"28\"\\n\"male\",\"group C\",\"master\\'s degree\",\"free/reduced\",\"completed\",\"46\",\"42\",\"46\"\\n\"female\",\"group C\",\"associate\\'s degree\",\"free/reduced\",\"none\",\"54\",\"58\",\"61\"\\n\"male\",\"group D\",\"high school\",\"standard\",\"none\",\"66\",\"69\",\"63\"\\n\"female\",\"group B\",\"some college\",\"free/reduced\",\"completed\",\"65\",\"75\",\"70\"\\n\"male\",\"group D\",\"some college\",\"standard\",\"none\",\"44\",\"54\",\"53\"\\n\"female\",\"group C\",\"some high school\",\"standard\",\"none\",\"69\",\"73\",\"73\"\\n\"male\",\"group D\",\"bachelor\\'s degree\",\"free/reduced\",\"completed\",\"74\",\"71\",\"80\"\\n\"male\",\"group A\",\"master\\'s degree\",\"free/reduced\",\"none\",\"73\",\"74\",\"72\"\\n\"male\",\"group B\",\"some college\",\"standard\",\"none\",\"69\",\"54\",\"55\"\\n\"female\",\"group C\",\"bachelor\\'s degree\",\"standard\",\"none\",\"67\",\"69\",\"75\"\\n\"male\",\"group C\",\"high school\",\"standard\",\"none\",\"70\",\"70\",\"65\"\\n\"female\",\"group D\",\"master\\'s degree\",\"standard\",\"none\",\"62\",\"70\",\"75\"\\n\"female\",\"group D\",\"some college\",\"standard\",\"none\",\"69\",\"74\",\"74\"\\n\"female\",\"group B\",\"some college\",\"standard\",\"none\",\"63\",\"65\",\"61\"\\n\"female\",\"group E\",\"master\\'s degree\",\"free/reduced\",\"none\",\"56\",\"72\",\"65\"\\n\"male\",\"group D\",\"some college\",\"standard\",\"none\",\"40\",\"42\",\"38\"\\n\"male\",\"group E\",\"some college\",\"standard\",\"none\",\"97\",\"87\",\"82\"\\n\"male\",\"group E\",\"associate\\'s degree\",\"standard\",\"completed\",\"81\",\"81\",\"79\"\\n\"female\",\"group D\",\"associate\\'s degree\",\"standard\",\"none\",\"74\",\"81\",\"83\"\\n\"female\",\"group D\",\"some high school\",\"free/reduced\",\"none\",\"50\",\"64\",\"59\"\\n\"female\",\"group D\",\"associate\\'s degree\",\"free/reduced\",\"completed\",\"75\",\"90\",\"88\"\\n\"male\",\"group B\",\"associate\\'s degree\",\"free/reduced\",\"none\",\"57\",\"56\",\"57\"\\n\"male\",\"group C\",\"associate\\'s degree\",\"free/reduced\",\"none\",\"55\",\"61\",\"54\"\\n\"female\",\"group C\",\"associate\\'s degree\",\"standard\",\"none\",\"58\",\"73\",\"68\"\\n\"female\",\"group B\",\"associate\\'s degree\",\"standard\",\"none\",\"53\",\"58\",\"65\"\\n\"male\",\"group B\",\"some college\",\"free/reduced\",\"completed\",\"59\",\"65\",\"66\"\\n\"female\",\"group E\",\"associate\\'s degree\",\"free/reduced\",\"none\",\"50\",\"56\",\"54\"\\n\"male\",\"group B\",\"associate\\'s degree\",\"standard\",\"none\",\"65\",\"54\",\"57\"\\n\"female\",\"group A\",\"associate\\'s degree\",\"standard\",\"completed\",\"55\",\"65\",\"62\"\\n\"female\",\"group C\",\"high school\",\"standard\",\"none\",\"66\",\"71\",\"76\"\\n\"female\",\"group D\",\"associate\\'s degree\",\"free/reduced\",\"completed\",\"57\",\"74\",\"76\"\\n\"male\",\"group C\",\"high school\",\"standard\",\"completed\",\"82\",\"84\",\"82\"\\n\"male\",\"group E\",\"some college\",\"standard\",\"none\",\"53\",\"55\",\"48\"\\n\"male\",\"group E\",\"associate\\'s degree\",\"free/reduced\",\"completed\",\"77\",\"69\",\"68\"\\n\"male\",\"group C\",\"some college\",\"standard\",\"none\",\"53\",\"44\",\"42\"\\n\"male\",\"group D\",\"high school\",\"standard\",\"none\",\"88\",\"78\",\"75\"\\n\"female\",\"group C\",\"some high school\",\"free/reduced\",\"completed\",\"71\",\"84\",\"87\"\\n\"female\",\"group C\",\"high school\",\"free/reduced\",\"none\",\"33\",\"41\",\"43\"\\n\"female\",\"group E\",\"associate\\'s degree\",\"standard\",\"completed\",\"82\",\"85\",\"86\"\\n\"male\",\"group D\",\"associate\\'s degree\",\"standard\",\"none\",\"52\",\"55\",\"49\"\\n\"male\",\"group D\",\"some college\",\"standard\",\"completed\",\"58\",\"59\",\"58\"\\n\"female\",\"group C\",\"some high school\",\"free/reduced\",\"none\",\"0\",\"17\",\"10\"\\n\"male\",\"group E\",\"bachelor\\'s degree\",\"free/reduced\",\"completed\",\"79\",\"74\",\"72\"\\n\"male\",\"group A\",\"some high school\",\"free/reduced\",\"none\",\"39\",\"39\",\"34\"\\n\"male\",\"group A\",\"associate\\'s degree\",\"free/reduced\",\"none\",\"62\",\"61\",\"55\"\\n\"female\",\"group C\",\"associate\\'s degree\",\"standard\",\"none\",\"69\",\"80\",\"71\"\\n\"female\",\"group D\",\"some high school\",\"standard\",\"none\",\"59\",\"58\",\"59\"\\n\"male\",\"group B\",\"some high school\",\"standard\",\"none\",\"67\",\"64\",\"61\"\\n\"male\",\"group D\",\"some high school\",\"free/reduced\",\"none\",\"45\",\"37\",\"37\"\\n\"female\",\"group C\",\"some college\",\"standard\",\"none\",\"60\",\"72\",\"74\"\\n\"male\",\"group B\",\"associate\\'s degree\",\"free/reduced\",\"none\",\"61\",\"58\",\"56\"\\n\"female\",\"group C\",\"associate\\'s degree\",\"standard\",\"none\",\"39\",\"64\",\"57\"\\n\"female\",\"group D\",\"some college\",\"free/reduced\",\"completed\",\"58\",\"63\",\"73\"\\n\"male\",\"group D\",\"some college\",\"standard\",\"completed\",\"63\",\"55\",\"63\"\\n\"female\",\"group A\",\"associate\\'s degree\",\"free/reduced\",\"none\",\"41\",\"51\",\"48\"\\n\"male\",\"group C\",\"some high school\",\"free/reduced\",\"none\",\"61\",\"57\",\"56\"\\n\"male\",\"group C\",\"some high school\",\"standard\",\"none\",\"49\",\"49\",\"41\"\\n\"male\",\"group B\",\"associate\\'s degree\",\"free/reduced\",\"none\",\"44\",\"41\",\"38\"\\n\"male\",\"group E\",\"some high school\",\"standard\",\"none\",\"30\",\"26\",\"22\"\\n\"male\",\"group A\",\"bachelor\\'s degree\",\"standard\",\"completed\",\"80\",\"78\",\"81\"\\n\"female\",\"group D\",\"some high school\",\"standard\",\"completed\",\"61\",\"74\",\"72\"\\n\"female\",\"group E\",\"master\\'s degree\",\"standard\",\"none\",\"62\",\"68\",\"68\"\\n\"female\",\"group B\",\"associate\\'s degree\",\"standard\",\"none\",\"47\",\"49\",\"50\"\\n\"male\",\"group B\",\"high school\",\"free/reduced\",\"none\",\"49\",\"45\",\"45\"\\n\"male\",\"group A\",\"some college\",\"free/reduced\",\"completed\",\"50\",\"47\",\"54\"\\n\"male\",\"group E\",\"associate\\'s degree\",\"standard\",\"none\",\"72\",\"64\",\"63\"\\n\"male\",\"group D\",\"high school\",\"free/reduced\",\"none\",\"42\",\"39\",\"34\"\\n\"female\",\"group C\",\"some college\",\"standard\",\"none\",\"73\",\"80\",\"82\"\\n\"female\",\"group C\",\"some college\",\"free/reduced\",\"none\",\"76\",\"83\",\"88\"\\n\"female\",\"group D\",\"associate\\'s degree\",\"standard\",\"none\",\"71\",\"71\",\"74\"\\n\"female\",\"group A\",\"some college\",\"standard\",\"none\",\"58\",\"70\",\"67\"\\n\"female\",\"group D\",\"some high school\",\"standard\",\"none\",\"73\",\"86\",\"82\"\\n\"female\",\"group C\",\"bachelor\\'s degree\",\"standard\",\"none\",\"65\",\"72\",\"74\"\\n\"male\",\"group C\",\"high school\",\"free/reduced\",\"none\",\"27\",\"34\",\"36\"\\n\"male\",\"group C\",\"high school\",\"standard\",\"none\",\"71\",\"79\",\"71\"\\n\"male\",\"group C\",\"associate\\'s degree\",\"free/reduced\",\"completed\",\"43\",\"45\",\"50\"\\n\"female\",\"group B\",\"some college\",\"standard\",\"none\",\"79\",\"86\",\"92\"\\n\"male\",\"group C\",\"associate\\'s degree\",\"free/reduced\",\"completed\",\"78\",\"81\",\"82\"\\n\"male\",\"group B\",\"some high school\",\"standard\",\"completed\",\"65\",\"66\",\"62\"\\n\"female\",\"group E\",\"some college\",\"standard\",\"completed\",\"63\",\"72\",\"70\"\\n\"female\",\"group D\",\"some college\",\"free/reduced\",\"none\",\"58\",\"67\",\"62\"\\n\"female\",\"group D\",\"bachelor\\'s degree\",\"standard\",\"none\",\"65\",\"67\",\"62\"\\n\"male\",\"group B\",\"some college\",\"standard\",\"none\",\"79\",\"67\",\"67\"\\n\"male\",\"group D\",\"bachelor\\'s degree\",\"standard\",\"completed\",\"68\",\"74\",\"74\"\\n\"female\",\"group D\",\"associate\\'s degree\",\"standard\",\"none\",\"85\",\"91\",\"89\"\\n\"male\",\"group B\",\"high school\",\"standard\",\"completed\",\"60\",\"44\",\"47\"\\n\"male\",\"group C\",\"some college\",\"standard\",\"completed\",\"98\",\"86\",\"90\"\\n\"female\",\"group C\",\"some college\",\"standard\",\"none\",\"58\",\"67\",\"72\"\\n\"female\",\"group D\",\"master\\'s degree\",\"standard\",\"none\",\"87\",\"100\",\"100\"\\n\"male\",\"group E\",\"associate\\'s degree\",\"standard\",\"completed\",\"66\",\"63\",\"64\"\\n\"female\",\"group B\",\"associate\\'s degree\",\"free/reduced\",\"none\",\"52\",\"76\",\"70\"\\n\"female\",\"group B\",\"some high school\",\"standard\",\"none\",\"70\",\"64\",\"72\"\\n\"female\",\"group D\",\"associate\\'s degree\",\"free/reduced\",\"completed\",\"77\",\"89\",\"98\"\\n\"male\",\"group C\",\"high school\",\"standard\",\"none\",\"62\",\"55\",\"49\"\\n\"male\",\"group A\",\"associate\\'s degree\",\"standard\",\"none\",\"54\",\"53\",\"47\"\\n\"female\",\"group D\",\"some college\",\"standard\",\"none\",\"51\",\"58\",\"54\"\\n\"female\",\"group E\",\"bachelor\\'s degree\",\"standard\",\"completed\",\"99\",\"100\",\"100\"\\n\"male\",\"group C\",\"high school\",\"standard\",\"none\",\"84\",\"77\",\"74\"\\n\"female\",\"group B\",\"bachelor\\'s degree\",\"free/reduced\",\"none\",\"75\",\"85\",\"82\"\\n\"female\",\"group D\",\"bachelor\\'s degree\",\"standard\",\"none\",\"78\",\"82\",\"79\"\\n\"female\",\"group D\",\"some high school\",\"standard\",\"none\",\"51\",\"63\",\"61\"\\n\"female\",\"group C\",\"some college\",\"standard\",\"none\",\"55\",\"69\",\"65\"\\n\"female\",\"group C\",\"bachelor\\'s degree\",\"standard\",\"completed\",\"79\",\"92\",\"89\"\\n\"male\",\"group B\",\"associate\\'s degree\",\"standard\",\"completed\",\"91\",\"89\",\"92\"\\n\"female\",\"group C\",\"some college\",\"standard\",\"completed\",\"88\",\"93\",\"93\"\\n\"male\",\"group D\",\"high school\",\"free/reduced\",\"none\",\"63\",\"57\",\"56\"\\n\"male\",\"group E\",\"some college\",\"standard\",\"none\",\"83\",\"80\",\"73\"\\n\"female\",\"group B\",\"high school\",\"standard\",\"none\",\"87\",\"95\",\"86\"\\n\"male\",\"group B\",\"some high school\",\"standard\",\"none\",\"72\",\"68\",\"67\"\\n\"male\",\"group D\",\"some college\",\"standard\",\"completed\",\"65\",\"77\",\"74\"\\n\"male\",\"group D\",\"master\\'s degree\",\"standard\",\"none\",\"82\",\"82\",\"74\"\\n\"female\",\"group A\",\"bachelor\\'s degree\",\"standard\",\"none\",\"51\",\"49\",\"51\"\\n\"male\",\"group D\",\"master\\'s degree\",\"standard\",\"none\",\"89\",\"84\",\"82\"\\n\"male\",\"group C\",\"some high school\",\"free/reduced\",\"completed\",\"53\",\"37\",\"40\"\\n\"male\",\"group E\",\"some college\",\"free/reduced\",\"completed\",\"87\",\"74\",\"70\"\\n\"female\",\"group C\",\"some college\",\"standard\",\"completed\",\"75\",\"81\",\"84\"\\n\"male\",\"group D\",\"bachelor\\'s degree\",\"free/reduced\",\"completed\",\"74\",\"79\",\"75\"\\n\"male\",\"group C\",\"bachelor\\'s degree\",\"standard\",\"none\",\"58\",\"55\",\"48\"\\n\"male\",\"group B\",\"some high school\",\"standard\",\"completed\",\"51\",\"54\",\"41\"\\n\"male\",\"group E\",\"high school\",\"standard\",\"none\",\"70\",\"55\",\"56\"\\n\"female\",\"group C\",\"associate\\'s degree\",\"standard\",\"none\",\"59\",\"66\",\"67\"\\n\"male\",\"group D\",\"some college\",\"standard\",\"completed\",\"71\",\"61\",\"69\"\\n\"female\",\"group D\",\"some high school\",\"standard\",\"none\",\"76\",\"72\",\"71\"\\n\"female\",\"group C\",\"some college\",\"free/reduced\",\"none\",\"59\",\"62\",\"64\"\\n\"female\",\"group E\",\"some college\",\"free/reduced\",\"completed\",\"42\",\"55\",\"54\"\\n\"male\",\"group A\",\"high school\",\"standard\",\"none\",\"57\",\"43\",\"47\"\\n\"male\",\"group D\",\"some college\",\"standard\",\"none\",\"88\",\"73\",\"78\"\\n\"female\",\"group C\",\"some college\",\"free/reduced\",\"none\",\"22\",\"39\",\"33\"\\n\"male\",\"group B\",\"some high school\",\"standard\",\"none\",\"88\",\"84\",\"75\"\\n\"male\",\"group C\",\"associate\\'s degree\",\"free/reduced\",\"none\",\"73\",\"68\",\"66\"\\n\"female\",\"group D\",\"bachelor\\'s degree\",\"standard\",\"completed\",\"68\",\"75\",\"81\"\\n\"male\",\"group E\",\"associate\\'s degree\",\"free/reduced\",\"completed\",\"100\",\"100\",\"93\"\\n\"male\",\"group A\",\"some high school\",\"standard\",\"completed\",\"62\",\"67\",\"69\"\\n\"male\",\"group A\",\"bachelor\\'s degree\",\"standard\",\"none\",\"77\",\"67\",\"68\"\\n\"female\",\"group B\",\"associate\\'s degree\",\"standard\",\"completed\",\"59\",\"70\",\"66\"\\n\"male\",\"group D\",\"bachelor\\'s degree\",\"standard\",\"none\",\"54\",\"49\",\"47\"\\n\"male\",\"group D\",\"some high school\",\"standard\",\"none\",\"62\",\"67\",\"61\"\\n\"female\",\"group C\",\"some college\",\"standard\",\"completed\",\"70\",\"89\",\"88\"\\n\"female\",\"group E\",\"high school\",\"free/reduced\",\"completed\",\"66\",\"74\",\"78\"\\n\"male\",\"group B\",\"some college\",\"free/reduced\",\"none\",\"60\",\"60\",\"60\"\\n\"female\",\"group B\",\"associate\\'s degree\",\"standard\",\"completed\",\"61\",\"86\",\"87\"\\n\"male\",\"group D\",\"associate\\'s degree\",\"free/reduced\",\"none\",\"66\",\"62\",\"64\"\\n\"male\",\"group B\",\"associate\\'s degree\",\"free/reduced\",\"completed\",\"82\",\"78\",\"74\"\\n\"female\",\"group E\",\"some college\",\"free/reduced\",\"completed\",\"75\",\"88\",\"85\"\\n\"male\",\"group B\",\"master\\'s degree\",\"free/reduced\",\"none\",\"49\",\"53\",\"52\"\\n\"male\",\"group C\",\"high school\",\"standard\",\"none\",\"52\",\"53\",\"49\"\\n\"female\",\"group E\",\"master\\'s degree\",\"standard\",\"none\",\"81\",\"92\",\"91\"\\n\"female\",\"group C\",\"bachelor\\'s degree\",\"standard\",\"completed\",\"96\",\"100\",\"100\"\\n\"male\",\"group C\",\"high school\",\"free/reduced\",\"completed\",\"53\",\"51\",\"51\"\\n\"female\",\"group B\",\"master\\'s degree\",\"free/reduced\",\"completed\",\"58\",\"76\",\"78\"\\n\"female\",\"group B\",\"high school\",\"standard\",\"completed\",\"68\",\"83\",\"78\"\\n\"female\",\"group C\",\"some college\",\"free/reduced\",\"completed\",\"67\",\"75\",\"70\"\\n\"male\",\"group A\",\"high school\",\"standard\",\"completed\",\"72\",\"73\",\"74\"\\n\"male\",\"group E\",\"some high school\",\"standard\",\"none\",\"94\",\"88\",\"78\"\\n\"female\",\"group D\",\"some college\",\"standard\",\"none\",\"79\",\"86\",\"81\"\\n\"female\",\"group C\",\"associate\\'s degree\",\"standard\",\"none\",\"63\",\"67\",\"70\"\\n\"female\",\"group C\",\"bachelor\\'s degree\",\"free/reduced\",\"completed\",\"43\",\"51\",\"54\"\\n\"female\",\"group C\",\"master\\'s degree\",\"standard\",\"completed\",\"81\",\"91\",\"87\"\\n\"female\",\"group B\",\"high school\",\"free/reduced\",\"completed\",\"46\",\"54\",\"58\"\\n\"female\",\"group C\",\"associate\\'s degree\",\"standard\",\"completed\",\"71\",\"77\",\"77\"\\n\"female\",\"group B\",\"master\\'s degree\",\"free/reduced\",\"completed\",\"52\",\"70\",\"62\"\\n\"female\",\"group D\",\"some high school\",\"standard\",\"completed\",\"97\",\"100\",\"100\"\\n\"male\",\"group C\",\"master\\'s degree\",\"free/reduced\",\"completed\",\"62\",\"68\",\"75\"\\n\"female\",\"group C\",\"some college\",\"free/reduced\",\"none\",\"46\",\"64\",\"66\"\\n\"female\",\"group E\",\"high school\",\"standard\",\"none\",\"50\",\"50\",\"47\"\\n\"female\",\"group D\",\"associate\\'s degree\",\"standard\",\"none\",\"65\",\"69\",\"70\"\\n\"male\",\"group C\",\"some high school\",\"free/reduced\",\"completed\",\"45\",\"52\",\"49\"\\n\"male\",\"group C\",\"associate\\'s degree\",\"free/reduced\",\"completed\",\"65\",\"67\",\"65\"\\n\"male\",\"group E\",\"high school\",\"standard\",\"none\",\"80\",\"76\",\"65\"\\n\"male\",\"group D\",\"some high school\",\"standard\",\"completed\",\"62\",\"66\",\"68\"\\n\"male\",\"group B\",\"some high school\",\"free/reduced\",\"none\",\"48\",\"52\",\"45\"\\n\"female\",\"group C\",\"bachelor\\'s degree\",\"standard\",\"none\",\"77\",\"88\",\"87\"\\n\"female\",\"group E\",\"associate\\'s degree\",\"standard\",\"none\",\"66\",\"65\",\"69\"\\n\"male\",\"group D\",\"some college\",\"standard\",\"completed\",\"76\",\"83\",\"79\"\\n\"female\",\"group B\",\"some high school\",\"standard\",\"none\",\"62\",\"64\",\"66\"\\n\"male\",\"group D\",\"some college\",\"standard\",\"completed\",\"77\",\"62\",\"62\"\\n\"female\",\"group C\",\"master\\'s degree\",\"standard\",\"completed\",\"69\",\"84\",\"85\"\\n\"male\",\"group D\",\"associate\\'s degree\",\"standard\",\"none\",\"61\",\"55\",\"52\"\\n\"male\",\"group C\",\"some high school\",\"free/reduced\",\"completed\",\"59\",\"69\",\"65\"\\n\"male\",\"group E\",\"high school\",\"free/reduced\",\"none\",\"55\",\"56\",\"51\"\\n\"female\",\"group B\",\"some college\",\"free/reduced\",\"none\",\"45\",\"53\",\"55\"\\n\"female\",\"group B\",\"bachelor\\'s degree\",\"free/reduced\",\"none\",\"78\",\"79\",\"76\"\\n\"female\",\"group C\",\"associate\\'s degree\",\"standard\",\"completed\",\"67\",\"84\",\"86\"\\n\"female\",\"group D\",\"some college\",\"free/reduced\",\"none\",\"65\",\"81\",\"77\"\\n\"male\",\"group C\",\"associate\\'s degree\",\"standard\",\"none\",\"69\",\"77\",\"69\"\\n\"female\",\"group B\",\"associate\\'s degree\",\"standard\",\"none\",\"57\",\"69\",\"68\"\\n\"male\",\"group C\",\"some college\",\"standard\",\"none\",\"59\",\"41\",\"42\"\\n\"male\",\"group D\",\"some high school\",\"standard\",\"completed\",\"74\",\"71\",\"78\"\\n\"male\",\"group E\",\"bachelor\\'s degree\",\"standard\",\"none\",\"82\",\"62\",\"62\"\\n\"male\",\"group E\",\"high school\",\"standard\",\"completed\",\"81\",\"80\",\"76\"\\n\"female\",\"group B\",\"some college\",\"free/reduced\",\"none\",\"74\",\"81\",\"76\"\\n\"female\",\"group B\",\"some college\",\"free/reduced\",\"none\",\"58\",\"61\",\"66\"\\n\"male\",\"group D\",\"some high school\",\"free/reduced\",\"completed\",\"80\",\"79\",\"79\"\\n\"male\",\"group C\",\"some college\",\"free/reduced\",\"none\",\"35\",\"28\",\"27\"\\n\"female\",\"group C\",\"high school\",\"free/reduced\",\"none\",\"42\",\"62\",\"60\"\\n\"male\",\"group C\",\"associate\\'s degree\",\"free/reduced\",\"completed\",\"60\",\"51\",\"56\"\\n\"male\",\"group E\",\"high school\",\"standard\",\"completed\",\"87\",\"91\",\"81\"\\n\"male\",\"group B\",\"some high school\",\"standard\",\"completed\",\"84\",\"83\",\"75\"\\n\"female\",\"group E\",\"associate\\'s degree\",\"free/reduced\",\"completed\",\"83\",\"86\",\"88\"\\n\"female\",\"group C\",\"high school\",\"free/reduced\",\"none\",\"34\",\"42\",\"39\"\\n\"male\",\"group B\",\"high school\",\"free/reduced\",\"none\",\"66\",\"77\",\"70\"\\n\"male\",\"group B\",\"some high school\",\"standard\",\"completed\",\"61\",\"56\",\"56\"\\n\"female\",\"group D\",\"high school\",\"standard\",\"completed\",\"56\",\"68\",\"74\"\\n\"male\",\"group B\",\"associate\\'s degree\",\"standard\",\"none\",\"87\",\"85\",\"73\"\\n\"female\",\"group C\",\"some high school\",\"free/reduced\",\"none\",\"55\",\"65\",\"62\"\\n\"male\",\"group D\",\"some high school\",\"standard\",\"none\",\"86\",\"80\",\"75\"\\n\"female\",\"group B\",\"associate\\'s degree\",\"standard\",\"completed\",\"52\",\"66\",\"73\"\\n\"female\",\"group E\",\"master\\'s degree\",\"free/reduced\",\"none\",\"45\",\"56\",\"54\"\\n\"female\",\"group C\",\"some college\",\"standard\",\"none\",\"72\",\"72\",\"71\"\\n\"male\",\"group D\",\"high school\",\"standard\",\"none\",\"57\",\"50\",\"54\"\\n\"male\",\"group A\",\"some high school\",\"free/reduced\",\"none\",\"68\",\"72\",\"64\"\\n\"female\",\"group C\",\"some college\",\"standard\",\"completed\",\"88\",\"95\",\"94\"\\n\"male\",\"group D\",\"some college\",\"standard\",\"none\",\"76\",\"64\",\"66\"\\n\"male\",\"group C\",\"associate\\'s degree\",\"standard\",\"none\",\"46\",\"43\",\"42\"\\n\"female\",\"group B\",\"bachelor\\'s degree\",\"standard\",\"none\",\"67\",\"86\",\"83\"\\n\"male\",\"group E\",\"some high school\",\"standard\",\"none\",\"92\",\"87\",\"78\"\\n\"male\",\"group C\",\"bachelor\\'s degree\",\"standard\",\"completed\",\"83\",\"82\",\"84\"\\n\"male\",\"group D\",\"associate\\'s degree\",\"standard\",\"none\",\"80\",\"75\",\"77\"\\n\"male\",\"group D\",\"bachelor\\'s degree\",\"free/reduced\",\"none\",\"63\",\"66\",\"67\"\\n\"female\",\"group D\",\"some high school\",\"standard\",\"completed\",\"64\",\"60\",\"74\"\\n\"male\",\"group B\",\"some college\",\"standard\",\"none\",\"54\",\"52\",\"51\"\\n\"male\",\"group C\",\"associate\\'s degree\",\"standard\",\"none\",\"84\",\"80\",\"80\"\\n\"male\",\"group D\",\"high school\",\"free/reduced\",\"completed\",\"73\",\"68\",\"66\"\\n\"female\",\"group E\",\"bachelor\\'s degree\",\"standard\",\"none\",\"80\",\"83\",\"83\"\\n\"female\",\"group D\",\"high school\",\"standard\",\"none\",\"56\",\"52\",\"55\"\\n\"male\",\"group E\",\"some college\",\"standard\",\"none\",\"59\",\"51\",\"43\"\\n\"male\",\"group D\",\"some high school\",\"standard\",\"none\",\"75\",\"74\",\"69\"\\n\"male\",\"group C\",\"associate\\'s degree\",\"standard\",\"none\",\"85\",\"76\",\"71\"\\n\"male\",\"group E\",\"associate\\'s degree\",\"standard\",\"none\",\"89\",\"76\",\"74\"\\n\"female\",\"group B\",\"high school\",\"standard\",\"completed\",\"58\",\"70\",\"68\"\\n\"female\",\"group B\",\"high school\",\"standard\",\"none\",\"65\",\"64\",\"62\"\\n\"male\",\"group C\",\"high school\",\"standard\",\"none\",\"68\",\"60\",\"53\"\\n\"male\",\"group A\",\"some high school\",\"standard\",\"completed\",\"47\",\"49\",\"49\"\\n\"female\",\"group D\",\"some college\",\"free/reduced\",\"none\",\"71\",\"83\",\"83\"\\n\"female\",\"group B\",\"some high school\",\"standard\",\"completed\",\"60\",\"70\",\"70\"\\n\"male\",\"group D\",\"master\\'s degree\",\"standard\",\"none\",\"80\",\"80\",\"72\"\\n\"male\",\"group D\",\"high school\",\"standard\",\"none\",\"54\",\"52\",\"52\"\\n\"female\",\"group E\",\"some college\",\"standard\",\"none\",\"62\",\"73\",\"70\"\\n\"female\",\"group C\",\"associate\\'s degree\",\"free/reduced\",\"none\",\"64\",\"73\",\"68\"\\n\"male\",\"group C\",\"associate\\'s degree\",\"standard\",\"completed\",\"78\",\"77\",\"77\"\\n\"female\",\"group B\",\"some college\",\"standard\",\"none\",\"70\",\"75\",\"78\"\\n\"female\",\"group C\",\"master\\'s degree\",\"free/reduced\",\"completed\",\"65\",\"81\",\"81\"\\n\"female\",\"group C\",\"some high school\",\"free/reduced\",\"completed\",\"64\",\"79\",\"77\"\\n\"male\",\"group C\",\"some college\",\"standard\",\"completed\",\"79\",\"79\",\"78\"\\n\"female\",\"group C\",\"some high school\",\"free/reduced\",\"none\",\"44\",\"50\",\"51\"\\n\"female\",\"group E\",\"high school\",\"standard\",\"none\",\"99\",\"93\",\"90\"\\n\"male\",\"group D\",\"high school\",\"standard\",\"none\",\"76\",\"73\",\"68\"\\n\"male\",\"group D\",\"some high school\",\"free/reduced\",\"none\",\"59\",\"42\",\"41\"\\n\"female\",\"group C\",\"bachelor\\'s degree\",\"standard\",\"none\",\"63\",\"75\",\"81\"\\n\"female\",\"group D\",\"high school\",\"standard\",\"none\",\"69\",\"72\",\"77\"\\n\"female\",\"group D\",\"associate\\'s degree\",\"standard\",\"completed\",\"88\",\"92\",\"95\"\\n\"female\",\"group E\",\"some college\",\"free/reduced\",\"none\",\"71\",\"76\",\"70\"\\n\"male\",\"group C\",\"bachelor\\'s degree\",\"standard\",\"none\",\"69\",\"63\",\"61\"\\n\"male\",\"group C\",\"some college\",\"standard\",\"none\",\"58\",\"49\",\"42\"\\n\"female\",\"group D\",\"associate\\'s degree\",\"free/reduced\",\"none\",\"47\",\"53\",\"58\"\\n\"female\",\"group D\",\"some college\",\"standard\",\"none\",\"65\",\"70\",\"71\"\\n\"male\",\"group B\",\"some college\",\"standard\",\"completed\",\"88\",\"85\",\"76\"\\n\"male\",\"group C\",\"bachelor\\'s degree\",\"standard\",\"none\",\"83\",\"78\",\"73\"\\n\"female\",\"group C\",\"some high school\",\"standard\",\"completed\",\"85\",\"92\",\"93\"\\n\"female\",\"group E\",\"high school\",\"standard\",\"completed\",\"59\",\"63\",\"75\"\\n\"female\",\"group C\",\"some high school\",\"free/reduced\",\"none\",\"65\",\"86\",\"80\"\\n\"male\",\"group B\",\"bachelor\\'s degree\",\"free/reduced\",\"none\",\"73\",\"56\",\"57\"\\n\"male\",\"group D\",\"high school\",\"standard\",\"none\",\"53\",\"52\",\"42\"\\n\"male\",\"group D\",\"high school\",\"standard\",\"none\",\"45\",\"48\",\"46\"\\n\"female\",\"group D\",\"bachelor\\'s degree\",\"free/reduced\",\"none\",\"73\",\"79\",\"84\"\\n\"female\",\"group D\",\"some college\",\"free/reduced\",\"completed\",\"70\",\"78\",\"78\"\\n\"female\",\"group B\",\"some high school\",\"standard\",\"none\",\"37\",\"46\",\"46\"\\n\"male\",\"group B\",\"associate\\'s degree\",\"standard\",\"completed\",\"81\",\"82\",\"82\"\\n\"male\",\"group E\",\"associate\\'s degree\",\"standard\",\"completed\",\"97\",\"82\",\"88\"\\n\"female\",\"group B\",\"some high school\",\"standard\",\"none\",\"67\",\"89\",\"82\"\\n\"male\",\"group B\",\"bachelor\\'s degree\",\"free/reduced\",\"none\",\"88\",\"75\",\"76\"\\n\"male\",\"group E\",\"some high school\",\"standard\",\"completed\",\"77\",\"76\",\"77\"\\n\"male\",\"group C\",\"associate\\'s degree\",\"standard\",\"none\",\"76\",\"70\",\"68\"\\n\"male\",\"group D\",\"some high school\",\"standard\",\"none\",\"86\",\"73\",\"70\"\\n\"male\",\"group C\",\"some high school\",\"standard\",\"completed\",\"63\",\"60\",\"57\"\\n\"female\",\"group E\",\"bachelor\\'s degree\",\"standard\",\"none\",\"65\",\"73\",\"75\"\\n\"male\",\"group D\",\"high school\",\"free/reduced\",\"completed\",\"78\",\"77\",\"80\"\\n\"male\",\"group B\",\"associate\\'s degree\",\"free/reduced\",\"none\",\"67\",\"62\",\"60\"\\n\"male\",\"group A\",\"some high school\",\"standard\",\"completed\",\"46\",\"41\",\"43\"\\n\"male\",\"group E\",\"associate\\'s degree\",\"standard\",\"completed\",\"71\",\"74\",\"68\"\\n\"male\",\"group C\",\"high school\",\"free/reduced\",\"completed\",\"40\",\"46\",\"50\"\\n\"male\",\"group D\",\"associate\\'s degree\",\"free/reduced\",\"none\",\"90\",\"87\",\"75\"\\n\"male\",\"group A\",\"some college\",\"free/reduced\",\"completed\",\"81\",\"78\",\"81\"\\n\"male\",\"group D\",\"some high school\",\"free/reduced\",\"none\",\"56\",\"54\",\"52\"\\n\"female\",\"group C\",\"associate\\'s degree\",\"standard\",\"completed\",\"67\",\"84\",\"81\"\\n\"male\",\"group B\",\"associate\\'s degree\",\"standard\",\"none\",\"80\",\"76\",\"64\"\\n\"female\",\"group C\",\"associate\\'s degree\",\"standard\",\"completed\",\"74\",\"75\",\"83\"\\n\"male\",\"group A\",\"some college\",\"standard\",\"none\",\"69\",\"67\",\"69\"\\n\"male\",\"group E\",\"some college\",\"standard\",\"completed\",\"99\",\"87\",\"81\"\\n\"male\",\"group C\",\"some high school\",\"standard\",\"none\",\"51\",\"52\",\"44\"\\n\"female\",\"group B\",\"associate\\'s degree\",\"free/reduced\",\"none\",\"53\",\"71\",\"67\"\\n\"female\",\"group D\",\"high school\",\"free/reduced\",\"none\",\"49\",\"57\",\"52\"\\n\"female\",\"group B\",\"associate\\'s degree\",\"standard\",\"none\",\"73\",\"76\",\"80\"\\n\"male\",\"group B\",\"bachelor\\'s degree\",\"standard\",\"none\",\"66\",\"60\",\"57\"\\n\"male\",\"group D\",\"bachelor\\'s degree\",\"standard\",\"completed\",\"67\",\"61\",\"68\"\\n\"female\",\"group C\",\"associate\\'s degree\",\"free/reduced\",\"completed\",\"68\",\"67\",\"69\"\\n\"female\",\"group C\",\"bachelor\\'s degree\",\"standard\",\"completed\",\"59\",\"64\",\"75\"\\n\"male\",\"group C\",\"high school\",\"standard\",\"none\",\"71\",\"66\",\"65\"\\n\"female\",\"group D\",\"master\\'s degree\",\"standard\",\"completed\",\"77\",\"82\",\"91\"\\n\"male\",\"group C\",\"associate\\'s degree\",\"standard\",\"none\",\"83\",\"72\",\"78\"\\n\"male\",\"group B\",\"bachelor\\'s degree\",\"standard\",\"none\",\"63\",\"71\",\"69\"\\n\"female\",\"group D\",\"associate\\'s degree\",\"free/reduced\",\"none\",\"56\",\"65\",\"63\"\\n\"female\",\"group C\",\"high school\",\"free/reduced\",\"completed\",\"67\",\"79\",\"84\"\\n\"female\",\"group E\",\"high school\",\"standard\",\"none\",\"75\",\"86\",\"79\"\\n\"female\",\"group C\",\"some college\",\"standard\",\"none\",\"71\",\"81\",\"80\"\\n\"female\",\"group C\",\"some high school\",\"free/reduced\",\"none\",\"43\",\"53\",\"53\"\\n\"female\",\"group C\",\"high school\",\"free/reduced\",\"none\",\"41\",\"46\",\"43\"\\n\"female\",\"group C\",\"some college\",\"standard\",\"none\",\"82\",\"90\",\"94\"\\n\"male\",\"group C\",\"some college\",\"standard\",\"none\",\"61\",\"61\",\"62\"\\n\"male\",\"group A\",\"some college\",\"free/reduced\",\"none\",\"28\",\"23\",\"19\"\\n\"male\",\"group C\",\"associate\\'s degree\",\"standard\",\"completed\",\"82\",\"75\",\"77\"\\n\"female\",\"group B\",\"some high school\",\"standard\",\"none\",\"41\",\"55\",\"51\"\\n\"male\",\"group C\",\"high school\",\"standard\",\"none\",\"71\",\"60\",\"61\"\\n\"male\",\"group C\",\"associate\\'s degree\",\"standard\",\"none\",\"47\",\"37\",\"35\"\\n\"male\",\"group E\",\"associate\\'s degree\",\"standard\",\"completed\",\"62\",\"56\",\"53\"\\n\"male\",\"group B\",\"associate\\'s degree\",\"standard\",\"none\",\"90\",\"78\",\"81\"\\n\"female\",\"group C\",\"bachelor\\'s degree\",\"standard\",\"none\",\"83\",\"93\",\"95\"\\n\"female\",\"group B\",\"some college\",\"free/reduced\",\"none\",\"61\",\"68\",\"66\"\\n\"male\",\"group D\",\"some high school\",\"standard\",\"completed\",\"76\",\"70\",\"69\"\\n\"male\",\"group C\",\"associate\\'s degree\",\"standard\",\"none\",\"49\",\"51\",\"43\"\\n\"female\",\"group B\",\"some high school\",\"free/reduced\",\"none\",\"24\",\"38\",\"27\"\\n\"female\",\"group D\",\"some high school\",\"free/reduced\",\"completed\",\"35\",\"55\",\"60\"\\n\"male\",\"group C\",\"high school\",\"free/reduced\",\"none\",\"58\",\"61\",\"52\"\\n\"female\",\"group C\",\"high school\",\"standard\",\"none\",\"61\",\"73\",\"63\"\\n\"female\",\"group B\",\"high school\",\"standard\",\"completed\",\"69\",\"76\",\"74\"\\n\"male\",\"group D\",\"associate\\'s degree\",\"standard\",\"completed\",\"67\",\"72\",\"67\"\\n\"male\",\"group D\",\"some college\",\"standard\",\"none\",\"79\",\"73\",\"67\"\\n\"female\",\"group C\",\"high school\",\"standard\",\"none\",\"72\",\"80\",\"75\"\\n\"male\",\"group B\",\"some college\",\"standard\",\"none\",\"62\",\"61\",\"57\"\\n\"female\",\"group C\",\"bachelor\\'s degree\",\"standard\",\"completed\",\"77\",\"94\",\"95\"\\n\"male\",\"group D\",\"high school\",\"free/reduced\",\"none\",\"75\",\"74\",\"66\"\\n\"male\",\"group E\",\"associate\\'s degree\",\"standard\",\"none\",\"87\",\"74\",\"76\"\\n\"female\",\"group B\",\"bachelor\\'s degree\",\"standard\",\"none\",\"52\",\"65\",\"69\"\\n\"male\",\"group E\",\"some college\",\"standard\",\"none\",\"66\",\"57\",\"52\"\\n\"female\",\"group C\",\"some college\",\"standard\",\"completed\",\"63\",\"78\",\"80\"\\n\"female\",\"group C\",\"associate\\'s degree\",\"standard\",\"none\",\"46\",\"58\",\"57\"\\n\"female\",\"group C\",\"some college\",\"standard\",\"none\",\"59\",\"71\",\"70\"\\n\"female\",\"group B\",\"bachelor\\'s degree\",\"standard\",\"none\",\"61\",\"72\",\"70\"\\n\"male\",\"group A\",\"associate\\'s degree\",\"standard\",\"none\",\"63\",\"61\",\"61\"\\n\"female\",\"group C\",\"some college\",\"free/reduced\",\"completed\",\"42\",\"66\",\"69\"\\n\"male\",\"group D\",\"some college\",\"free/reduced\",\"none\",\"59\",\"62\",\"61\"\\n\"female\",\"group D\",\"some college\",\"standard\",\"none\",\"80\",\"90\",\"89\"\\n\"female\",\"group B\",\"high school\",\"standard\",\"none\",\"58\",\"62\",\"59\"\\n\"male\",\"group B\",\"some high school\",\"standard\",\"completed\",\"85\",\"84\",\"78\"\\n\"female\",\"group C\",\"some college\",\"standard\",\"none\",\"52\",\"58\",\"58\"\\n\"female\",\"group D\",\"some high school\",\"free/reduced\",\"none\",\"27\",\"34\",\"32\"\\n\"male\",\"group C\",\"some college\",\"standard\",\"none\",\"59\",\"60\",\"58\"\\n\"male\",\"group A\",\"bachelor\\'s degree\",\"free/reduced\",\"completed\",\"49\",\"58\",\"60\"\\n\"male\",\"group C\",\"high school\",\"standard\",\"completed\",\"69\",\"58\",\"53\"\\n\"male\",\"group C\",\"bachelor\\'s degree\",\"free/reduced\",\"none\",\"61\",\"66\",\"61\"\\n\"female\",\"group A\",\"some high school\",\"free/reduced\",\"none\",\"44\",\"64\",\"58\"\\n\"female\",\"group D\",\"some high school\",\"standard\",\"none\",\"73\",\"84\",\"85\"\\n\"male\",\"group E\",\"some college\",\"standard\",\"none\",\"84\",\"77\",\"71\"\\n\"female\",\"group C\",\"some college\",\"free/reduced\",\"completed\",\"45\",\"73\",\"70\"\\n\"male\",\"group D\",\"some high school\",\"standard\",\"none\",\"74\",\"74\",\"72\"\\n\"female\",\"group D\",\"some college\",\"standard\",\"completed\",\"82\",\"97\",\"96\"\\n\"female\",\"group D\",\"bachelor\\'s degree\",\"standard\",\"none\",\"59\",\"70\",\"73\"\\n\"male\",\"group E\",\"associate\\'s degree\",\"free/reduced\",\"none\",\"46\",\"43\",\"41\"\\n\"female\",\"group D\",\"some high school\",\"standard\",\"none\",\"80\",\"90\",\"82\"\\n\"female\",\"group D\",\"master\\'s degree\",\"free/reduced\",\"completed\",\"85\",\"95\",\"100\"\\n\"female\",\"group A\",\"some high school\",\"standard\",\"none\",\"71\",\"83\",\"77\"\\n\"male\",\"group A\",\"bachelor\\'s degree\",\"standard\",\"none\",\"66\",\"64\",\"62\"\\n\"female\",\"group B\",\"associate\\'s degree\",\"standard\",\"none\",\"80\",\"86\",\"83\"\\n\"male\",\"group C\",\"associate\\'s degree\",\"standard\",\"completed\",\"87\",\"100\",\"95\"\\n\"male\",\"group C\",\"master\\'s degree\",\"free/reduced\",\"none\",\"79\",\"81\",\"71\"\\n\"female\",\"group E\",\"some high school\",\"free/reduced\",\"none\",\"38\",\"49\",\"45\"\\n\"female\",\"group A\",\"some high school\",\"free/reduced\",\"none\",\"38\",\"43\",\"43\"\\n\"female\",\"group E\",\"some college\",\"standard\",\"none\",\"67\",\"76\",\"75\"\\n\"female\",\"group E\",\"bachelor\\'s degree\",\"standard\",\"none\",\"64\",\"73\",\"70\"\\n\"female\",\"group C\",\"associate\\'s degree\",\"free/reduced\",\"none\",\"57\",\"78\",\"67\"\\n\"female\",\"group D\",\"high school\",\"standard\",\"none\",\"62\",\"64\",\"64\"\\n\"male\",\"group D\",\"master\\'s degree\",\"standard\",\"none\",\"73\",\"70\",\"75\"\\n\"male\",\"group E\",\"some high school\",\"free/reduced\",\"completed\",\"73\",\"67\",\"59\"\\n\"female\",\"group D\",\"some college\",\"standard\",\"none\",\"77\",\"68\",\"77\"\\n\"male\",\"group E\",\"some college\",\"standard\",\"none\",\"76\",\"67\",\"67\"\\n\"male\",\"group C\",\"associate\\'s degree\",\"standard\",\"completed\",\"57\",\"54\",\"56\"\\n\"female\",\"group C\",\"some high school\",\"standard\",\"completed\",\"65\",\"74\",\"77\"\\n\"male\",\"group A\",\"high school\",\"free/reduced\",\"none\",\"48\",\"45\",\"41\"\\n\"female\",\"group B\",\"high school\",\"free/reduced\",\"none\",\"50\",\"67\",\"63\"\\n\"female\",\"group C\",\"associate\\'s degree\",\"standard\",\"none\",\"85\",\"89\",\"95\"\\n\"male\",\"group B\",\"some high school\",\"standard\",\"none\",\"74\",\"63\",\"57\"\\n\"male\",\"group D\",\"some high school\",\"standard\",\"none\",\"60\",\"59\",\"54\"\\n\"female\",\"group C\",\"some high school\",\"standard\",\"completed\",\"59\",\"54\",\"67\"\\n\"male\",\"group A\",\"some college\",\"standard\",\"none\",\"53\",\"43\",\"43\"\\n\"female\",\"group A\",\"some college\",\"free/reduced\",\"none\",\"49\",\"65\",\"55\"\\n\"female\",\"group D\",\"high school\",\"standard\",\"completed\",\"88\",\"99\",\"100\"\\n\"female\",\"group C\",\"high school\",\"standard\",\"none\",\"54\",\"59\",\"62\"\\n\"female\",\"group C\",\"some high school\",\"standard\",\"none\",\"63\",\"73\",\"68\"\\n\"male\",\"group B\",\"associate\\'s degree\",\"standard\",\"completed\",\"65\",\"65\",\"63\"\\n\"female\",\"group B\",\"associate\\'s degree\",\"standard\",\"none\",\"82\",\"80\",\"77\"\\n\"female\",\"group D\",\"high school\",\"free/reduced\",\"completed\",\"52\",\"57\",\"56\"\\n\"male\",\"group D\",\"associate\\'s degree\",\"standard\",\"completed\",\"87\",\"84\",\"85\"\\n\"female\",\"group D\",\"master\\'s degree\",\"standard\",\"completed\",\"70\",\"71\",\"74\"\\n\"male\",\"group E\",\"some college\",\"standard\",\"completed\",\"84\",\"83\",\"78\"\\n\"male\",\"group D\",\"associate\\'s degree\",\"standard\",\"none\",\"71\",\"66\",\"60\"\\n\"male\",\"group B\",\"some high school\",\"standard\",\"completed\",\"63\",\"67\",\"67\"\\n\"female\",\"group C\",\"bachelor\\'s degree\",\"free/reduced\",\"completed\",\"51\",\"72\",\"79\"\\n\"male\",\"group E\",\"high school\",\"standard\",\"none\",\"84\",\"73\",\"69\"\\n\"male\",\"group C\",\"bachelor\\'s degree\",\"standard\",\"completed\",\"71\",\"74\",\"68\"\\n\"male\",\"group C\",\"associate\\'s degree\",\"standard\",\"none\",\"74\",\"73\",\"67\"\\n\"male\",\"group D\",\"some college\",\"standard\",\"none\",\"68\",\"59\",\"62\"\\n\"male\",\"group E\",\"high school\",\"free/reduced\",\"completed\",\"57\",\"56\",\"54\"\\n\"female\",\"group C\",\"associate\\'s degree\",\"free/reduced\",\"completed\",\"82\",\"93\",\"93\"\\n\"female\",\"group D\",\"high school\",\"standard\",\"completed\",\"57\",\"58\",\"64\"\\n\"female\",\"group D\",\"master\\'s degree\",\"free/reduced\",\"completed\",\"47\",\"58\",\"67\"\\n\"female\",\"group A\",\"some high school\",\"standard\",\"completed\",\"59\",\"85\",\"80\"\\n\"male\",\"group B\",\"some college\",\"free/reduced\",\"none\",\"41\",\"39\",\"34\"\\n\"female\",\"group C\",\"some college\",\"free/reduced\",\"none\",\"62\",\"67\",\"62\"\\n\"male\",\"group C\",\"bachelor\\'s degree\",\"standard\",\"none\",\"86\",\"83\",\"86\"\\n\"male\",\"group C\",\"some high school\",\"free/reduced\",\"none\",\"69\",\"71\",\"65\"\\n\"male\",\"group A\",\"some high school\",\"free/reduced\",\"none\",\"65\",\"59\",\"53\"\\n\"male\",\"group C\",\"some high school\",\"free/reduced\",\"none\",\"68\",\"63\",\"54\"\\n\"male\",\"group C\",\"associate\\'s degree\",\"free/reduced\",\"none\",\"64\",\"66\",\"59\"\\n\"female\",\"group C\",\"high school\",\"standard\",\"none\",\"61\",\"72\",\"70\"\\n\"male\",\"group C\",\"high school\",\"standard\",\"none\",\"61\",\"56\",\"55\"\\n\"female\",\"group A\",\"some high school\",\"free/reduced\",\"none\",\"47\",\"59\",\"50\"\\n\"male\",\"group C\",\"some high school\",\"standard\",\"none\",\"73\",\"66\",\"66\"\\n\"male\",\"group C\",\"some college\",\"free/reduced\",\"completed\",\"50\",\"48\",\"53\"\\n\"male\",\"group D\",\"associate\\'s degree\",\"standard\",\"none\",\"75\",\"68\",\"64\"\\n\"male\",\"group D\",\"associate\\'s degree\",\"free/reduced\",\"none\",\"75\",\"66\",\"73\"\\n\"male\",\"group C\",\"high school\",\"standard\",\"none\",\"70\",\"56\",\"51\"\\n\"male\",\"group D\",\"some high school\",\"standard\",\"completed\",\"89\",\"88\",\"82\"\\n\"female\",\"group C\",\"some college\",\"standard\",\"completed\",\"67\",\"81\",\"79\"\\n\"female\",\"group D\",\"high school\",\"standard\",\"none\",\"78\",\"81\",\"80\"\\n\"female\",\"group A\",\"some high school\",\"free/reduced\",\"none\",\"59\",\"73\",\"69\"\\n\"female\",\"group B\",\"associate\\'s degree\",\"standard\",\"none\",\"73\",\"83\",\"76\"\\n\"male\",\"group A\",\"some high school\",\"free/reduced\",\"none\",\"79\",\"82\",\"73\"\\n\"female\",\"group C\",\"some high school\",\"standard\",\"completed\",\"67\",\"74\",\"77\"\\n\"male\",\"group D\",\"some college\",\"free/reduced\",\"none\",\"69\",\"66\",\"60\"\\n\"male\",\"group C\",\"high school\",\"standard\",\"completed\",\"86\",\"81\",\"80\"\\n\"male\",\"group B\",\"high school\",\"standard\",\"none\",\"47\",\"46\",\"42\"\\n\"male\",\"group B\",\"associate\\'s degree\",\"standard\",\"none\",\"81\",\"73\",\"72\"\\n\"female\",\"group C\",\"some college\",\"free/reduced\",\"completed\",\"64\",\"85\",\"85\"\\n\"female\",\"group E\",\"some college\",\"standard\",\"none\",\"100\",\"92\",\"97\"\\n\"female\",\"group C\",\"associate\\'s degree\",\"free/reduced\",\"none\",\"65\",\"77\",\"74\"\\n\"male\",\"group C\",\"some college\",\"free/reduced\",\"none\",\"65\",\"58\",\"49\"\\n\"female\",\"group C\",\"associate\\'s degree\",\"free/reduced\",\"none\",\"53\",\"61\",\"62\"\\n\"male\",\"group C\",\"bachelor\\'s degree\",\"free/reduced\",\"none\",\"37\",\"56\",\"47\"\\n\"female\",\"group D\",\"bachelor\\'s degree\",\"standard\",\"none\",\"79\",\"89\",\"89\"\\n\"male\",\"group D\",\"associate\\'s degree\",\"free/reduced\",\"none\",\"53\",\"54\",\"48\"\\n\"female\",\"group E\",\"bachelor\\'s degree\",\"standard\",\"none\",\"100\",\"100\",\"100\"\\n\"male\",\"group B\",\"high school\",\"standard\",\"completed\",\"72\",\"65\",\"68\"\\n\"male\",\"group C\",\"bachelor\\'s degree\",\"free/reduced\",\"none\",\"53\",\"58\",\"55\"\\n\"male\",\"group B\",\"some college\",\"free/reduced\",\"none\",\"54\",\"54\",\"45\"\\n\"female\",\"group E\",\"some college\",\"standard\",\"none\",\"71\",\"70\",\"76\"\\n\"female\",\"group C\",\"some college\",\"free/reduced\",\"none\",\"77\",\"90\",\"91\"\\n\"male\",\"group A\",\"bachelor\\'s degree\",\"standard\",\"completed\",\"75\",\"58\",\"62\"\\n\"female\",\"group C\",\"some college\",\"standard\",\"none\",\"84\",\"87\",\"91\"\\n\"female\",\"group D\",\"associate\\'s degree\",\"free/reduced\",\"none\",\"26\",\"31\",\"38\"\\n\"male\",\"group A\",\"high school\",\"free/reduced\",\"completed\",\"72\",\"67\",\"65\"\\n\"female\",\"group A\",\"high school\",\"free/reduced\",\"completed\",\"77\",\"88\",\"85\"\\n\"male\",\"group C\",\"some college\",\"standard\",\"none\",\"91\",\"74\",\"76\"\\n\"female\",\"group C\",\"associate\\'s degree\",\"standard\",\"completed\",\"83\",\"85\",\"90\"\\n\"female\",\"group C\",\"high school\",\"standard\",\"none\",\"63\",\"69\",\"74\"\\n\"female\",\"group C\",\"associate\\'s degree\",\"standard\",\"completed\",\"68\",\"86\",\"84\"\\n\"female\",\"group D\",\"some high school\",\"standard\",\"none\",\"59\",\"67\",\"61\"\\n\"female\",\"group B\",\"associate\\'s degree\",\"standard\",\"completed\",\"90\",\"90\",\"91\"\\n\"female\",\"group D\",\"bachelor\\'s degree\",\"standard\",\"completed\",\"71\",\"76\",\"83\"\\n\"male\",\"group E\",\"bachelor\\'s degree\",\"standard\",\"completed\",\"76\",\"62\",\"66\"\\n\"male\",\"group D\",\"associate\\'s degree\",\"standard\",\"none\",\"80\",\"68\",\"72\"\\n\"female\",\"group D\",\"master\\'s degree\",\"standard\",\"none\",\"55\",\"64\",\"70\"\\n\"male\",\"group E\",\"associate\\'s degree\",\"standard\",\"none\",\"76\",\"71\",\"67\"\\n\"male\",\"group B\",\"high school\",\"standard\",\"completed\",\"73\",\"71\",\"68\"\\n\"female\",\"group D\",\"associate\\'s degree\",\"free/reduced\",\"none\",\"52\",\"59\",\"56\"\\n\"male\",\"group C\",\"some college\",\"free/reduced\",\"none\",\"68\",\"68\",\"61\"\\n\"male\",\"group A\",\"high school\",\"standard\",\"none\",\"59\",\"52\",\"46\"\\n\"female\",\"group B\",\"associate\\'s degree\",\"standard\",\"none\",\"49\",\"52\",\"54\"\\n\"male\",\"group C\",\"high school\",\"standard\",\"none\",\"70\",\"74\",\"71\"\\n\"male\",\"group D\",\"some college\",\"free/reduced\",\"none\",\"61\",\"47\",\"56\"\\n\"female\",\"group C\",\"associate\\'s degree\",\"free/reduced\",\"none\",\"60\",\"75\",\"74\"\\n\"male\",\"group B\",\"some high school\",\"standard\",\"completed\",\"64\",\"53\",\"57\"\\n\"male\",\"group A\",\"associate\\'s degree\",\"free/reduced\",\"completed\",\"79\",\"82\",\"82\"\\n\"female\",\"group A\",\"associate\\'s degree\",\"free/reduced\",\"none\",\"65\",\"85\",\"76\"\\n\"female\",\"group C\",\"associate\\'s degree\",\"standard\",\"none\",\"64\",\"64\",\"70\"\\n\"female\",\"group C\",\"some college\",\"standard\",\"none\",\"83\",\"83\",\"90\"\\n\"female\",\"group C\",\"bachelor\\'s degree\",\"standard\",\"none\",\"81\",\"88\",\"90\"\\n\"female\",\"group B\",\"high school\",\"standard\",\"none\",\"54\",\"64\",\"68\"\\n\"male\",\"group D\",\"high school\",\"standard\",\"completed\",\"68\",\"64\",\"66\"\\n\"female\",\"group C\",\"some college\",\"standard\",\"none\",\"54\",\"48\",\"52\"\\n\"female\",\"group D\",\"some college\",\"free/reduced\",\"completed\",\"59\",\"78\",\"76\"\\n\"female\",\"group B\",\"some high school\",\"standard\",\"none\",\"66\",\"69\",\"68\"\\n\"male\",\"group E\",\"some college\",\"standard\",\"none\",\"76\",\"71\",\"72\"\\n\"female\",\"group D\",\"master\\'s degree\",\"standard\",\"none\",\"74\",\"79\",\"82\"\\n\"female\",\"group B\",\"associate\\'s degree\",\"standard\",\"completed\",\"94\",\"87\",\"92\"\\n\"male\",\"group C\",\"some college\",\"free/reduced\",\"none\",\"63\",\"61\",\"54\"\\n\"female\",\"group E\",\"associate\\'s degree\",\"standard\",\"completed\",\"95\",\"89\",\"92\"\\n\"female\",\"group D\",\"master\\'s degree\",\"free/reduced\",\"none\",\"40\",\"59\",\"54\"\\n\"female\",\"group B\",\"some high school\",\"standard\",\"none\",\"82\",\"82\",\"80\"\\n\"male\",\"group A\",\"high school\",\"standard\",\"none\",\"68\",\"70\",\"66\"\\n\"male\",\"group B\",\"bachelor\\'s degree\",\"free/reduced\",\"none\",\"55\",\"59\",\"54\"\\n\"male\",\"group C\",\"master\\'s degree\",\"standard\",\"none\",\"79\",\"78\",\"77\"\\n\"female\",\"group C\",\"bachelor\\'s degree\",\"standard\",\"none\",\"86\",\"92\",\"87\"\\n\"male\",\"group D\",\"some college\",\"standard\",\"none\",\"76\",\"71\",\"73\"\\n\"male\",\"group A\",\"some high school\",\"standard\",\"none\",\"64\",\"50\",\"43\"\\n\"male\",\"group D\",\"some high school\",\"free/reduced\",\"none\",\"62\",\"49\",\"52\"\\n\"female\",\"group B\",\"some high school\",\"standard\",\"completed\",\"54\",\"61\",\"62\"\\n\"female\",\"group B\",\"master\\'s degree\",\"free/reduced\",\"completed\",\"77\",\"97\",\"94\"\\n\"female\",\"group C\",\"some high school\",\"standard\",\"completed\",\"76\",\"87\",\"85\"\\n\"female\",\"group D\",\"some college\",\"standard\",\"none\",\"74\",\"89\",\"84\"\\n\"female\",\"group E\",\"some college\",\"standard\",\"completed\",\"66\",\"74\",\"73\"\\n\"female\",\"group D\",\"some high school\",\"standard\",\"completed\",\"66\",\"78\",\"78\"\\n\"female\",\"group B\",\"high school\",\"free/reduced\",\"completed\",\"67\",\"78\",\"79\"\\n\"male\",\"group D\",\"some college\",\"standard\",\"none\",\"71\",\"49\",\"52\"\\n\"female\",\"group C\",\"associate\\'s degree\",\"standard\",\"none\",\"91\",\"86\",\"84\"\\n\"male\",\"group D\",\"bachelor\\'s degree\",\"standard\",\"none\",\"69\",\"58\",\"57\"\\n\"male\",\"group C\",\"master\\'s degree\",\"free/reduced\",\"none\",\"54\",\"59\",\"50\"\\n\"male\",\"group C\",\"high school\",\"standard\",\"completed\",\"53\",\"52\",\"49\"\\n\"male\",\"group E\",\"some college\",\"standard\",\"none\",\"68\",\"60\",\"59\"\\n\"male\",\"group C\",\"some high school\",\"free/reduced\",\"completed\",\"56\",\"61\",\"60\"\\n\"female\",\"group C\",\"high school\",\"free/reduced\",\"none\",\"36\",\"53\",\"43\"\\n\"female\",\"group D\",\"bachelor\\'s degree\",\"free/reduced\",\"none\",\"29\",\"41\",\"47\"\\n\"female\",\"group C\",\"associate\\'s degree\",\"standard\",\"none\",\"62\",\"74\",\"70\"\\n\"female\",\"group C\",\"associate\\'s degree\",\"standard\",\"completed\",\"68\",\"67\",\"73\"\\n\"female\",\"group C\",\"some high school\",\"standard\",\"none\",\"47\",\"54\",\"53\"\\n\"male\",\"group E\",\"associate\\'s degree\",\"standard\",\"completed\",\"62\",\"61\",\"58\"\\n\"female\",\"group E\",\"associate\\'s degree\",\"standard\",\"completed\",\"79\",\"88\",\"94\"\\n\"male\",\"group B\",\"high school\",\"standard\",\"completed\",\"73\",\"69\",\"68\"\\n\"female\",\"group C\",\"bachelor\\'s degree\",\"free/reduced\",\"completed\",\"66\",\"83\",\"83\"\\n\"male\",\"group C\",\"associate\\'s degree\",\"standard\",\"completed\",\"51\",\"60\",\"58\"\\n\"female\",\"group D\",\"high school\",\"standard\",\"none\",\"51\",\"66\",\"62\"\\n\"male\",\"group E\",\"bachelor\\'s degree\",\"standard\",\"completed\",\"85\",\"66\",\"71\"\\n\"male\",\"group A\",\"associate\\'s degree\",\"standard\",\"completed\",\"97\",\"92\",\"86\"\\n\"male\",\"group C\",\"high school\",\"standard\",\"completed\",\"75\",\"69\",\"68\"\\n\"male\",\"group D\",\"associate\\'s degree\",\"free/reduced\",\"completed\",\"79\",\"82\",\"80\"\\n\"female\",\"group C\",\"associate\\'s degree\",\"standard\",\"none\",\"81\",\"77\",\"79\"\\n\"female\",\"group D\",\"associate\\'s degree\",\"standard\",\"none\",\"82\",\"95\",\"89\"\\n\"female\",\"group D\",\"master\\'s degree\",\"standard\",\"none\",\"64\",\"63\",\"66\"\\n\"male\",\"group E\",\"some high school\",\"free/reduced\",\"completed\",\"78\",\"83\",\"80\"\\n\"female\",\"group A\",\"some high school\",\"standard\",\"completed\",\"92\",\"100\",\"97\"\\n\"male\",\"group C\",\"high school\",\"standard\",\"completed\",\"72\",\"67\",\"64\"\\n\"female\",\"group C\",\"high school\",\"free/reduced\",\"none\",\"62\",\"67\",\"64\"\\n\"male\",\"group C\",\"master\\'s degree\",\"standard\",\"none\",\"79\",\"72\",\"69\"\\n\"male\",\"group C\",\"some high school\",\"free/reduced\",\"none\",\"79\",\"76\",\"65\"\\n\"male\",\"group B\",\"bachelor\\'s degree\",\"free/reduced\",\"completed\",\"87\",\"90\",\"88\"\\n\"female\",\"group B\",\"associate\\'s degree\",\"standard\",\"none\",\"40\",\"48\",\"50\"\\n\"male\",\"group D\",\"some college\",\"free/reduced\",\"none\",\"77\",\"62\",\"64\"\\n\"male\",\"group E\",\"associate\\'s degree\",\"standard\",\"none\",\"53\",\"45\",\"40\"\\n\"female\",\"group C\",\"some college\",\"free/reduced\",\"none\",\"32\",\"39\",\"33\"\\n\"female\",\"group C\",\"associate\\'s degree\",\"standard\",\"completed\",\"55\",\"72\",\"79\"\\n\"male\",\"group C\",\"master\\'s degree\",\"free/reduced\",\"none\",\"61\",\"67\",\"66\"\\n\"female\",\"group B\",\"associate\\'s degree\",\"free/reduced\",\"none\",\"53\",\"70\",\"70\"\\n\"male\",\"group D\",\"some high school\",\"standard\",\"none\",\"73\",\"66\",\"62\"\\n\"female\",\"group D\",\"some college\",\"standard\",\"completed\",\"74\",\"75\",\"79\"\\n\"female\",\"group C\",\"some college\",\"standard\",\"none\",\"63\",\"74\",\"74\"\\n\"male\",\"group C\",\"bachelor\\'s degree\",\"standard\",\"completed\",\"96\",\"90\",\"92\"\\n\"female\",\"group D\",\"some college\",\"free/reduced\",\"completed\",\"63\",\"80\",\"80\"\\n\"male\",\"group B\",\"bachelor\\'s degree\",\"free/reduced\",\"none\",\"48\",\"51\",\"46\"\\n\"male\",\"group B\",\"associate\\'s degree\",\"standard\",\"none\",\"48\",\"43\",\"45\"\\n\"female\",\"group E\",\"bachelor\\'s degree\",\"free/reduced\",\"completed\",\"92\",\"100\",\"100\"\\n\"female\",\"group D\",\"master\\'s degree\",\"free/reduced\",\"completed\",\"61\",\"71\",\"78\"\\n\"male\",\"group B\",\"high school\",\"free/reduced\",\"none\",\"63\",\"48\",\"47\"\\n\"male\",\"group D\",\"bachelor\\'s degree\",\"free/reduced\",\"none\",\"68\",\"68\",\"67\"\\n\"male\",\"group B\",\"some college\",\"standard\",\"completed\",\"71\",\"75\",\"70\"\\n\"male\",\"group A\",\"bachelor\\'s degree\",\"standard\",\"none\",\"91\",\"96\",\"92\"\\n\"female\",\"group C\",\"some college\",\"standard\",\"none\",\"53\",\"62\",\"56\"\\n\"female\",\"group C\",\"high school\",\"free/reduced\",\"completed\",\"50\",\"66\",\"64\"\\n\"female\",\"group E\",\"high school\",\"standard\",\"none\",\"74\",\"81\",\"71\"\\n\"male\",\"group A\",\"associate\\'s degree\",\"free/reduced\",\"completed\",\"40\",\"55\",\"53\"\\n\"male\",\"group A\",\"some college\",\"standard\",\"completed\",\"61\",\"51\",\"52\"\\n\"female\",\"group B\",\"high school\",\"standard\",\"none\",\"81\",\"91\",\"89\"\\n\"female\",\"group B\",\"some college\",\"free/reduced\",\"completed\",\"48\",\"56\",\"58\"\\n\"female\",\"group D\",\"master\\'s degree\",\"standard\",\"none\",\"53\",\"61\",\"68\"\\n\"female\",\"group D\",\"some high school\",\"standard\",\"none\",\"81\",\"97\",\"96\"\\n\"female\",\"group E\",\"some high school\",\"standard\",\"none\",\"77\",\"79\",\"80\"\\n\"female\",\"group D\",\"bachelor\\'s degree\",\"free/reduced\",\"none\",\"63\",\"73\",\"78\"\\n\"female\",\"group D\",\"associate\\'s degree\",\"standard\",\"completed\",\"73\",\"75\",\"80\"\\n\"female\",\"group D\",\"some college\",\"standard\",\"none\",\"69\",\"77\",\"77\"\\n\"female\",\"group C\",\"associate\\'s degree\",\"standard\",\"none\",\"65\",\"76\",\"76\"\\n\"female\",\"group A\",\"high school\",\"standard\",\"none\",\"55\",\"73\",\"73\"\\n\"female\",\"group C\",\"bachelor\\'s degree\",\"free/reduced\",\"none\",\"44\",\"63\",\"62\"\\n\"female\",\"group C\",\"some college\",\"standard\",\"none\",\"54\",\"64\",\"65\"\\n\"female\",\"group A\",\"some high school\",\"standard\",\"none\",\"48\",\"66\",\"65\"\\n\"male\",\"group C\",\"some college\",\"free/reduced\",\"none\",\"58\",\"57\",\"54\"\\n\"male\",\"group A\",\"some high school\",\"standard\",\"none\",\"71\",\"62\",\"50\"\\n\"male\",\"group E\",\"bachelor\\'s degree\",\"standard\",\"none\",\"68\",\"68\",\"64\"\\n\"female\",\"group E\",\"high school\",\"standard\",\"none\",\"74\",\"76\",\"73\"\\n\"female\",\"group C\",\"bachelor\\'s degree\",\"standard\",\"completed\",\"92\",\"100\",\"99\"\\n\"female\",\"group C\",\"bachelor\\'s degree\",\"standard\",\"completed\",\"56\",\"79\",\"72\"\\n\"male\",\"group B\",\"high school\",\"free/reduced\",\"none\",\"30\",\"24\",\"15\"\\n\"male\",\"group A\",\"some high school\",\"standard\",\"none\",\"53\",\"54\",\"48\"\\n\"female\",\"group D\",\"high school\",\"standard\",\"none\",\"69\",\"77\",\"73\"\\n\"female\",\"group D\",\"some high school\",\"standard\",\"none\",\"65\",\"82\",\"81\"\\n\"female\",\"group D\",\"master\\'s degree\",\"standard\",\"none\",\"54\",\"60\",\"63\"\\n\"female\",\"group C\",\"high school\",\"standard\",\"none\",\"29\",\"29\",\"30\"\\n\"female\",\"group E\",\"some college\",\"standard\",\"none\",\"76\",\"78\",\"80\"\\n\"male\",\"group D\",\"high school\",\"free/reduced\",\"none\",\"60\",\"57\",\"51\"\\n\"male\",\"group D\",\"master\\'s degree\",\"free/reduced\",\"completed\",\"84\",\"89\",\"90\"\\n\"male\",\"group C\",\"some high school\",\"standard\",\"none\",\"75\",\"72\",\"62\"\\n\"female\",\"group C\",\"associate\\'s degree\",\"standard\",\"none\",\"85\",\"84\",\"82\"\\n\"female\",\"group C\",\"master\\'s degree\",\"free/reduced\",\"none\",\"40\",\"58\",\"54\"\\n\"female\",\"group E\",\"some college\",\"standard\",\"none\",\"61\",\"64\",\"62\"\\n\"female\",\"group B\",\"associate\\'s degree\",\"standard\",\"none\",\"58\",\"63\",\"65\"\\n\"male\",\"group D\",\"some college\",\"free/reduced\",\"completed\",\"69\",\"60\",\"63\"\\n\"female\",\"group C\",\"some college\",\"standard\",\"none\",\"58\",\"59\",\"66\"\\n\"male\",\"group C\",\"bachelor\\'s degree\",\"standard\",\"completed\",\"94\",\"90\",\"91\"\\n\"female\",\"group C\",\"associate\\'s degree\",\"standard\",\"none\",\"65\",\"77\",\"74\"\\n\"female\",\"group A\",\"associate\\'s degree\",\"standard\",\"none\",\"82\",\"93\",\"93\"\\n\"female\",\"group C\",\"high school\",\"standard\",\"none\",\"60\",\"68\",\"72\"\\n\"female\",\"group E\",\"bachelor\\'s degree\",\"standard\",\"none\",\"37\",\"45\",\"38\"\\n\"male\",\"group D\",\"bachelor\\'s degree\",\"standard\",\"none\",\"88\",\"78\",\"83\"\\n\"male\",\"group D\",\"master\\'s degree\",\"standard\",\"none\",\"95\",\"81\",\"84\"\\n\"male\",\"group C\",\"associate\\'s degree\",\"free/reduced\",\"completed\",\"65\",\"73\",\"68\"\\n\"female\",\"group C\",\"high school\",\"free/reduced\",\"none\",\"35\",\"61\",\"54\"\\n\"male\",\"group B\",\"bachelor\\'s degree\",\"free/reduced\",\"none\",\"62\",\"63\",\"56\"\\n\"male\",\"group C\",\"high school\",\"free/reduced\",\"completed\",\"58\",\"51\",\"52\"\\n\"male\",\"group A\",\"some college\",\"standard\",\"completed\",\"100\",\"96\",\"86\"\\n\"female\",\"group E\",\"bachelor\\'s degree\",\"free/reduced\",\"none\",\"61\",\"58\",\"62\"\\n\"male\",\"group D\",\"some college\",\"standard\",\"completed\",\"100\",\"97\",\"99\"\\n\"male\",\"group B\",\"associate\\'s degree\",\"free/reduced\",\"completed\",\"69\",\"70\",\"63\"\\n\"male\",\"group D\",\"associate\\'s degree\",\"standard\",\"none\",\"61\",\"48\",\"46\"\\n\"male\",\"group D\",\"some college\",\"free/reduced\",\"none\",\"49\",\"57\",\"46\"\\n\"female\",\"group C\",\"some high school\",\"standard\",\"completed\",\"44\",\"51\",\"55\"\\n\"male\",\"group D\",\"some college\",\"standard\",\"none\",\"67\",\"64\",\"70\"\\n\"male\",\"group B\",\"high school\",\"standard\",\"none\",\"79\",\"60\",\"65\"\\n\"female\",\"group B\",\"bachelor\\'s degree\",\"standard\",\"completed\",\"66\",\"74\",\"81\"\\n\"female\",\"group C\",\"high school\",\"standard\",\"none\",\"75\",\"88\",\"85\"\\n\"male\",\"group D\",\"some high school\",\"standard\",\"none\",\"84\",\"84\",\"80\"\\n\"male\",\"group A\",\"high school\",\"standard\",\"none\",\"71\",\"74\",\"64\"\\n\"female\",\"group B\",\"high school\",\"free/reduced\",\"completed\",\"67\",\"80\",\"81\"\\n\"female\",\"group D\",\"some high school\",\"standard\",\"completed\",\"80\",\"92\",\"88\"\\n\"male\",\"group E\",\"some college\",\"standard\",\"none\",\"86\",\"76\",\"74\"\\n\"female\",\"group D\",\"associate\\'s degree\",\"standard\",\"none\",\"76\",\"74\",\"73\"\\n\"male\",\"group D\",\"high school\",\"standard\",\"none\",\"41\",\"52\",\"51\"\\n\"female\",\"group D\",\"associate\\'s degree\",\"free/reduced\",\"completed\",\"74\",\"88\",\"90\"\\n\"female\",\"group B\",\"some high school\",\"free/reduced\",\"none\",\"72\",\"81\",\"79\"\\n\"female\",\"group E\",\"high school\",\"standard\",\"completed\",\"74\",\"79\",\"80\"\\n\"male\",\"group B\",\"high school\",\"standard\",\"none\",\"70\",\"65\",\"60\"\\n\"female\",\"group B\",\"bachelor\\'s degree\",\"standard\",\"completed\",\"65\",\"81\",\"81\"\\n\"female\",\"group D\",\"associate\\'s degree\",\"standard\",\"none\",\"59\",\"70\",\"65\"\\n\"female\",\"group E\",\"high school\",\"free/reduced\",\"none\",\"64\",\"62\",\"68\"\\n\"female\",\"group B\",\"high school\",\"standard\",\"none\",\"50\",\"53\",\"55\"\\n\"female\",\"group D\",\"some college\",\"standard\",\"completed\",\"69\",\"79\",\"81\"\\n\"male\",\"group C\",\"some high school\",\"free/reduced\",\"completed\",\"51\",\"56\",\"53\"\\n\"female\",\"group A\",\"high school\",\"standard\",\"completed\",\"68\",\"80\",\"76\"\\n\"female\",\"group D\",\"some college\",\"standard\",\"completed\",\"85\",\"86\",\"98\"\\n\"female\",\"group A\",\"associate\\'s degree\",\"standard\",\"completed\",\"65\",\"70\",\"74\"\\n\"female\",\"group B\",\"some high school\",\"standard\",\"none\",\"73\",\"79\",\"79\"\\n\"female\",\"group B\",\"some college\",\"standard\",\"none\",\"62\",\"67\",\"67\"\\n\"male\",\"group C\",\"associate\\'s degree\",\"free/reduced\",\"none\",\"77\",\"67\",\"64\"\\n\"male\",\"group D\",\"some high school\",\"standard\",\"none\",\"69\",\"66\",\"61\"\\n\"female\",\"group D\",\"associate\\'s degree\",\"free/reduced\",\"none\",\"43\",\"60\",\"58\"\\n\"male\",\"group D\",\"associate\\'s degree\",\"standard\",\"none\",\"90\",\"87\",\"85\"\\n\"male\",\"group C\",\"some college\",\"free/reduced\",\"none\",\"74\",\"77\",\"73\"\\n\"male\",\"group C\",\"some high school\",\"standard\",\"none\",\"73\",\"66\",\"63\"\\n\"female\",\"group D\",\"some college\",\"free/reduced\",\"none\",\"55\",\"71\",\"69\"\\n\"female\",\"group C\",\"high school\",\"standard\",\"none\",\"65\",\"69\",\"67\"\\n\"male\",\"group D\",\"associate\\'s degree\",\"standard\",\"none\",\"80\",\"63\",\"63\"\\n\"female\",\"group C\",\"some high school\",\"free/reduced\",\"completed\",\"50\",\"60\",\"60\"\\n\"female\",\"group C\",\"some college\",\"free/reduced\",\"completed\",\"63\",\"73\",\"71\"\\n\"female\",\"group B\",\"bachelor\\'s degree\",\"free/reduced\",\"none\",\"77\",\"85\",\"87\"\\n\"male\",\"group C\",\"some college\",\"standard\",\"none\",\"73\",\"74\",\"61\"\\n\"male\",\"group D\",\"associate\\'s degree\",\"standard\",\"completed\",\"81\",\"72\",\"77\"\\n\"female\",\"group C\",\"high school\",\"free/reduced\",\"none\",\"66\",\"76\",\"68\"\\n\"male\",\"group D\",\"associate\\'s degree\",\"free/reduced\",\"none\",\"52\",\"57\",\"50\"\\n\"female\",\"group C\",\"some college\",\"standard\",\"none\",\"69\",\"78\",\"76\"\\n\"female\",\"group C\",\"associate\\'s degree\",\"standard\",\"completed\",\"65\",\"84\",\"84\"\\n\"female\",\"group D\",\"high school\",\"standard\",\"completed\",\"69\",\"77\",\"78\"\\n\"female\",\"group B\",\"some college\",\"standard\",\"completed\",\"50\",\"64\",\"66\"\\n\"female\",\"group E\",\"some college\",\"standard\",\"completed\",\"73\",\"78\",\"76\"\\n\"female\",\"group C\",\"some high school\",\"standard\",\"completed\",\"70\",\"82\",\"76\"\\n\"male\",\"group D\",\"associate\\'s degree\",\"free/reduced\",\"none\",\"81\",\"75\",\"78\"\\n\"male\",\"group D\",\"some college\",\"free/reduced\",\"none\",\"63\",\"61\",\"60\"\\n\"female\",\"group D\",\"high school\",\"standard\",\"none\",\"67\",\"72\",\"74\"\\n\"male\",\"group B\",\"high school\",\"standard\",\"none\",\"60\",\"68\",\"60\"\\n\"male\",\"group B\",\"high school\",\"standard\",\"none\",\"62\",\"55\",\"54\"\\n\"female\",\"group C\",\"some high school\",\"free/reduced\",\"completed\",\"29\",\"40\",\"44\"\\n\"male\",\"group B\",\"some college\",\"standard\",\"completed\",\"62\",\"66\",\"68\"\\n\"female\",\"group E\",\"master\\'s degree\",\"standard\",\"completed\",\"94\",\"99\",\"100\"\\n\"male\",\"group E\",\"some college\",\"standard\",\"completed\",\"85\",\"75\",\"68\"\\n\"male\",\"group D\",\"associate\\'s degree\",\"free/reduced\",\"none\",\"77\",\"78\",\"73\"\\n\"male\",\"group A\",\"high school\",\"free/reduced\",\"none\",\"53\",\"58\",\"44\"\\n\"male\",\"group E\",\"some college\",\"free/reduced\",\"none\",\"93\",\"90\",\"83\"\\n\"female\",\"group C\",\"associate\\'s degree\",\"standard\",\"none\",\"49\",\"53\",\"53\"\\n\"female\",\"group E\",\"associate\\'s degree\",\"free/reduced\",\"none\",\"73\",\"76\",\"78\"\\n\"female\",\"group C\",\"bachelor\\'s degree\",\"free/reduced\",\"completed\",\"66\",\"74\",\"81\"\\n\"female\",\"group D\",\"associate\\'s degree\",\"standard\",\"none\",\"77\",\"77\",\"73\"\\n\"female\",\"group C\",\"some high school\",\"standard\",\"none\",\"49\",\"63\",\"56\"\\n\"female\",\"group D\",\"some college\",\"free/reduced\",\"none\",\"79\",\"89\",\"86\"\\n\"female\",\"group C\",\"associate\\'s degree\",\"standard\",\"completed\",\"75\",\"82\",\"90\"\\n\"female\",\"group A\",\"bachelor\\'s degree\",\"standard\",\"none\",\"59\",\"72\",\"70\"\\n\"female\",\"group D\",\"associate\\'s degree\",\"standard\",\"completed\",\"57\",\"78\",\"79\"\\n\"male\",\"group C\",\"high school\",\"free/reduced\",\"none\",\"66\",\"66\",\"59\"\\n\"female\",\"group E\",\"bachelor\\'s degree\",\"standard\",\"completed\",\"79\",\"81\",\"82\"\\n\"female\",\"group B\",\"some high school\",\"standard\",\"none\",\"57\",\"67\",\"72\"\\n\"male\",\"group A\",\"bachelor\\'s degree\",\"standard\",\"completed\",\"87\",\"84\",\"87\"\\n\"female\",\"group D\",\"some college\",\"standard\",\"none\",\"63\",\"64\",\"67\"\\n\"female\",\"group B\",\"some high school\",\"free/reduced\",\"completed\",\"59\",\"63\",\"64\"\\n\"male\",\"group A\",\"bachelor\\'s degree\",\"free/reduced\",\"none\",\"62\",\"72\",\"65\"\\n\"male\",\"group D\",\"high school\",\"standard\",\"none\",\"46\",\"34\",\"36\"\\n\"male\",\"group C\",\"some college\",\"standard\",\"none\",\"66\",\"59\",\"52\"\\n\"male\",\"group D\",\"high school\",\"standard\",\"none\",\"89\",\"87\",\"79\"\\n\"female\",\"group D\",\"associate\\'s degree\",\"free/reduced\",\"completed\",\"42\",\"61\",\"58\"\\n\"male\",\"group C\",\"some college\",\"standard\",\"completed\",\"93\",\"84\",\"90\"\\n\"female\",\"group E\",\"some high school\",\"standard\",\"completed\",\"80\",\"85\",\"85\"\\n\"female\",\"group D\",\"some college\",\"standard\",\"none\",\"98\",\"100\",\"99\"\\n\"male\",\"group D\",\"master\\'s degree\",\"standard\",\"none\",\"81\",\"81\",\"84\"\\n\"female\",\"group B\",\"some high school\",\"standard\",\"completed\",\"60\",\"70\",\"74\"\\n\"female\",\"group B\",\"associate\\'s degree\",\"free/reduced\",\"completed\",\"76\",\"94\",\"87\"\\n\"male\",\"group C\",\"associate\\'s degree\",\"standard\",\"completed\",\"73\",\"78\",\"72\"\\n\"female\",\"group C\",\"associate\\'s degree\",\"standard\",\"completed\",\"96\",\"96\",\"99\"\\n\"female\",\"group C\",\"high school\",\"standard\",\"none\",\"76\",\"76\",\"74\"\\n\"male\",\"group E\",\"associate\\'s degree\",\"free/reduced\",\"completed\",\"91\",\"73\",\"80\"\\n\"female\",\"group C\",\"some college\",\"free/reduced\",\"none\",\"62\",\"72\",\"70\"\\n\"male\",\"group D\",\"some high school\",\"free/reduced\",\"completed\",\"55\",\"59\",\"59\"\\n\"female\",\"group B\",\"some high school\",\"free/reduced\",\"completed\",\"74\",\"90\",\"88\"\\n\"male\",\"group C\",\"high school\",\"standard\",\"none\",\"50\",\"48\",\"42\"\\n\"male\",\"group B\",\"some college\",\"standard\",\"none\",\"47\",\"43\",\"41\"\\n\"male\",\"group E\",\"some college\",\"standard\",\"completed\",\"81\",\"74\",\"71\"\\n\"female\",\"group E\",\"associate\\'s degree\",\"standard\",\"completed\",\"65\",\"75\",\"77\"\\n\"male\",\"group E\",\"some high school\",\"standard\",\"completed\",\"68\",\"51\",\"57\"\\n\"female\",\"group D\",\"high school\",\"free/reduced\",\"none\",\"73\",\"92\",\"84\"\\n\"male\",\"group C\",\"some college\",\"standard\",\"none\",\"53\",\"39\",\"37\"\\n\"female\",\"group B\",\"associate\\'s degree\",\"free/reduced\",\"completed\",\"68\",\"77\",\"80\"\\n\"male\",\"group A\",\"some high school\",\"free/reduced\",\"none\",\"55\",\"46\",\"43\"\\n\"female\",\"group C\",\"some college\",\"standard\",\"completed\",\"87\",\"89\",\"94\"\\n\"male\",\"group D\",\"some high school\",\"standard\",\"none\",\"55\",\"47\",\"44\"\\n\"female\",\"group E\",\"some college\",\"free/reduced\",\"none\",\"53\",\"58\",\"57\"\\n\"male\",\"group C\",\"master\\'s degree\",\"standard\",\"none\",\"67\",\"57\",\"59\"\\n\"male\",\"group C\",\"associate\\'s degree\",\"standard\",\"none\",\"92\",\"79\",\"84\"\\n\"female\",\"group B\",\"some college\",\"free/reduced\",\"completed\",\"53\",\"66\",\"73\"\\n\"male\",\"group D\",\"associate\\'s degree\",\"standard\",\"none\",\"81\",\"71\",\"73\"\\n\"male\",\"group C\",\"high school\",\"free/reduced\",\"none\",\"61\",\"60\",\"55\"\\n\"male\",\"group D\",\"bachelor\\'s degree\",\"standard\",\"none\",\"80\",\"73\",\"72\"\\n\"female\",\"group A\",\"associate\\'s degree\",\"free/reduced\",\"none\",\"37\",\"57\",\"56\"\\n\"female\",\"group C\",\"high school\",\"standard\",\"none\",\"81\",\"84\",\"82\"\\n\"female\",\"group C\",\"associate\\'s degree\",\"standard\",\"completed\",\"59\",\"73\",\"72\"\\n\"male\",\"group B\",\"some college\",\"free/reduced\",\"none\",\"55\",\"55\",\"47\"\\n\"male\",\"group D\",\"associate\\'s degree\",\"standard\",\"none\",\"72\",\"79\",\"74\"\\n\"male\",\"group D\",\"high school\",\"standard\",\"none\",\"69\",\"75\",\"71\"\\n\"male\",\"group C\",\"some college\",\"standard\",\"none\",\"69\",\"64\",\"68\"\\n\"female\",\"group C\",\"bachelor\\'s degree\",\"free/reduced\",\"none\",\"50\",\"60\",\"59\"\\n\"male\",\"group B\",\"some college\",\"standard\",\"completed\",\"87\",\"84\",\"86\"\\n\"male\",\"group D\",\"some high school\",\"standard\",\"completed\",\"71\",\"69\",\"68\"\\n\"male\",\"group E\",\"some college\",\"standard\",\"none\",\"68\",\"72\",\"65\"\\n\"male\",\"group C\",\"master\\'s degree\",\"free/reduced\",\"completed\",\"79\",\"77\",\"75\"\\n\"female\",\"group C\",\"some high school\",\"standard\",\"completed\",\"77\",\"90\",\"85\"\\n\"male\",\"group C\",\"associate\\'s degree\",\"free/reduced\",\"none\",\"58\",\"55\",\"53\"\\n\"female\",\"group E\",\"associate\\'s degree\",\"standard\",\"none\",\"84\",\"95\",\"92\"\\n\"male\",\"group D\",\"some college\",\"standard\",\"none\",\"55\",\"58\",\"52\"\\n\"male\",\"group E\",\"bachelor\\'s degree\",\"free/reduced\",\"completed\",\"70\",\"68\",\"72\"\\n\"female\",\"group D\",\"some college\",\"free/reduced\",\"completed\",\"52\",\"59\",\"65\"\\n\"male\",\"group B\",\"some college\",\"standard\",\"completed\",\"69\",\"77\",\"77\"\\n\"female\",\"group C\",\"high school\",\"free/reduced\",\"none\",\"53\",\"72\",\"64\"\\n\"female\",\"group D\",\"some high school\",\"standard\",\"none\",\"48\",\"58\",\"54\"\\n\"male\",\"group D\",\"some high school\",\"standard\",\"completed\",\"78\",\"81\",\"86\"\\n\"female\",\"group B\",\"high school\",\"standard\",\"none\",\"62\",\"62\",\"63\"\\n\"male\",\"group D\",\"some college\",\"standard\",\"none\",\"60\",\"63\",\"59\"\\n\"female\",\"group B\",\"high school\",\"standard\",\"none\",\"74\",\"72\",\"72\"\\n\"female\",\"group C\",\"high school\",\"standard\",\"completed\",\"58\",\"75\",\"77\"\\n\"male\",\"group B\",\"high school\",\"standard\",\"completed\",\"76\",\"62\",\"60\"\\n\"female\",\"group D\",\"some high school\",\"standard\",\"none\",\"68\",\"71\",\"75\"\\n\"male\",\"group A\",\"some college\",\"free/reduced\",\"none\",\"58\",\"60\",\"57\"\\n\"male\",\"group B\",\"high school\",\"standard\",\"none\",\"52\",\"48\",\"49\"\\n\"male\",\"group D\",\"bachelor\\'s degree\",\"standard\",\"none\",\"75\",\"73\",\"74\"\\n\"female\",\"group B\",\"some high school\",\"free/reduced\",\"completed\",\"52\",\"67\",\"72\"\\n\"female\",\"group C\",\"bachelor\\'s degree\",\"free/reduced\",\"none\",\"62\",\"78\",\"79\"\\n\"male\",\"group B\",\"some college\",\"standard\",\"none\",\"66\",\"65\",\"60\"\\n\"female\",\"group B\",\"some high school\",\"free/reduced\",\"none\",\"49\",\"58\",\"55\"\\n\"female\",\"group B\",\"high school\",\"standard\",\"none\",\"66\",\"72\",\"70\"\\n\"female\",\"group C\",\"some college\",\"free/reduced\",\"none\",\"35\",\"44\",\"43\"\\n\"female\",\"group A\",\"some college\",\"standard\",\"completed\",\"72\",\"79\",\"82\"\\n\"male\",\"group E\",\"associate\\'s degree\",\"standard\",\"completed\",\"94\",\"85\",\"82\"\\n\"female\",\"group D\",\"associate\\'s degree\",\"free/reduced\",\"none\",\"46\",\"56\",\"57\"\\n\"female\",\"group B\",\"master\\'s degree\",\"standard\",\"none\",\"77\",\"90\",\"84\"\\n\"female\",\"group B\",\"high school\",\"free/reduced\",\"completed\",\"76\",\"85\",\"82\"\\n\"female\",\"group C\",\"associate\\'s degree\",\"standard\",\"completed\",\"52\",\"59\",\"62\"\\n\"male\",\"group C\",\"bachelor\\'s degree\",\"standard\",\"completed\",\"91\",\"81\",\"79\"\\n\"female\",\"group B\",\"some high school\",\"standard\",\"completed\",\"32\",\"51\",\"44\"\\n\"female\",\"group E\",\"some high school\",\"free/reduced\",\"none\",\"72\",\"79\",\"77\"\\n\"female\",\"group B\",\"some college\",\"standard\",\"none\",\"19\",\"38\",\"32\"\\n\"male\",\"group C\",\"associate\\'s degree\",\"free/reduced\",\"none\",\"68\",\"65\",\"61\"\\n\"female\",\"group C\",\"master\\'s degree\",\"free/reduced\",\"none\",\"52\",\"65\",\"61\"\\n\"female\",\"group B\",\"high school\",\"standard\",\"none\",\"48\",\"62\",\"60\"\\n\"female\",\"group D\",\"some college\",\"free/reduced\",\"none\",\"60\",\"66\",\"70\"\\n\"male\",\"group D\",\"high school\",\"free/reduced\",\"none\",\"66\",\"74\",\"69\"\\n\"male\",\"group E\",\"some high school\",\"standard\",\"completed\",\"89\",\"84\",\"77\"\\n\"female\",\"group B\",\"high school\",\"standard\",\"none\",\"42\",\"52\",\"51\"\\n\"female\",\"group E\",\"associate\\'s degree\",\"free/reduced\",\"completed\",\"57\",\"68\",\"73\"\\n\"male\",\"group D\",\"high school\",\"standard\",\"none\",\"70\",\"70\",\"70\"\\n\"female\",\"group E\",\"associate\\'s degree\",\"free/reduced\",\"none\",\"70\",\"84\",\"81\"\\n\"male\",\"group E\",\"some college\",\"standard\",\"none\",\"69\",\"60\",\"54\"\\n\"female\",\"group C\",\"associate\\'s degree\",\"standard\",\"none\",\"52\",\"55\",\"57\"\\n\"male\",\"group C\",\"some high school\",\"standard\",\"completed\",\"67\",\"73\",\"68\"\\n\"male\",\"group C\",\"some high school\",\"standard\",\"completed\",\"76\",\"80\",\"73\"\\n\"female\",\"group E\",\"associate\\'s degree\",\"standard\",\"none\",\"87\",\"94\",\"95\"\\n\"female\",\"group B\",\"some college\",\"standard\",\"none\",\"82\",\"85\",\"87\"\\n\"female\",\"group C\",\"some college\",\"standard\",\"none\",\"73\",\"76\",\"78\"\\n\"male\",\"group A\",\"some college\",\"free/reduced\",\"none\",\"75\",\"81\",\"74\"\\n\"female\",\"group D\",\"some college\",\"free/reduced\",\"none\",\"64\",\"74\",\"75\"\\n\"female\",\"group E\",\"high school\",\"free/reduced\",\"none\",\"41\",\"45\",\"40\"\\n\"male\",\"group C\",\"high school\",\"standard\",\"none\",\"90\",\"75\",\"69\"\\n\"male\",\"group B\",\"bachelor\\'s degree\",\"standard\",\"none\",\"59\",\"54\",\"51\"\\n\"male\",\"group A\",\"some high school\",\"standard\",\"none\",\"51\",\"31\",\"36\"\\n\"male\",\"group A\",\"high school\",\"free/reduced\",\"none\",\"45\",\"47\",\"49\"\\n\"female\",\"group C\",\"master\\'s degree\",\"standard\",\"completed\",\"54\",\"64\",\"67\"\\n\"male\",\"group E\",\"some high school\",\"standard\",\"completed\",\"87\",\"84\",\"76\"\\n\"female\",\"group C\",\"high school\",\"standard\",\"none\",\"72\",\"80\",\"83\"\\n\"male\",\"group B\",\"some high school\",\"standard\",\"completed\",\"94\",\"86\",\"87\"\\n\"female\",\"group A\",\"bachelor\\'s degree\",\"standard\",\"none\",\"45\",\"59\",\"64\"\\n\"male\",\"group D\",\"bachelor\\'s degree\",\"free/reduced\",\"completed\",\"61\",\"70\",\"76\"\\n\"female\",\"group B\",\"high school\",\"free/reduced\",\"none\",\"60\",\"72\",\"68\"\\n\"female\",\"group C\",\"some high school\",\"standard\",\"none\",\"77\",\"91\",\"88\"\\n\"female\",\"group A\",\"some high school\",\"standard\",\"completed\",\"85\",\"90\",\"92\"\\n\"female\",\"group D\",\"bachelor\\'s degree\",\"free/reduced\",\"none\",\"78\",\"90\",\"93\"\\n\"male\",\"group E\",\"some college\",\"free/reduced\",\"completed\",\"49\",\"52\",\"51\"\\n\"female\",\"group B\",\"high school\",\"free/reduced\",\"none\",\"71\",\"87\",\"82\"\\n\"female\",\"group C\",\"some high school\",\"free/reduced\",\"none\",\"48\",\"58\",\"52\"\\n\"male\",\"group C\",\"high school\",\"standard\",\"none\",\"62\",\"67\",\"58\"\\n\"female\",\"group C\",\"associate\\'s degree\",\"free/reduced\",\"completed\",\"56\",\"68\",\"70\"\\n\"female\",\"group C\",\"some high school\",\"standard\",\"none\",\"65\",\"69\",\"76\"\\n\"female\",\"group D\",\"some high school\",\"free/reduced\",\"completed\",\"69\",\"86\",\"81\"\\n\"male\",\"group B\",\"some high school\",\"standard\",\"none\",\"68\",\"54\",\"53\"\\n\"female\",\"group A\",\"some college\",\"free/reduced\",\"none\",\"61\",\"60\",\"57\"\\n\"female\",\"group C\",\"bachelor\\'s degree\",\"free/reduced\",\"completed\",\"74\",\"86\",\"89\"\\n\"male\",\"group A\",\"bachelor\\'s degree\",\"standard\",\"none\",\"64\",\"60\",\"58\"\\n\"female\",\"group B\",\"high school\",\"standard\",\"completed\",\"77\",\"82\",\"89\"\\n\"male\",\"group B\",\"some college\",\"standard\",\"none\",\"58\",\"50\",\"45\"\\n\"female\",\"group C\",\"high school\",\"standard\",\"completed\",\"60\",\"64\",\"74\"\\n\"male\",\"group E\",\"high school\",\"standard\",\"none\",\"73\",\"64\",\"57\"\\n\"female\",\"group A\",\"high school\",\"standard\",\"completed\",\"75\",\"82\",\"79\"\\n\"male\",\"group B\",\"associate\\'s degree\",\"free/reduced\",\"completed\",\"58\",\"57\",\"53\"\\n\"female\",\"group C\",\"associate\\'s degree\",\"standard\",\"none\",\"66\",\"77\",\"73\"\\n\"female\",\"group D\",\"high school\",\"free/reduced\",\"none\",\"39\",\"52\",\"46\"\\n\"male\",\"group C\",\"some high school\",\"standard\",\"none\",\"64\",\"58\",\"51\"\\n\"female\",\"group B\",\"high school\",\"free/reduced\",\"completed\",\"23\",\"44\",\"36\"\\n\"male\",\"group B\",\"some college\",\"free/reduced\",\"completed\",\"74\",\"77\",\"76\"\\n\"female\",\"group D\",\"some high school\",\"free/reduced\",\"completed\",\"40\",\"65\",\"64\"\\n\"male\",\"group E\",\"master\\'s degree\",\"standard\",\"none\",\"90\",\"85\",\"84\"\\n\"male\",\"group C\",\"master\\'s degree\",\"standard\",\"completed\",\"91\",\"85\",\"85\"\\n\"male\",\"group D\",\"high school\",\"standard\",\"none\",\"64\",\"54\",\"50\"\\n\"female\",\"group C\",\"high school\",\"standard\",\"none\",\"59\",\"72\",\"68\"\\n\"male\",\"group D\",\"associate\\'s degree\",\"standard\",\"none\",\"80\",\"75\",\"69\"\\n\"male\",\"group C\",\"master\\'s degree\",\"standard\",\"none\",\"71\",\"67\",\"67\"\\n\"female\",\"group A\",\"high school\",\"standard\",\"none\",\"61\",\"68\",\"63\"\\n\"female\",\"group E\",\"some college\",\"standard\",\"none\",\"87\",\"85\",\"93\"\\n\"male\",\"group E\",\"some high school\",\"standard\",\"none\",\"82\",\"67\",\"61\"\\n\"male\",\"group C\",\"some high school\",\"standard\",\"none\",\"62\",\"64\",\"55\"\\n\"female\",\"group B\",\"bachelor\\'s degree\",\"standard\",\"none\",\"97\",\"97\",\"96\"\\n\"male\",\"group B\",\"some college\",\"free/reduced\",\"none\",\"75\",\"68\",\"65\"\\n\"female\",\"group C\",\"bachelor\\'s degree\",\"standard\",\"none\",\"65\",\"79\",\"81\"\\n\"male\",\"group B\",\"high school\",\"standard\",\"completed\",\"52\",\"49\",\"46\"\\n\"male\",\"group C\",\"associate\\'s degree\",\"free/reduced\",\"none\",\"87\",\"73\",\"72\"\\n\"female\",\"group C\",\"associate\\'s degree\",\"standard\",\"none\",\"53\",\"62\",\"53\"\\n\"female\",\"group E\",\"master\\'s degree\",\"free/reduced\",\"none\",\"81\",\"86\",\"87\"\\n\"male\",\"group D\",\"bachelor\\'s degree\",\"free/reduced\",\"completed\",\"39\",\"42\",\"38\"\\n\"female\",\"group C\",\"some college\",\"standard\",\"completed\",\"71\",\"71\",\"80\"\\n\"male\",\"group C\",\"associate\\'s degree\",\"standard\",\"none\",\"97\",\"93\",\"91\"\\n\"male\",\"group D\",\"some college\",\"standard\",\"completed\",\"82\",\"82\",\"88\"\\n\"male\",\"group C\",\"high school\",\"free/reduced\",\"none\",\"59\",\"53\",\"52\"\\n\"male\",\"group B\",\"associate\\'s degree\",\"standard\",\"none\",\"61\",\"42\",\"41\"\\n\"male\",\"group E\",\"associate\\'s degree\",\"free/reduced\",\"completed\",\"78\",\"74\",\"72\"\\n\"male\",\"group C\",\"associate\\'s degree\",\"free/reduced\",\"none\",\"49\",\"51\",\"51\"\\n\"male\",\"group B\",\"high school\",\"standard\",\"none\",\"59\",\"58\",\"47\"\\n\"female\",\"group C\",\"some college\",\"standard\",\"completed\",\"70\",\"72\",\"76\"\\n\"male\",\"group B\",\"associate\\'s degree\",\"standard\",\"completed\",\"82\",\"84\",\"78\"\\n\"male\",\"group E\",\"associate\\'s degree\",\"free/reduced\",\"none\",\"90\",\"90\",\"82\"\\n\"female\",\"group C\",\"bachelor\\'s degree\",\"free/reduced\",\"none\",\"43\",\"62\",\"61\"\\n\"male\",\"group C\",\"some college\",\"free/reduced\",\"none\",\"80\",\"64\",\"66\"\\n\"male\",\"group D\",\"some college\",\"standard\",\"none\",\"81\",\"82\",\"84\"\\n\"male\",\"group C\",\"some high school\",\"standard\",\"none\",\"57\",\"61\",\"54\"\\n\"female\",\"group D\",\"some high school\",\"standard\",\"none\",\"59\",\"72\",\"80\"\\n\"female\",\"group D\",\"associate\\'s degree\",\"standard\",\"none\",\"64\",\"76\",\"74\"\\n\"male\",\"group C\",\"bachelor\\'s degree\",\"standard\",\"completed\",\"63\",\"64\",\"66\"\\n\"female\",\"group E\",\"bachelor\\'s degree\",\"standard\",\"completed\",\"71\",\"70\",\"70\"\\n\"female\",\"group B\",\"high school\",\"free/reduced\",\"none\",\"64\",\"73\",\"71\"\\n\"male\",\"group D\",\"bachelor\\'s degree\",\"free/reduced\",\"none\",\"55\",\"46\",\"44\"\\n\"female\",\"group E\",\"associate\\'s degree\",\"standard\",\"none\",\"51\",\"51\",\"54\"\\n\"female\",\"group C\",\"associate\\'s degree\",\"standard\",\"completed\",\"62\",\"76\",\"80\"\\n\"female\",\"group E\",\"associate\\'s degree\",\"standard\",\"completed\",\"93\",\"100\",\"95\"\\n\"male\",\"group C\",\"high school\",\"free/reduced\",\"none\",\"54\",\"72\",\"59\"\\n\"female\",\"group D\",\"some college\",\"free/reduced\",\"none\",\"69\",\"65\",\"74\"\\n\"male\",\"group D\",\"high school\",\"free/reduced\",\"none\",\"44\",\"51\",\"48\"\\n\"female\",\"group E\",\"some college\",\"standard\",\"completed\",\"86\",\"85\",\"91\"\\n\"female\",\"group E\",\"associate\\'s degree\",\"standard\",\"none\",\"85\",\"92\",\"85\"\\n\"female\",\"group A\",\"master\\'s degree\",\"free/reduced\",\"none\",\"50\",\"67\",\"73\"\\n\"male\",\"group D\",\"some high school\",\"standard\",\"completed\",\"88\",\"74\",\"75\"\\n\"female\",\"group E\",\"associate\\'s degree\",\"standard\",\"none\",\"59\",\"62\",\"69\"\\n\"female\",\"group E\",\"some high school\",\"free/reduced\",\"none\",\"32\",\"34\",\"38\"\\n\"male\",\"group B\",\"high school\",\"free/reduced\",\"none\",\"36\",\"29\",\"27\"\\n\"female\",\"group B\",\"some high school\",\"free/reduced\",\"completed\",\"63\",\"78\",\"79\"\\n\"male\",\"group D\",\"associate\\'s degree\",\"standard\",\"completed\",\"67\",\"54\",\"63\"\\n\"female\",\"group D\",\"some high school\",\"standard\",\"completed\",\"65\",\"78\",\"82\"\\n\"male\",\"group D\",\"master\\'s degree\",\"standard\",\"none\",\"85\",\"84\",\"89\"\\n\"female\",\"group C\",\"master\\'s degree\",\"standard\",\"none\",\"73\",\"78\",\"74\"\\n\"female\",\"group A\",\"high school\",\"free/reduced\",\"completed\",\"34\",\"48\",\"41\"\\n\"female\",\"group D\",\"bachelor\\'s degree\",\"free/reduced\",\"completed\",\"93\",\"100\",\"100\"\\n\"female\",\"group D\",\"some high school\",\"free/reduced\",\"none\",\"67\",\"84\",\"84\"\\n\"male\",\"group D\",\"some college\",\"standard\",\"none\",\"88\",\"77\",\"77\"\\n\"male\",\"group B\",\"high school\",\"standard\",\"none\",\"57\",\"48\",\"51\"\\n\"female\",\"group D\",\"some college\",\"standard\",\"completed\",\"79\",\"84\",\"91\"\\n\"female\",\"group C\",\"bachelor\\'s degree\",\"free/reduced\",\"none\",\"67\",\"75\",\"72\"\\n\"male\",\"group E\",\"bachelor\\'s degree\",\"standard\",\"completed\",\"70\",\"64\",\"70\"\\n\"male\",\"group D\",\"bachelor\\'s degree\",\"free/reduced\",\"none\",\"50\",\"42\",\"48\"\\n\"female\",\"group A\",\"some college\",\"standard\",\"none\",\"69\",\"84\",\"82\"\\n\"female\",\"group C\",\"bachelor\\'s degree\",\"standard\",\"completed\",\"52\",\"61\",\"66\"\\n\"female\",\"group C\",\"bachelor\\'s degree\",\"free/reduced\",\"completed\",\"47\",\"62\",\"66\"\\n\"female\",\"group B\",\"associate\\'s degree\",\"free/reduced\",\"none\",\"46\",\"61\",\"55\"\\n\"female\",\"group E\",\"some college\",\"standard\",\"none\",\"68\",\"70\",\"66\"\\n\"male\",\"group E\",\"bachelor\\'s degree\",\"standard\",\"completed\",\"100\",\"100\",\"100\"\\n\"female\",\"group C\",\"high school\",\"standard\",\"none\",\"44\",\"61\",\"52\"\\n\"female\",\"group C\",\"associate\\'s degree\",\"standard\",\"completed\",\"57\",\"77\",\"80\"\\n\"male\",\"group B\",\"some college\",\"standard\",\"completed\",\"91\",\"96\",\"91\"\\n\"male\",\"group D\",\"high school\",\"free/reduced\",\"none\",\"69\",\"70\",\"67\"\\n\"female\",\"group C\",\"high school\",\"free/reduced\",\"none\",\"35\",\"53\",\"46\"\\n\"male\",\"group D\",\"high school\",\"standard\",\"none\",\"72\",\"66\",\"66\"\\n\"female\",\"group B\",\"associate\\'s degree\",\"free/reduced\",\"none\",\"54\",\"65\",\"65\"\\n\"male\",\"group D\",\"high school\",\"free/reduced\",\"none\",\"74\",\"70\",\"69\"\\n\"male\",\"group E\",\"some high school\",\"standard\",\"completed\",\"74\",\"64\",\"60\"\\n\"male\",\"group E\",\"associate\\'s degree\",\"free/reduced\",\"none\",\"64\",\"56\",\"52\"\\n\"female\",\"group D\",\"high school\",\"free/reduced\",\"completed\",\"65\",\"61\",\"71\"\\n\"male\",\"group E\",\"associate\\'s degree\",\"free/reduced\",\"completed\",\"46\",\"43\",\"44\"\\n\"female\",\"group C\",\"some high school\",\"free/reduced\",\"none\",\"48\",\"56\",\"51\"\\n\"male\",\"group C\",\"some college\",\"free/reduced\",\"completed\",\"67\",\"74\",\"70\"\\n\"male\",\"group D\",\"some college\",\"free/reduced\",\"none\",\"62\",\"57\",\"62\"\\n\"male\",\"group D\",\"associate\\'s degree\",\"free/reduced\",\"completed\",\"61\",\"71\",\"73\"\\n\"male\",\"group C\",\"bachelor\\'s degree\",\"free/reduced\",\"completed\",\"70\",\"75\",\"74\"\\n\"male\",\"group C\",\"associate\\'s degree\",\"standard\",\"completed\",\"98\",\"87\",\"90\"\\n\"male\",\"group D\",\"some college\",\"free/reduced\",\"none\",\"70\",\"63\",\"58\"\\n\"male\",\"group A\",\"associate\\'s degree\",\"standard\",\"none\",\"67\",\"57\",\"53\"\\n\"female\",\"group E\",\"high school\",\"free/reduced\",\"none\",\"57\",\"58\",\"57\"\\n\"male\",\"group D\",\"some college\",\"standard\",\"completed\",\"85\",\"81\",\"85\"\\n\"male\",\"group D\",\"some high school\",\"standard\",\"completed\",\"77\",\"68\",\"69\"\\n\"male\",\"group C\",\"master\\'s degree\",\"free/reduced\",\"completed\",\"72\",\"66\",\"72\"\\n\"female\",\"group D\",\"master\\'s degree\",\"standard\",\"none\",\"78\",\"91\",\"96\"\\n\"male\",\"group C\",\"high school\",\"standard\",\"none\",\"81\",\"66\",\"64\"\\n\"male\",\"group A\",\"some high school\",\"free/reduced\",\"completed\",\"61\",\"62\",\"61\"\\n\"female\",\"group B\",\"high school\",\"standard\",\"none\",\"58\",\"68\",\"61\"\\n\"female\",\"group C\",\"associate\\'s degree\",\"standard\",\"none\",\"54\",\"61\",\"58\"\\n\"male\",\"group B\",\"high school\",\"standard\",\"none\",\"82\",\"82\",\"80\"\\n\"female\",\"group D\",\"some college\",\"free/reduced\",\"none\",\"49\",\"58\",\"60\"\\n\"male\",\"group B\",\"some high school\",\"free/reduced\",\"completed\",\"49\",\"50\",\"52\"\\n\"female\",\"group E\",\"high school\",\"free/reduced\",\"completed\",\"57\",\"75\",\"73\"\\n\"male\",\"group E\",\"high school\",\"standard\",\"none\",\"94\",\"73\",\"71\"\\n\"female\",\"group D\",\"some college\",\"standard\",\"completed\",\"75\",\"77\",\"83\"\\n\"female\",\"group E\",\"some high school\",\"free/reduced\",\"none\",\"74\",\"74\",\"72\"\\n\"male\",\"group C\",\"high school\",\"standard\",\"completed\",\"58\",\"52\",\"54\"\\n\"female\",\"group C\",\"some college\",\"standard\",\"none\",\"62\",\"69\",\"69\"\\n\"male\",\"group E\",\"associate\\'s degree\",\"standard\",\"none\",\"72\",\"57\",\"62\"\\n\"male\",\"group C\",\"some college\",\"standard\",\"none\",\"84\",\"87\",\"81\"\\n\"female\",\"group D\",\"master\\'s degree\",\"standard\",\"none\",\"92\",\"100\",\"100\"\\n\"female\",\"group D\",\"high school\",\"standard\",\"none\",\"45\",\"63\",\"59\"\\n\"male\",\"group C\",\"high school\",\"standard\",\"none\",\"75\",\"81\",\"71\"\\n\"female\",\"group A\",\"some college\",\"standard\",\"none\",\"56\",\"58\",\"64\"\\n\"female\",\"group D\",\"some high school\",\"free/reduced\",\"none\",\"48\",\"54\",\"53\"\\n\"female\",\"group E\",\"associate\\'s degree\",\"standard\",\"none\",\"100\",\"100\",\"100\"\\n\"female\",\"group C\",\"some high school\",\"free/reduced\",\"completed\",\"65\",\"76\",\"75\"\\n\"male\",\"group D\",\"some college\",\"standard\",\"none\",\"72\",\"57\",\"58\"\\n\"female\",\"group D\",\"some college\",\"standard\",\"none\",\"62\",\"70\",\"72\"\\n\"male\",\"group A\",\"some high school\",\"standard\",\"completed\",\"66\",\"68\",\"64\"\\n\"male\",\"group C\",\"some college\",\"standard\",\"none\",\"63\",\"63\",\"60\"\\n\"female\",\"group E\",\"associate\\'s degree\",\"standard\",\"none\",\"68\",\"76\",\"67\"\\n\"female\",\"group B\",\"bachelor\\'s degree\",\"standard\",\"none\",\"75\",\"84\",\"80\"\\n\"female\",\"group D\",\"bachelor\\'s degree\",\"standard\",\"none\",\"89\",\"100\",\"100\"\\n\"male\",\"group C\",\"some high school\",\"standard\",\"completed\",\"78\",\"72\",\"69\"\\n\"female\",\"group A\",\"high school\",\"free/reduced\",\"completed\",\"53\",\"50\",\"60\"\\n\"female\",\"group D\",\"some college\",\"free/reduced\",\"none\",\"49\",\"65\",\"61\"\\n\"female\",\"group A\",\"some college\",\"standard\",\"none\",\"54\",\"63\",\"67\"\\n\"female\",\"group C\",\"some college\",\"standard\",\"completed\",\"64\",\"82\",\"77\"\\n\"male\",\"group B\",\"some college\",\"free/reduced\",\"completed\",\"60\",\"62\",\"60\"\\n\"male\",\"group C\",\"associate\\'s degree\",\"standard\",\"none\",\"62\",\"65\",\"58\"\\n\"male\",\"group D\",\"high school\",\"standard\",\"completed\",\"55\",\"41\",\"48\"\\n\"female\",\"group C\",\"associate\\'s degree\",\"standard\",\"none\",\"91\",\"95\",\"94\"\\n\"female\",\"group B\",\"high school\",\"free/reduced\",\"none\",\"8\",\"24\",\"23\"\\n\"male\",\"group D\",\"some high school\",\"standard\",\"none\",\"81\",\"78\",\"78\"\\n\"male\",\"group B\",\"some high school\",\"standard\",\"completed\",\"79\",\"85\",\"86\"\\n\"female\",\"group A\",\"some college\",\"standard\",\"completed\",\"78\",\"87\",\"91\"\\n\"female\",\"group C\",\"some high school\",\"standard\",\"none\",\"74\",\"75\",\"82\"\\n\"male\",\"group A\",\"high school\",\"standard\",\"none\",\"57\",\"51\",\"54\"\\n\"female\",\"group C\",\"associate\\'s degree\",\"standard\",\"none\",\"40\",\"59\",\"51\"\\n\"male\",\"group E\",\"some high school\",\"standard\",\"completed\",\"81\",\"75\",\"76\"\\n\"female\",\"group A\",\"some high school\",\"free/reduced\",\"none\",\"44\",\"45\",\"45\"\\n\"female\",\"group D\",\"some college\",\"free/reduced\",\"completed\",\"67\",\"86\",\"83\"\\n\"male\",\"group E\",\"high school\",\"free/reduced\",\"completed\",\"86\",\"81\",\"75\"\\n\"female\",\"group B\",\"some high school\",\"standard\",\"completed\",\"65\",\"82\",\"78\"\\n\"female\",\"group D\",\"associate\\'s degree\",\"free/reduced\",\"none\",\"55\",\"76\",\"76\"\\n\"female\",\"group D\",\"bachelor\\'s degree\",\"free/reduced\",\"none\",\"62\",\"72\",\"74\"\\n\"male\",\"group A\",\"high school\",\"standard\",\"none\",\"63\",\"63\",\"62\"\\n\"female\",\"group E\",\"master\\'s degree\",\"standard\",\"completed\",\"88\",\"99\",\"95\"\\n\"male\",\"group C\",\"high school\",\"free/reduced\",\"none\",\"62\",\"55\",\"55\"\\n\"female\",\"group C\",\"high school\",\"free/reduced\",\"completed\",\"59\",\"71\",\"65\"\\n\"female\",\"group D\",\"some college\",\"standard\",\"completed\",\"68\",\"78\",\"77\"\\n\"female\",\"group D\",\"some college\",\"free/reduced\",\"none\",\"77\",\"86\",\"86\"\\n'}"
            ]
          },
          "metadata": {},
          "execution_count": 38
        }
      ]
    },
    {
      "cell_type": "code",
      "source": [
        "data = pd.read_csv('StudentsPerformance.csv')"
      ],
      "metadata": {
        "id": "ExK2_gf2BmBc"
      },
      "execution_count": 39,
      "outputs": []
    },
    {
      "cell_type": "markdown",
      "source": [
        "## Первичный анализ"
      ],
      "metadata": {
        "id": "jfOvKTQ_Bo3O"
      }
    },
    {
      "cell_type": "markdown",
      "source": [
        "Первые 5 строк датасета:"
      ],
      "metadata": {
        "id": "CEVnogUKBwe0"
      }
    },
    {
      "cell_type": "code",
      "source": [
        "data.head()"
      ],
      "metadata": {
        "colab": {
          "base_uri": "https://localhost:8080/",
          "height": 206
        },
        "id": "arOnnvbzBxmN",
        "outputId": "0e4b75e7-12e5-46a2-c4d6-c51bebfdc6fb"
      },
      "execution_count": 40,
      "outputs": [
        {
          "output_type": "execute_result",
          "data": {
            "text/plain": [
              "   gender race/ethnicity parental level of education         lunch  \\\n",
              "0  female        group B           bachelor's degree      standard   \n",
              "1  female        group C                some college      standard   \n",
              "2  female        group B             master's degree      standard   \n",
              "3    male        group A          associate's degree  free/reduced   \n",
              "4    male        group C                some college      standard   \n",
              "\n",
              "  test preparation course  math score  reading score  writing score  \n",
              "0                    none          72             72             74  \n",
              "1               completed          69             90             88  \n",
              "2                    none          90             95             93  \n",
              "3                    none          47             57             44  \n",
              "4                    none          76             78             75  "
            ],
            "text/html": [
              "\n",
              "  <div id=\"df-7c51ff10-ce87-42ff-bf8d-33d3abd2f3c6\">\n",
              "    <div class=\"colab-df-container\">\n",
              "      <div>\n",
              "<style scoped>\n",
              "    .dataframe tbody tr th:only-of-type {\n",
              "        vertical-align: middle;\n",
              "    }\n",
              "\n",
              "    .dataframe tbody tr th {\n",
              "        vertical-align: top;\n",
              "    }\n",
              "\n",
              "    .dataframe thead th {\n",
              "        text-align: right;\n",
              "    }\n",
              "</style>\n",
              "<table border=\"1\" class=\"dataframe\">\n",
              "  <thead>\n",
              "    <tr style=\"text-align: right;\">\n",
              "      <th></th>\n",
              "      <th>gender</th>\n",
              "      <th>race/ethnicity</th>\n",
              "      <th>parental level of education</th>\n",
              "      <th>lunch</th>\n",
              "      <th>test preparation course</th>\n",
              "      <th>math score</th>\n",
              "      <th>reading score</th>\n",
              "      <th>writing score</th>\n",
              "    </tr>\n",
              "  </thead>\n",
              "  <tbody>\n",
              "    <tr>\n",
              "      <th>0</th>\n",
              "      <td>female</td>\n",
              "      <td>group B</td>\n",
              "      <td>bachelor's degree</td>\n",
              "      <td>standard</td>\n",
              "      <td>none</td>\n",
              "      <td>72</td>\n",
              "      <td>72</td>\n",
              "      <td>74</td>\n",
              "    </tr>\n",
              "    <tr>\n",
              "      <th>1</th>\n",
              "      <td>female</td>\n",
              "      <td>group C</td>\n",
              "      <td>some college</td>\n",
              "      <td>standard</td>\n",
              "      <td>completed</td>\n",
              "      <td>69</td>\n",
              "      <td>90</td>\n",
              "      <td>88</td>\n",
              "    </tr>\n",
              "    <tr>\n",
              "      <th>2</th>\n",
              "      <td>female</td>\n",
              "      <td>group B</td>\n",
              "      <td>master's degree</td>\n",
              "      <td>standard</td>\n",
              "      <td>none</td>\n",
              "      <td>90</td>\n",
              "      <td>95</td>\n",
              "      <td>93</td>\n",
              "    </tr>\n",
              "    <tr>\n",
              "      <th>3</th>\n",
              "      <td>male</td>\n",
              "      <td>group A</td>\n",
              "      <td>associate's degree</td>\n",
              "      <td>free/reduced</td>\n",
              "      <td>none</td>\n",
              "      <td>47</td>\n",
              "      <td>57</td>\n",
              "      <td>44</td>\n",
              "    </tr>\n",
              "    <tr>\n",
              "      <th>4</th>\n",
              "      <td>male</td>\n",
              "      <td>group C</td>\n",
              "      <td>some college</td>\n",
              "      <td>standard</td>\n",
              "      <td>none</td>\n",
              "      <td>76</td>\n",
              "      <td>78</td>\n",
              "      <td>75</td>\n",
              "    </tr>\n",
              "  </tbody>\n",
              "</table>\n",
              "</div>\n",
              "      <button class=\"colab-df-convert\" onclick=\"convertToInteractive('df-7c51ff10-ce87-42ff-bf8d-33d3abd2f3c6')\"\n",
              "              title=\"Convert this dataframe to an interactive table.\"\n",
              "              style=\"display:none;\">\n",
              "        \n",
              "  <svg xmlns=\"http://www.w3.org/2000/svg\" height=\"24px\"viewBox=\"0 0 24 24\"\n",
              "       width=\"24px\">\n",
              "    <path d=\"M0 0h24v24H0V0z\" fill=\"none\"/>\n",
              "    <path d=\"M18.56 5.44l.94 2.06.94-2.06 2.06-.94-2.06-.94-.94-2.06-.94 2.06-2.06.94zm-11 1L8.5 8.5l.94-2.06 2.06-.94-2.06-.94L8.5 2.5l-.94 2.06-2.06.94zm10 10l.94 2.06.94-2.06 2.06-.94-2.06-.94-.94-2.06-.94 2.06-2.06.94z\"/><path d=\"M17.41 7.96l-1.37-1.37c-.4-.4-.92-.59-1.43-.59-.52 0-1.04.2-1.43.59L10.3 9.45l-7.72 7.72c-.78.78-.78 2.05 0 2.83L4 21.41c.39.39.9.59 1.41.59.51 0 1.02-.2 1.41-.59l7.78-7.78 2.81-2.81c.8-.78.8-2.07 0-2.86zM5.41 20L4 18.59l7.72-7.72 1.47 1.35L5.41 20z\"/>\n",
              "  </svg>\n",
              "      </button>\n",
              "      \n",
              "  <style>\n",
              "    .colab-df-container {\n",
              "      display:flex;\n",
              "      flex-wrap:wrap;\n",
              "      gap: 12px;\n",
              "    }\n",
              "\n",
              "    .colab-df-convert {\n",
              "      background-color: #E8F0FE;\n",
              "      border: none;\n",
              "      border-radius: 50%;\n",
              "      cursor: pointer;\n",
              "      display: none;\n",
              "      fill: #1967D2;\n",
              "      height: 32px;\n",
              "      padding: 0 0 0 0;\n",
              "      width: 32px;\n",
              "    }\n",
              "\n",
              "    .colab-df-convert:hover {\n",
              "      background-color: #E2EBFA;\n",
              "      box-shadow: 0px 1px 2px rgba(60, 64, 67, 0.3), 0px 1px 3px 1px rgba(60, 64, 67, 0.15);\n",
              "      fill: #174EA6;\n",
              "    }\n",
              "\n",
              "    [theme=dark] .colab-df-convert {\n",
              "      background-color: #3B4455;\n",
              "      fill: #D2E3FC;\n",
              "    }\n",
              "\n",
              "    [theme=dark] .colab-df-convert:hover {\n",
              "      background-color: #434B5C;\n",
              "      box-shadow: 0px 1px 3px 1px rgba(0, 0, 0, 0.15);\n",
              "      filter: drop-shadow(0px 1px 2px rgba(0, 0, 0, 0.3));\n",
              "      fill: #FFFFFF;\n",
              "    }\n",
              "  </style>\n",
              "\n",
              "      <script>\n",
              "        const buttonEl =\n",
              "          document.querySelector('#df-7c51ff10-ce87-42ff-bf8d-33d3abd2f3c6 button.colab-df-convert');\n",
              "        buttonEl.style.display =\n",
              "          google.colab.kernel.accessAllowed ? 'block' : 'none';\n",
              "\n",
              "        async function convertToInteractive(key) {\n",
              "          const element = document.querySelector('#df-7c51ff10-ce87-42ff-bf8d-33d3abd2f3c6');\n",
              "          const dataTable =\n",
              "            await google.colab.kernel.invokeFunction('convertToInteractive',\n",
              "                                                     [key], {});\n",
              "          if (!dataTable) return;\n",
              "\n",
              "          const docLinkHtml = 'Like what you see? Visit the ' +\n",
              "            '<a target=\"_blank\" href=https://colab.research.google.com/notebooks/data_table.ipynb>data table notebook</a>'\n",
              "            + ' to learn more about interactive tables.';\n",
              "          element.innerHTML = '';\n",
              "          dataTable['output_type'] = 'display_data';\n",
              "          await google.colab.output.renderOutput(dataTable, element);\n",
              "          const docLink = document.createElement('div');\n",
              "          docLink.innerHTML = docLinkHtml;\n",
              "          element.appendChild(docLink);\n",
              "        }\n",
              "      </script>\n",
              "    </div>\n",
              "  </div>\n",
              "  "
            ]
          },
          "metadata": {},
          "execution_count": 40
        }
      ]
    },
    {
      "cell_type": "markdown",
      "source": [
        "Определим размер датасета:"
      ],
      "metadata": {
        "id": "cR5CG28wB1SX"
      }
    },
    {
      "cell_type": "code",
      "source": [
        "data.shape"
      ],
      "metadata": {
        "colab": {
          "base_uri": "https://localhost:8080/"
        },
        "id": "8YFuOSjxB10p",
        "outputId": "92b2d1ab-b211-43ec-d5fb-6fd66892f87c"
      },
      "execution_count": 41,
      "outputs": [
        {
          "output_type": "execute_result",
          "data": {
            "text/plain": [
              "(1000, 8)"
            ]
          },
          "metadata": {},
          "execution_count": 41
        }
      ]
    },
    {
      "cell_type": "markdown",
      "source": [
        "Определим типы данных:"
      ],
      "metadata": {
        "id": "-h_zYPjkB6M6"
      }
    },
    {
      "cell_type": "code",
      "source": [
        "data.dtypes"
      ],
      "metadata": {
        "colab": {
          "base_uri": "https://localhost:8080/"
        },
        "id": "hugOuJE6B8Bh",
        "outputId": "40a6693e-f41c-4f08-d703-fa37ed1782b5"
      },
      "execution_count": 42,
      "outputs": [
        {
          "output_type": "execute_result",
          "data": {
            "text/plain": [
              "gender                         object\n",
              "race/ethnicity                 object\n",
              "parental level of education    object\n",
              "lunch                          object\n",
              "test preparation course        object\n",
              "math score                      int64\n",
              "reading score                   int64\n",
              "writing score                   int64\n",
              "dtype: object"
            ]
          },
          "metadata": {},
          "execution_count": 42
        }
      ]
    },
    {
      "cell_type": "markdown",
      "source": [
        "## Обработка пропусков"
      ],
      "metadata": {
        "id": "b5qXNlLCE6wl"
      }
    },
    {
      "cell_type": "markdown",
      "source": [
        "Проверим наличие пропусков:"
      ],
      "metadata": {
        "id": "OAvyS2PzI55E"
      }
    },
    {
      "cell_type": "code",
      "source": [
        "data.isnull().sum()"
      ],
      "metadata": {
        "colab": {
          "base_uri": "https://localhost:8080/"
        },
        "id": "EqMgwxrkI3ON",
        "outputId": "89b92e88-899d-4d4e-cf67-8b3ed626388c"
      },
      "execution_count": 43,
      "outputs": [
        {
          "output_type": "execute_result",
          "data": {
            "text/plain": [
              "gender                         0\n",
              "race/ethnicity                 0\n",
              "parental level of education    0\n",
              "lunch                          0\n",
              "test preparation course        0\n",
              "math score                     0\n",
              "reading score                  0\n",
              "writing score                  0\n",
              "dtype: int64"
            ]
          },
          "metadata": {},
          "execution_count": 43
        }
      ]
    },
    {
      "cell_type": "markdown",
      "source": [
        "## Оптимизация данных"
      ],
      "metadata": {
        "id": "z7POTT5YJIzx"
      }
    },
    {
      "cell_type": "markdown",
      "source": [
        "Для кодирования столбцов категорий будем использовать LabelEncoder:"
      ],
      "metadata": {
        "id": "RNjBWcOBJh-g"
      }
    },
    {
      "cell_type": "code",
      "source": [
        "from sklearn.preprocessing import LabelEncoder"
      ],
      "metadata": {
        "id": "v23k4Ti0KSaW"
      },
      "execution_count": 32,
      "outputs": []
    },
    {
      "cell_type": "code",
      "source": [
        "legend = LabelEncoder()\n",
        "legendarr = legend.fit_transform(data[\"gender\"])\n",
        "data[\"gender\"] = legendarr\n",
        "data = data.astype({\"gender\":\"float\"})\n",
        "\n",
        "lerace = LabelEncoder()\n",
        "leracearr = lerace.fit_transform(data[\"race/ethnicity\"])\n",
        "data[\"race/ethnicity\"] = leracearr\n",
        "data = data.astype({\"race/ethnicity\":\"float\"})\n",
        "\n",
        "leeduc = LabelEncoder()\n",
        "leeducarr = leeduc.fit_transform(data[\"parental level of education\"])\n",
        "data[\"parental level of education\"] = leeducarr\n",
        "data = data.astype({\"parental level of education\":\"float\"})\n",
        "\n",
        "lelunch = LabelEncoder()\n",
        "leluncharr = lelunch.fit_transform(data[\"lunch\"])\n",
        "data[\"lunch\"] = leluncharr\n",
        "data = data.astype({\"lunch\":\"float\"})\n",
        "\n",
        "leprep = LabelEncoder()\n",
        "lepreparr = leprep.fit_transform(data[\"test preparation course\"])\n",
        "data[\"test preparation course\"] = lepreparr\n",
        "data = data.astype({\"test preparation course\":\"float\"})\n",
        "\n",
        "\n"
      ],
      "metadata": {
        "id": "lAAOGhCzKVuQ"
      },
      "execution_count": 46,
      "outputs": []
    },
    {
      "cell_type": "markdown",
      "source": [
        "Проверим кодирование:"
      ],
      "metadata": {
        "id": "gqure8DiPJ6t"
      }
    },
    {
      "cell_type": "code",
      "source": [
        "np.unique(legendarr), np.unique(leracearr), np.unique(leeducarr), np.unique(leluncharr), np.unique(lepreparr)"
      ],
      "metadata": {
        "colab": {
          "base_uri": "https://localhost:8080/"
        },
        "id": "yhlRL_8BPNLg",
        "outputId": "5fed7414-5526-4f4c-e443-36c4097e6a5a"
      },
      "execution_count": 47,
      "outputs": [
        {
          "output_type": "execute_result",
          "data": {
            "text/plain": [
              "(array([0, 1]),\n",
              " array([0, 1, 2, 3, 4]),\n",
              " array([0, 1, 2, 3, 4, 5]),\n",
              " array([0, 1]),\n",
              " array([0, 1]))"
            ]
          },
          "metadata": {},
          "execution_count": 47
        }
      ]
    },
    {
      "cell_type": "markdown",
      "source": [
        "И замену в датасете:"
      ],
      "metadata": {
        "id": "Q3TbZk5KPayo"
      }
    },
    {
      "cell_type": "code",
      "source": [
        "data.head()"
      ],
      "metadata": {
        "colab": {
          "base_uri": "https://localhost:8080/",
          "height": 206
        },
        "id": "wUhg3rAQPZ_a",
        "outputId": "5c4a41d6-8c29-441f-fcae-227d9487244c"
      },
      "execution_count": 48,
      "outputs": [
        {
          "output_type": "execute_result",
          "data": {
            "text/plain": [
              "   gender  race/ethnicity  parental level of education  lunch  \\\n",
              "0     0.0             1.0                          1.0    1.0   \n",
              "1     0.0             2.0                          4.0    1.0   \n",
              "2     0.0             1.0                          3.0    1.0   \n",
              "3     1.0             0.0                          0.0    0.0   \n",
              "4     1.0             2.0                          4.0    1.0   \n",
              "\n",
              "   test preparation course  math score  reading score  writing score  \n",
              "0                      1.0          72             72             74  \n",
              "1                      0.0          69             90             88  \n",
              "2                      1.0          90             95             93  \n",
              "3                      1.0          47             57             44  \n",
              "4                      1.0          76             78             75  "
            ],
            "text/html": [
              "\n",
              "  <div id=\"df-7c474635-726a-4e66-b9fb-c1d96afd836c\">\n",
              "    <div class=\"colab-df-container\">\n",
              "      <div>\n",
              "<style scoped>\n",
              "    .dataframe tbody tr th:only-of-type {\n",
              "        vertical-align: middle;\n",
              "    }\n",
              "\n",
              "    .dataframe tbody tr th {\n",
              "        vertical-align: top;\n",
              "    }\n",
              "\n",
              "    .dataframe thead th {\n",
              "        text-align: right;\n",
              "    }\n",
              "</style>\n",
              "<table border=\"1\" class=\"dataframe\">\n",
              "  <thead>\n",
              "    <tr style=\"text-align: right;\">\n",
              "      <th></th>\n",
              "      <th>gender</th>\n",
              "      <th>race/ethnicity</th>\n",
              "      <th>parental level of education</th>\n",
              "      <th>lunch</th>\n",
              "      <th>test preparation course</th>\n",
              "      <th>math score</th>\n",
              "      <th>reading score</th>\n",
              "      <th>writing score</th>\n",
              "    </tr>\n",
              "  </thead>\n",
              "  <tbody>\n",
              "    <tr>\n",
              "      <th>0</th>\n",
              "      <td>0.0</td>\n",
              "      <td>1.0</td>\n",
              "      <td>1.0</td>\n",
              "      <td>1.0</td>\n",
              "      <td>1.0</td>\n",
              "      <td>72</td>\n",
              "      <td>72</td>\n",
              "      <td>74</td>\n",
              "    </tr>\n",
              "    <tr>\n",
              "      <th>1</th>\n",
              "      <td>0.0</td>\n",
              "      <td>2.0</td>\n",
              "      <td>4.0</td>\n",
              "      <td>1.0</td>\n",
              "      <td>0.0</td>\n",
              "      <td>69</td>\n",
              "      <td>90</td>\n",
              "      <td>88</td>\n",
              "    </tr>\n",
              "    <tr>\n",
              "      <th>2</th>\n",
              "      <td>0.0</td>\n",
              "      <td>1.0</td>\n",
              "      <td>3.0</td>\n",
              "      <td>1.0</td>\n",
              "      <td>1.0</td>\n",
              "      <td>90</td>\n",
              "      <td>95</td>\n",
              "      <td>93</td>\n",
              "    </tr>\n",
              "    <tr>\n",
              "      <th>3</th>\n",
              "      <td>1.0</td>\n",
              "      <td>0.0</td>\n",
              "      <td>0.0</td>\n",
              "      <td>0.0</td>\n",
              "      <td>1.0</td>\n",
              "      <td>47</td>\n",
              "      <td>57</td>\n",
              "      <td>44</td>\n",
              "    </tr>\n",
              "    <tr>\n",
              "      <th>4</th>\n",
              "      <td>1.0</td>\n",
              "      <td>2.0</td>\n",
              "      <td>4.0</td>\n",
              "      <td>1.0</td>\n",
              "      <td>1.0</td>\n",
              "      <td>76</td>\n",
              "      <td>78</td>\n",
              "      <td>75</td>\n",
              "    </tr>\n",
              "  </tbody>\n",
              "</table>\n",
              "</div>\n",
              "      <button class=\"colab-df-convert\" onclick=\"convertToInteractive('df-7c474635-726a-4e66-b9fb-c1d96afd836c')\"\n",
              "              title=\"Convert this dataframe to an interactive table.\"\n",
              "              style=\"display:none;\">\n",
              "        \n",
              "  <svg xmlns=\"http://www.w3.org/2000/svg\" height=\"24px\"viewBox=\"0 0 24 24\"\n",
              "       width=\"24px\">\n",
              "    <path d=\"M0 0h24v24H0V0z\" fill=\"none\"/>\n",
              "    <path d=\"M18.56 5.44l.94 2.06.94-2.06 2.06-.94-2.06-.94-.94-2.06-.94 2.06-2.06.94zm-11 1L8.5 8.5l.94-2.06 2.06-.94-2.06-.94L8.5 2.5l-.94 2.06-2.06.94zm10 10l.94 2.06.94-2.06 2.06-.94-2.06-.94-.94-2.06-.94 2.06-2.06.94z\"/><path d=\"M17.41 7.96l-1.37-1.37c-.4-.4-.92-.59-1.43-.59-.52 0-1.04.2-1.43.59L10.3 9.45l-7.72 7.72c-.78.78-.78 2.05 0 2.83L4 21.41c.39.39.9.59 1.41.59.51 0 1.02-.2 1.41-.59l7.78-7.78 2.81-2.81c.8-.78.8-2.07 0-2.86zM5.41 20L4 18.59l7.72-7.72 1.47 1.35L5.41 20z\"/>\n",
              "  </svg>\n",
              "      </button>\n",
              "      \n",
              "  <style>\n",
              "    .colab-df-container {\n",
              "      display:flex;\n",
              "      flex-wrap:wrap;\n",
              "      gap: 12px;\n",
              "    }\n",
              "\n",
              "    .colab-df-convert {\n",
              "      background-color: #E8F0FE;\n",
              "      border: none;\n",
              "      border-radius: 50%;\n",
              "      cursor: pointer;\n",
              "      display: none;\n",
              "      fill: #1967D2;\n",
              "      height: 32px;\n",
              "      padding: 0 0 0 0;\n",
              "      width: 32px;\n",
              "    }\n",
              "\n",
              "    .colab-df-convert:hover {\n",
              "      background-color: #E2EBFA;\n",
              "      box-shadow: 0px 1px 2px rgba(60, 64, 67, 0.3), 0px 1px 3px 1px rgba(60, 64, 67, 0.15);\n",
              "      fill: #174EA6;\n",
              "    }\n",
              "\n",
              "    [theme=dark] .colab-df-convert {\n",
              "      background-color: #3B4455;\n",
              "      fill: #D2E3FC;\n",
              "    }\n",
              "\n",
              "    [theme=dark] .colab-df-convert:hover {\n",
              "      background-color: #434B5C;\n",
              "      box-shadow: 0px 1px 3px 1px rgba(0, 0, 0, 0.15);\n",
              "      filter: drop-shadow(0px 1px 2px rgba(0, 0, 0, 0.3));\n",
              "      fill: #FFFFFF;\n",
              "    }\n",
              "  </style>\n",
              "\n",
              "      <script>\n",
              "        const buttonEl =\n",
              "          document.querySelector('#df-7c474635-726a-4e66-b9fb-c1d96afd836c button.colab-df-convert');\n",
              "        buttonEl.style.display =\n",
              "          google.colab.kernel.accessAllowed ? 'block' : 'none';\n",
              "\n",
              "        async function convertToInteractive(key) {\n",
              "          const element = document.querySelector('#df-7c474635-726a-4e66-b9fb-c1d96afd836c');\n",
              "          const dataTable =\n",
              "            await google.colab.kernel.invokeFunction('convertToInteractive',\n",
              "                                                     [key], {});\n",
              "          if (!dataTable) return;\n",
              "\n",
              "          const docLinkHtml = 'Like what you see? Visit the ' +\n",
              "            '<a target=\"_blank\" href=https://colab.research.google.com/notebooks/data_table.ipynb>data table notebook</a>'\n",
              "            + ' to learn more about interactive tables.';\n",
              "          element.innerHTML = '';\n",
              "          dataTable['output_type'] = 'display_data';\n",
              "          await google.colab.output.renderOutput(dataTable, element);\n",
              "          const docLink = document.createElement('div');\n",
              "          docLink.innerHTML = docLinkHtml;\n",
              "          element.appendChild(docLink);\n",
              "        }\n",
              "      </script>\n",
              "    </div>\n",
              "  </div>\n",
              "  "
            ]
          },
          "metadata": {},
          "execution_count": 48
        }
      ]
    },
    {
      "cell_type": "markdown",
      "source": [
        "## Разделение выборки на обучающую и тестовую"
      ],
      "metadata": {
        "id": "KhNNshmwPgY4"
      }
    },
    {
      "cell_type": "markdown",
      "source": [
        "Разделим выборку с помощью функции train_test_split:"
      ],
      "metadata": {
        "id": "zs7VzxcmQj1J"
      }
    },
    {
      "cell_type": "code",
      "source": [
        "from sklearn.model_selection import train_test_split"
      ],
      "metadata": {
        "id": "76RDfGAiQl74"
      },
      "execution_count": 49,
      "outputs": []
    },
    {
      "cell_type": "code",
      "source": [
        "X_train, X_test, y_train, y_test = train_test_split(data, data[\"writing score\"], random_state=1)"
      ],
      "metadata": {
        "id": "mlQcybTMQsw2"
      },
      "execution_count": 55,
      "outputs": []
    },
    {
      "cell_type": "markdown",
      "source": [
        "Размеры обучающей выборки и тестовой выборки:"
      ],
      "metadata": {
        "id": "NgabUUcIR8Rv"
      }
    },
    {
      "cell_type": "code",
      "source": [
        "X_train.shape, y_train.shape, X_test.shape, y_test.shape"
      ],
      "metadata": {
        "colab": {
          "base_uri": "https://localhost:8080/"
        },
        "id": "c6mKN0kzR6x5",
        "outputId": "1d22c563-8444-422d-f24f-1cff9d401f6d"
      },
      "execution_count": 56,
      "outputs": [
        {
          "output_type": "execute_result",
          "data": {
            "text/plain": [
              "((750, 8), (750,), (250, 8), (250,))"
            ]
          },
          "metadata": {},
          "execution_count": 56
        }
      ]
    },
    {
      "cell_type": "markdown",
      "source": [
        "## Обучение моделей"
      ],
      "metadata": {
        "id": "Vido7CsQSBH3"
      }
    },
    {
      "cell_type": "markdown",
      "source": [
        "Линейная модель регрессии"
      ],
      "metadata": {
        "id": "o8XvmKq_SEz7"
      }
    },
    {
      "cell_type": "code",
      "source": [
        "fig, ax = plt.subplots(figsize=(15,7))\n",
        "sns.heatmap(data.corr(method='pearson'), ax=ax, annot=True, fmt='.2f')"
      ],
      "metadata": {
        "colab": {
          "base_uri": "https://localhost:8080/",
          "height": 591
        },
        "id": "mrslIr8FSNs1",
        "outputId": "5164ffcb-df53-4fef-8e02-d8bf7c69feae"
      },
      "execution_count": 57,
      "outputs": [
        {
          "output_type": "execute_result",
          "data": {
            "text/plain": [
              "<matplotlib.axes._subplots.AxesSubplot at 0x7fb8f093f190>"
            ]
          },
          "metadata": {},
          "execution_count": 57
        },
        {
          "output_type": "display_data",
          "data": {
            "text/plain": [
              "<Figure size 1080x504 with 2 Axes>"
            ],
            "image/png": "[encoded data removed]"
          },
          "metadata": {}
        }
      ]
    },
    {
      "cell_type": "code",
      "source": [
        "fig, ax = plt.subplots(figsize=(10,10)) \n",
        "sns.scatterplot(ax=ax, x='reading score', y='writing score', data=data)"
      ],
      "metadata": {
        "colab": {
          "base_uri": "https://localhost:8080/",
          "height": 628
        },
        "id": "sLtv-M0mSR8l",
        "outputId": "e21bee30-2452-4901-d7f1-25401fab21e7"
      },
      "execution_count": 58,
      "outputs": [
        {
          "output_type": "execute_result",
          "data": {
            "text/plain": [
              "<matplotlib.axes._subplots.AxesSubplot at 0x7fb8edfa8b90>"
            ]
          },
          "metadata": {},
          "execution_count": 58
        },
        {
          "output_type": "display_data",
          "data": {
            "text/plain": [
              "<Figure size 720x720 with 1 Axes>"
            ],
            "image/png": "[encoded data removed]"
          },
          "metadata": {}
        }
      ]
    },
    {
      "cell_type": "markdown",
      "source": [
        "Между признаками \"reading score\" и \"writing score\" прослеживается линейная зависимость (коэффициент корреляции = 0.95)."
      ],
      "metadata": {
        "id": "0i9srkUyShFq"
      }
    },
    {
      "cell_type": "markdown",
      "source": [
        "## Аналитическое вычисление коэффициентов регрессии"
      ],
      "metadata": {
        "id": "PO3icZOUUW1l"
      }
    },
    {
      "cell_type": "code",
      "source": [
        "from typing import Dict, Tuple"
      ],
      "metadata": {
        "id": "2IAqPF8cUXfR"
      },
      "execution_count": 59,
      "outputs": []
    },
    {
      "cell_type": "code",
      "source": [
        "def analytic_regr_coef(x_array : np.ndarray, \n",
        "                       y_array : np.ndarray) -> Tuple[float, float]:\n",
        "    x_mean = np.mean(x_array)\n",
        "    y_mean = np.mean(y_array)\n",
        "    var1 = np.sum([(x-x_mean)**2 for x in x_array])\n",
        "    cov1 = np.sum([(x-x_mean)*(y-y_mean) for x, y in zip(x_array, y_array)])\n",
        "    b1 = cov1 / var1\n",
        "    b0 = y_mean - b1*x_mean\n",
        "    return b0, b1"
      ],
      "metadata": {
        "id": "8ZnPV6EdUl6i"
      },
      "execution_count": 60,
      "outputs": []
    },
    {
      "cell_type": "code",
      "source": [
        "x_array = data['reading score'].values\n",
        "y_array = data['writing score'].values"
      ],
      "metadata": {
        "id": "mvg9UhIeUul_"
      },
      "execution_count": 61,
      "outputs": []
    },
    {
      "cell_type": "markdown",
      "source": [
        "Коэффициенты регрессии:"
      ],
      "metadata": {
        "id": "Q4Q_r6FsU3iZ"
      }
    },
    {
      "cell_type": "code",
      "source": [
        "b0, b1 = analytic_regr_coef(x_array, y_array)\n",
        "b0, b1"
      ],
      "metadata": {
        "colab": {
          "base_uri": "https://localhost:8080/"
        },
        "id": "SAWoSuvwU4Ct",
        "outputId": "00df55df-c63a-4e4d-a45b-80cad4cdb2cd"
      },
      "execution_count": 62,
      "outputs": [
        {
          "output_type": "execute_result",
          "data": {
            "text/plain": [
              "(-0.6675536409329368, 0.9935311142409596)"
            ]
          },
          "metadata": {},
          "execution_count": 62
        }
      ]
    },
    {
      "cell_type": "markdown",
      "source": [
        "Отрисовка зависимости:"
      ],
      "metadata": {
        "id": "d5yobLyWU-Pj"
      }
    },
    {
      "cell_type": "code",
      "source": [
        "def y_regr(x_array : np.ndarray, b0: float, b1: float) -> np.ndarray:\n",
        "    res = [b1*x+b0 for x in x_array]\n",
        "    return res"
      ],
      "metadata": {
        "id": "85qLm4u9U6sk"
      },
      "execution_count": 63,
      "outputs": []
    },
    {
      "cell_type": "code",
      "source": [
        "regr_a = y_regr(x_array, b0, b1)"
      ],
      "metadata": {
        "id": "mhxF53e4VAoh"
      },
      "execution_count": 64,
      "outputs": []
    },
    {
      "cell_type": "code",
      "source": [
        "plt.plot(x_array, y_array, 'g.')\n",
        "plt.plot(x_array, regr_a, 'b', linewidth=2.0)\n",
        "plt.show()"
      ],
      "metadata": {
        "colab": {
          "base_uri": "https://localhost:8080/",
          "height": 268
        },
        "id": "2d3N8GO3VEJo",
        "outputId": "0803feea-8cd9-4e06-8fdb-f396592dc61a"
      },
      "execution_count": 65,
      "outputs": [
        {
          "output_type": "display_data",
          "data": {
            "text/plain": [
              "<Figure size 432x288 with 1 Axes>"
            ],
            "image/png": "[encoded data removed]"
          },
          "metadata": {}
        }
      ]
    },
    {
      "cell_type": "markdown",
      "source": [
        "## Метод наименьших квадратов"
      ],
      "metadata": {
        "id": "Okwk2Fm5VIJT"
      }
    },
    {
      "cell_type": "code",
      "source": [
        "K_mnk=10\n",
        "\n",
        "plt.plot(x_array[1:K_mnk+1], y_array[1:K_mnk+1], 'go')\n",
        "plt.plot(x_array[1:K_mnk+1], regr_a[1:K_mnk+1], '-ro', linewidth=2.0)\n",
        "\n",
        "for i in range(len(x_array[1:K_mnk+1])):\n",
        "    x1 = x_array[1:K_mnk+1][i]\n",
        "    y1 = y_array[1:K_mnk+1][i]\n",
        "    y2 = regr_a[1:K_mnk+1][i]\n",
        "    plt.plot([x1,x1],[y1,y2],'g-')\n",
        "\n",
        "plt.show()"
      ],
      "metadata": {
        "colab": {
          "base_uri": "https://localhost:8080/",
          "height": 268
        },
        "id": "kxi2gt7BVJpY",
        "outputId": "24a4804d-fa3a-4fb7-8293-8cb8b2ad68d3"
      },
      "execution_count": 66,
      "outputs": [
        {
          "output_type": "display_data",
          "data": {
            "text/plain": [
              "<Figure size 432x288 with 1 Axes>"
            ],
            "image/png": "[encoded data removed]"
          },
          "metadata": {}
        }
      ]
    },
    {
      "cell_type": "markdown",
      "source": [
        "## Подбор коэффициентов через LinearRegression"
      ],
      "metadata": {
        "id": "bJK6xFHrVN5V"
      }
    },
    {
      "cell_type": "code",
      "source": [
        "from sklearn.linear_model import LinearRegression"
      ],
      "metadata": {
        "id": "e6R3hXGyVUgR"
      },
      "execution_count": 67,
      "outputs": []
    },
    {
      "cell_type": "markdown",
      "source": [
        "Коэффициенты, полученные с использованием LinearRegression:"
      ],
      "metadata": {
        "id": "U7X37sBgVYXB"
      }
    },
    {
      "cell_type": "code",
      "source": [
        "regr1 = LinearRegression().fit(x_array.reshape(-1, 1), y_array.reshape(-1, 1))\n",
        "(b1, regr1.coef_), (b0, regr1.intercept_)"
      ],
      "metadata": {
        "colab": {
          "base_uri": "https://localhost:8080/"
        },
        "id": "IN6o-BJZVY_g",
        "outputId": "5aa597fe-5069-4252-bb11-0aaac66d053f"
      },
      "execution_count": 68,
      "outputs": [
        {
          "output_type": "execute_result",
          "data": {
            "text/plain": [
              "((0.9935311142409596, array([[0.99353111]])),\n",
              " (-0.6675536409329368, array([-0.66755364])))"
            ]
          },
          "metadata": {},
          "execution_count": 68
        }
      ]
    },
    {
      "cell_type": "markdown",
      "source": [
        "Линейная модель:"
      ],
      "metadata": {
        "id": "yi_92GamVbb2"
      }
    },
    {
      "cell_type": "code",
      "source": [
        "model1 = LinearRegression()\n",
        "model1.fit(X_train, y_train)"
      ],
      "metadata": {
        "colab": {
          "base_uri": "https://localhost:8080/"
        },
        "id": "7rVyrfxNVfH4",
        "outputId": "26ea15e3-686f-4588-da57-71ec3dd97f76"
      },
      "execution_count": 69,
      "outputs": [
        {
          "output_type": "execute_result",
          "data": {
            "text/plain": [
              "LinearRegression()"
            ]
          },
          "metadata": {},
          "execution_count": 69
        }
      ]
    },
    {
      "cell_type": "markdown",
      "source": [
        ""
      ],
      "metadata": {
        "id": "_kONVI5CWiSX"
      }
    },
    {
      "cell_type": "markdown",
      "source": [
        "## SVM модель"
      ],
      "metadata": {
        "id": "wzL-0q8-VtCM"
      }
    },
    {
      "cell_type": "code",
      "source": [
        "from sklearn.svm import SVR"
      ],
      "metadata": {
        "id": "997oEwJaVqj3"
      },
      "execution_count": 87,
      "outputs": []
    },
    {
      "cell_type": "code",
      "source": [
        "regr2 = SVR(kernel='linear', C=1.0)\n",
        "model2 = regr2.fit(X_train, y_train)"
      ],
      "metadata": {
        "id": "Y9S0xcqyZUqt"
      },
      "execution_count": 91,
      "outputs": []
    },
    {
      "cell_type": "markdown",
      "source": [
        "## Дерево решений"
      ],
      "metadata": {
        "id": "u9PWUR9TbJft"
      }
    },
    {
      "cell_type": "code",
      "source": [
        "from sklearn.tree import DecisionTreeRegressor"
      ],
      "metadata": {
        "id": "vhN1rAwSbKee"
      },
      "execution_count": 92,
      "outputs": []
    },
    {
      "cell_type": "code",
      "source": [
        "def stat_tree(estimator):\n",
        "    n_nodes = estimator.tree_.node_count\n",
        "    children_left = estimator.tree_.children_left\n",
        "    children_right = estimator.tree_.children_right\n",
        "\n",
        "    node_depth = np.zeros(shape=n_nodes, dtype=np.int64)\n",
        "    is_leaves = np.zeros(shape=n_nodes, dtype=bool)\n",
        "    stack = [(0, -1)]  # seed is the root node id and its parent depth\n",
        "    while len(stack) > 0:\n",
        "        node_id, parent_depth = stack.pop()\n",
        "        node_depth[node_id] = parent_depth + 1\n",
        "\n",
        "        # If we have a test node\n",
        "        if (children_left[node_id] != children_right[node_id]):\n",
        "            stack.append((children_left[node_id], parent_depth + 1))\n",
        "            stack.append((children_right[node_id], parent_depth + 1))\n",
        "        else:\n",
        "            is_leaves[node_id] = True\n",
        "\n",
        "    print(\"Всего узлов:\", n_nodes)\n",
        "    print(\"Листовых узлов:\", sum(is_leaves))\n",
        "    print(\"Глубина дерева:\", max(node_depth))\n",
        "    print(\"Минимальная глубина листьев дерева:\", min(node_depth[is_leaves]))\n",
        "    print(\"Средняя глубина листьев дерева:\", node_depth[is_leaves].mean())"
      ],
      "metadata": {
        "id": "J93RhqurbOaB"
      },
      "execution_count": 93,
      "outputs": []
    },
    {
      "cell_type": "markdown",
      "source": [
        "Построим модель дерева с глубиной = 3:"
      ],
      "metadata": {
        "id": "wIOvYSW6bYfL"
      }
    },
    {
      "cell_type": "code",
      "source": [
        "regr3 = DecisionTreeRegressor(max_depth=3)\n",
        "model3 = regr3.fit(X_train, y_train)"
      ],
      "metadata": {
        "id": "PwXY9iKgbPUT"
      },
      "execution_count": 94,
      "outputs": []
    },
    {
      "cell_type": "markdown",
      "source": [
        "Выведем основную статистику для дерева:"
      ],
      "metadata": {
        "id": "-uIFHktZbfFI"
      }
    },
    {
      "cell_type": "code",
      "source": [
        "stat_tree(model3)"
      ],
      "metadata": {
        "colab": {
          "base_uri": "https://localhost:8080/"
        },
        "id": "4UfdiPqIbf-V",
        "outputId": "37a65cb5-eab8-4eab-ef88-3b33d0aa5348"
      },
      "execution_count": 95,
      "outputs": [
        {
          "output_type": "stream",
          "name": "stdout",
          "text": [
            "Всего узлов: 15\n",
            "Листовых узлов: 8\n",
            "Глубина дерева: 3\n",
            "Минимальная глубина листьев дерева: 3\n",
            "Средняя глубина листьев дерева: 3.0\n"
          ]
        }
      ]
    },
    {
      "cell_type": "markdown",
      "source": [
        "И с глубиной = 5:"
      ],
      "metadata": {
        "id": "Mb5aIXqybkIm"
      }
    },
    {
      "cell_type": "code",
      "source": [
        "regr4 = DecisionTreeRegressor(max_depth=5)\n",
        "model4 = regr4.fit(X_train, y_train)"
      ],
      "metadata": {
        "id": "gbQDxm9dbngN"
      },
      "execution_count": 96,
      "outputs": []
    },
    {
      "cell_type": "code",
      "source": [
        "stat_tree(model4)"
      ],
      "metadata": {
        "colab": {
          "base_uri": "https://localhost:8080/"
        },
        "id": "TT6LKQljbtV7",
        "outputId": "a1ce2a82-abbd-4c31-a1f2-4c4580bc8d5b"
      },
      "execution_count": 97,
      "outputs": [
        {
          "output_type": "stream",
          "name": "stdout",
          "text": [
            "Всего узлов: 63\n",
            "Листовых узлов: 32\n",
            "Глубина дерева: 5\n",
            "Минимальная глубина листьев дерева: 5\n",
            "Средняя глубина листьев дерева: 5.0\n"
          ]
        }
      ]
    },
    {
      "cell_type": "markdown",
      "source": [
        "## Оценка качества моделей с помощью двух метрик. Сравнение качества"
      ],
      "metadata": {
        "id": "UwaTWZthb4T-"
      }
    },
    {
      "cell_type": "markdown",
      "source": [
        "Оценивать качество регрессии будем при помощи двух метрик - средней абсолютной ошибки (Mean Absolute Error) и медианной абсолютной ошибки (Median Absolute Error):"
      ],
      "metadata": {
        "id": "5A3VLeGdb6P3"
      }
    },
    {
      "cell_type": "code",
      "source": [
        "from sklearn.metrics import mean_absolute_error, median_absolute_error "
      ],
      "metadata": {
        "id": "L7xyEIM2cFTY"
      },
      "execution_count": 110,
      "outputs": []
    },
    {
      "cell_type": "code",
      "source": [
        "err1 = []\n",
        "err2 = []"
      ],
      "metadata": {
        "id": "ssiY10dxcHnu"
      },
      "execution_count": 111,
      "outputs": []
    },
    {
      "cell_type": "code",
      "source": [
        "def rate_model(model):\n",
        "    print(\"Средняя абсолютная ошибка:\",\n",
        "          mean_absolute_error(y_test, model.predict(X_test)))\n",
        "    err1.append(mean_absolute_error(y_test, model.predict(X_test)))\n",
        "    print(\"Медианная абсолютная ошибка:\",\n",
        "          median_absolute_error(y_test, model.predict(X_test)))\n",
        "    err2.append(median_absolute_error(y_test, model.predict(X_test)))"
      ],
      "metadata": {
        "id": "nvKWm8hGcKBI"
      },
      "execution_count": 112,
      "outputs": []
    },
    {
      "cell_type": "code",
      "source": [
        "rate_model(model1)"
      ],
      "metadata": {
        "colab": {
          "base_uri": "https://localhost:8080/"
        },
        "id": "RcIfMC9rcMDJ",
        "outputId": "ee0251be-4135-478b-bc4b-65bf7d6afc0e"
      },
      "execution_count": 113,
      "outputs": [
        {
          "output_type": "stream",
          "name": "stdout",
          "text": [
            "Средняя абсолютная ошибка: 4.867217739956687e-15\n",
            "Медианная абсолютная ошибка: 0.0\n"
          ]
        }
      ]
    },
    {
      "cell_type": "code",
      "source": [
        "rate_model(model2)"
      ],
      "metadata": {
        "colab": {
          "base_uri": "https://localhost:8080/"
        },
        "id": "pqb6WOMYcNJx",
        "outputId": "306b1f3a-3919-4268-d643-b350f52edce1"
      },
      "execution_count": 114,
      "outputs": [
        {
          "output_type": "stream",
          "name": "stdout",
          "text": [
            "Средняя абсолютная ошибка: 0.03480281770536795\n",
            "Медианная абсолютная ошибка: 0.0313226906224493\n"
          ]
        }
      ]
    },
    {
      "cell_type": "code",
      "source": [
        "rate_model(model3)"
      ],
      "metadata": {
        "colab": {
          "base_uri": "https://localhost:8080/"
        },
        "id": "thOuLw-jcOm6",
        "outputId": "976f6893-9e12-4af7-9c1e-63dc1a61b1d8"
      },
      "execution_count": 115,
      "outputs": [
        {
          "output_type": "stream",
          "name": "stdout",
          "text": [
            "Средняя абсолютная ошибка: 2.271458042303731\n",
            "Медианная абсолютная ошибка: 2.1506069285324614\n"
          ]
        }
      ]
    },
    {
      "cell_type": "code",
      "source": [
        "rate_model(model4)"
      ],
      "metadata": {
        "colab": {
          "base_uri": "https://localhost:8080/"
        },
        "id": "89h2eAIFcQKl",
        "outputId": "b73754d6-b657-4b06-e07d-0186fd4083e6"
      },
      "execution_count": 116,
      "outputs": [
        {
          "output_type": "stream",
          "name": "stdout",
          "text": [
            "Средняя абсолютная ошибка: 0.5718074060780459\n",
            "Медианная абсолютная ошибка: 0.5\n"
          ]
        }
      ]
    },
    {
      "cell_type": "markdown",
      "source": [
        "Самая лучшая по качеству по обоим метрикам - первая модель, полученная при помощи LinearRegression, а худшая - полученная с помощью дерева решений с глубиной 3."
      ],
      "metadata": {
        "id": "e15J3F5rb_AA"
      }
    },
    {
      "cell_type": "markdown",
      "source": [
        "Визуальное представление оценки:\n"
      ],
      "metadata": {
        "id": "_G3986G7cpmk"
      }
    },
    {
      "cell_type": "code",
      "source": [
        "fig, ax = plt.subplots(figsize=(10,10)) \n",
        "plt.scatter([1, 2, 3, 4], err1)\n",
        "plt.scatter([1, 2, 3, 4], err2)"
      ],
      "metadata": {
        "colab": {
          "base_uri": "https://localhost:8080/",
          "height": 611
        },
        "id": "V_-cMyndcolo",
        "outputId": "93e3e8ac-c193-4616-f2e6-3d69a0483194"
      },
      "execution_count": 117,
      "outputs": [
        {
          "output_type": "execute_result",
          "data": {
            "text/plain": [
              "<matplotlib.collections.PathCollection at 0x7fb8e9f47c90>"
            ]
          },
          "metadata": {},
          "execution_count": 117
        },
        {
          "output_type": "display_data",
          "data": {
            "text/plain": [
              "<Figure size 720x720 with 1 Axes>"
            ],
            "image/png": "[encoded data removed]"
          },
          "metadata": {}
        }
      ]
    },
    {
      "cell_type": "markdown",
      "source": [
        "## График важности признаков в дереве решений"
      ],
      "metadata": {
        "id": "AqNQMPBXdaSk"
      }
    },
    {
      "cell_type": "markdown",
      "source": [
        "Вычисление важности признаков основано на том, какое количество раз признак встречается в условиях дерева:"
      ],
      "metadata": {
        "id": "pyfEs7Oxdftu"
      }
    },
    {
      "cell_type": "code",
      "source": [
        "from operator import itemgetter\n",
        "\n",
        "def draw_feature_importances(tree_model, X_dataset, figsize=(18,5)):\n",
        "    \"\"\"\n",
        "    Вывод важности признаков в виде графика\n",
        "    \"\"\"\n",
        "    # Сортировка значений важности признаков по убыванию\n",
        "    list_to_sort = list(zip(X_dataset.columns.values, tree_model.feature_importances_))\n",
        "    sorted_list = sorted(list_to_sort, key=itemgetter(1), reverse = True)\n",
        "    # Названия признаков\n",
        "    labels = [x for x,_ in sorted_list]\n",
        "    # Важности признаков\n",
        "    data = [x for _,x in sorted_list]\n",
        "    # Вывод графика\n",
        "    fig, ax = plt.subplots(figsize=figsize)\n",
        "    ind = np.arange(len(labels))\n",
        "    plt.bar(ind, data)\n",
        "    plt.xticks(ind, labels, rotation='vertical')\n",
        "    # Вывод значений\n",
        "    for a,b in zip(ind, data):\n",
        "        plt.text(a-0.05, b+0.01, str(round(b,3)))\n",
        "    plt.show()\n",
        "    return labels, data"
      ],
      "metadata": {
        "id": "CudwDp0Adh4a"
      },
      "execution_count": 118,
      "outputs": []
    },
    {
      "cell_type": "markdown",
      "source": [
        "Проверим для модели с глубиной = 3:"
      ],
      "metadata": {
        "id": "qFdu5qI9dpqT"
      }
    },
    {
      "cell_type": "code",
      "source": [
        "list(zip(data.columns.values, model3.feature_importances_))"
      ],
      "metadata": {
        "colab": {
          "base_uri": "https://localhost:8080/"
        },
        "id": "Kt3kCXcmdsIf",
        "outputId": "bae3b88c-81a1-4867-cbc6-73426955460f"
      },
      "execution_count": 119,
      "outputs": [
        {
          "output_type": "execute_result",
          "data": {
            "text/plain": [
              "[('gender', 0.0),\n",
              " ('race/ethnicity', 0.0),\n",
              " ('parental level of education', 0.0),\n",
              " ('lunch', 0.0),\n",
              " ('test preparation course', 0.0),\n",
              " ('math score', 0.0),\n",
              " ('reading score', 0.0),\n",
              " ('writing score', 1.0)]"
            ]
          },
          "metadata": {},
          "execution_count": 119
        }
      ]
    },
    {
      "cell_type": "code",
      "source": [
        "stud_tree_cl_fl_1, stud_tree_cl_fd_1 = draw_feature_importances(model3, data)"
      ],
      "metadata": {
        "colab": {
          "base_uri": "https://localhost:8080/",
          "height": 461
        },
        "id": "OBuwHsNZdwdj",
        "outputId": "d283255b-0f78-4cab-a238-994f0ae8ecc8"
      },
      "execution_count": 120,
      "outputs": [
        {
          "output_type": "display_data",
          "data": {
            "text/plain": [
              "<Figure size 1296x360 with 1 Axes>"
            ],
            "image/png": "[encoded data removed]"
          },
          "metadata": {}
        }
      ]
    },
    {
      "cell_type": "markdown",
      "source": [
        "И для модели с глубиной = 5:"
      ],
      "metadata": {
        "id": "docNxiAQeCBi"
      }
    },
    {
      "cell_type": "code",
      "source": [
        "list(zip(data.columns.values, model4.feature_importances_))"
      ],
      "metadata": {
        "colab": {
          "base_uri": "https://localhost:8080/"
        },
        "id": "rujY5z65eEd-",
        "outputId": "a9e8c56f-b776-42a4-decc-3b80a6b122ba"
      },
      "execution_count": 122,
      "outputs": [
        {
          "output_type": "execute_result",
          "data": {
            "text/plain": [
              "[('gender', 0.0),\n",
              " ('race/ethnicity', 0.0),\n",
              " ('parental level of education', 0.0),\n",
              " ('lunch', 0.0),\n",
              " ('test preparation course', 0.0),\n",
              " ('math score', 0.0),\n",
              " ('reading score', 0.0019008910115964283),\n",
              " ('writing score', 0.9980991089884036)]"
            ]
          },
          "metadata": {},
          "execution_count": 122
        }
      ]
    },
    {
      "cell_type": "code",
      "source": [
        "stud_tree_cl_fl_2, syud_tree_cl_fd_ = draw_feature_importances(model4, data)"
      ],
      "metadata": {
        "colab": {
          "base_uri": "https://localhost:8080/",
          "height": 461
        },
        "id": "sq_hDsQVeKdt",
        "outputId": "71c9bc8c-c1f1-4a8f-b744-e981d96ddd8b"
      },
      "execution_count": 123,
      "outputs": [
        {
          "output_type": "display_data",
          "data": {
            "text/plain": [
              "<Figure size 1296x360 with 1 Axes>"
            ],
            "image/png": "[encoded data removed]"
          },
          "metadata": {}
        }
      ]
    },
    {
      "cell_type": "markdown",
      "source": [
        "## Вывод правил дерева"
      ],
      "metadata": {
        "id": "MVD64fqKeQMg"
      }
    },
    {
      "cell_type": "markdown",
      "source": [
        "Выведем правила для дерева с глубиной = 3:"
      ],
      "metadata": {
        "id": "YFDzh3w5eVF2"
      }
    },
    {
      "cell_type": "code",
      "source": [
        "from IPython.core.display import HTML\n",
        "from sklearn.tree import export_text\n",
        "tree_rules = export_text(model3, feature_names=list(data.columns))\n",
        "HTML('<pre>' + tree_rules + '</pre>')"
      ],
      "metadata": {
        "colab": {
          "base_uri": "https://localhost:8080/",
          "height": 399
        },
        "id": "GYQHh6XceTF4",
        "outputId": "48474871-4336-4a55-dc6d-258fdb0f7d20"
      },
      "execution_count": 124,
      "outputs": [
        {
          "output_type": "execute_result",
          "data": {
            "text/plain": [
              "<IPython.core.display.HTML object>"
            ],
            "text/html": [
              "<pre>|--- writing score <= 65.50\n",
              "|   |--- writing score <= 49.50\n",
              "|   |   |--- writing score <= 35.00\n",
              "|   |   |   |--- value: [27.31]\n",
              "|   |   |--- writing score >  35.00\n",
              "|   |   |   |--- value: [43.26]\n",
              "|   |--- writing score >  49.50\n",
              "|   |   |--- writing score <= 58.50\n",
              "|   |   |   |--- value: [54.32]\n",
              "|   |   |--- writing score >  58.50\n",
              "|   |   |   |--- value: [62.20]\n",
              "|--- writing score >  65.50\n",
              "|   |--- writing score <= 80.50\n",
              "|   |   |--- writing score <= 72.50\n",
              "|   |   |   |--- value: [68.90]\n",
              "|   |   |--- writing score >  72.50\n",
              "|   |   |   |--- value: [76.44]\n",
              "|   |--- writing score >  80.50\n",
              "|   |   |--- writing score <= 89.50\n",
              "|   |   |   |--- value: [84.39]\n",
              "|   |   |--- writing score >  89.50\n",
              "|   |   |   |--- value: [94.52]\n",
              "</pre>"
            ]
          },
          "metadata": {},
          "execution_count": 124
        }
      ]
    },
    {
      "cell_type": "markdown",
      "source": [
        "И для дерева с глубиной = 5:"
      ],
      "metadata": {
        "id": "wS-RZyanedjh"
      }
    },
    {
      "cell_type": "code",
      "source": [
        "from IPython.core.display import HTML\n",
        "from sklearn.tree import export_text\n",
        "tree_rules = export_text(model4, feature_names=list(data.columns))\n",
        "HTML('<pre>' + tree_rules + '</pre>')"
      ],
      "metadata": {
        "colab": {
          "base_uri": "https://localhost:8080/",
          "height": 1000
        },
        "id": "oOiLOiFgeY_R",
        "outputId": "1a8a0e5e-cd4a-4983-e3e0-63308652856c"
      },
      "execution_count": 125,
      "outputs": [
        {
          "output_type": "execute_result",
          "data": {
            "text/plain": [
              "<IPython.core.display.HTML object>"
            ],
            "text/html": [
              "<pre>|--- writing score <= 65.50\n",
              "|   |--- writing score <= 49.50\n",
              "|   |   |--- writing score <= 35.00\n",
              "|   |   |   |--- reading score <= 27.00\n",
              "|   |   |   |   |--- writing score <= 20.50\n",
              "|   |   |   |   |   |--- value: [17.00]\n",
              "|   |   |   |   |--- writing score >  20.50\n",
              "|   |   |   |   |   |--- value: [22.50]\n",
              "|   |   |   |--- reading score >  27.00\n",
              "|   |   |   |   |--- writing score <= 31.00\n",
              "|   |   |   |   |   |--- value: [27.75]\n",
              "|   |   |   |   |--- writing score >  31.00\n",
              "|   |   |   |   |   |--- value: [33.00]\n",
              "|   |   |--- writing score >  35.00\n",
              "|   |   |   |--- writing score <= 43.50\n",
              "|   |   |   |   |--- writing score <= 39.50\n",
              "|   |   |   |   |   |--- value: [37.54]\n",
              "|   |   |   |   |--- writing score >  39.50\n",
              "|   |   |   |   |   |--- value: [41.93]\n",
              "|   |   |   |--- writing score >  43.50\n",
              "|   |   |   |   |--- writing score <= 46.50\n",
              "|   |   |   |   |   |--- value: [45.41]\n",
              "|   |   |   |   |--- writing score >  46.50\n",
              "|   |   |   |   |   |--- value: [47.94]\n",
              "|   |--- writing score >  49.50\n",
              "|   |   |--- writing score <= 58.50\n",
              "|   |   |   |--- writing score <= 54.50\n",
              "|   |   |   |   |--- writing score <= 52.50\n",
              "|   |   |   |   |   |--- value: [51.13]\n",
              "|   |   |   |   |--- writing score >  52.50\n",
              "|   |   |   |   |   |--- value: [53.61]\n",
              "|   |   |   |--- writing score >  54.50\n",
              "|   |   |   |   |--- writing score <= 56.50\n",
              "|   |   |   |   |   |--- value: [55.48]\n",
              "|   |   |   |   |--- writing score >  56.50\n",
              "|   |   |   |   |   |--- value: [57.46]\n",
              "|   |   |--- writing score >  58.50\n",
              "|   |   |   |--- writing score <= 62.50\n",
              "|   |   |   |   |--- writing score <= 60.50\n",
              "|   |   |   |   |   |--- value: [59.65]\n",
              "|   |   |   |   |--- writing score >  60.50\n",
              "|   |   |   |   |   |--- value: [61.55]\n",
              "|   |   |   |--- writing score >  62.50\n",
              "|   |   |   |   |--- writing score <= 64.50\n",
              "|   |   |   |   |   |--- value: [63.55]\n",
              "|   |   |   |   |--- writing score >  64.50\n",
              "|   |   |   |   |   |--- value: [65.00]\n",
              "|--- writing score >  65.50\n",
              "|   |--- writing score <= 80.50\n",
              "|   |   |--- writing score <= 72.50\n",
              "|   |   |   |--- writing score <= 68.50\n",
              "|   |   |   |   |--- writing score <= 67.50\n",
              "|   |   |   |   |   |--- value: [66.45]\n",
              "|   |   |   |   |--- writing score >  67.50\n",
              "|   |   |   |   |   |--- value: [68.00]\n",
              "|   |   |   |--- writing score >  68.50\n",
              "|   |   |   |   |--- writing score <= 70.50\n",
              "|   |   |   |   |   |--- value: [69.58]\n",
              "|   |   |   |   |--- writing score >  70.50\n",
              "|   |   |   |   |   |--- value: [71.59]\n",
              "|   |   |--- writing score >  72.50\n",
              "|   |   |   |--- writing score <= 76.50\n",
              "|   |   |   |   |--- writing score <= 74.50\n",
              "|   |   |   |   |   |--- value: [73.57]\n",
              "|   |   |   |   |--- writing score >  74.50\n",
              "|   |   |   |   |   |--- value: [75.50]\n",
              "|   |   |   |--- writing score >  76.50\n",
              "|   |   |   |   |--- writing score <= 78.50\n",
              "|   |   |   |   |   |--- value: [77.47]\n",
              "|   |   |   |   |--- writing score >  78.50\n",
              "|   |   |   |   |   |--- value: [79.64]\n",
              "|   |--- writing score >  80.50\n",
              "|   |   |--- writing score <= 89.50\n",
              "|   |   |   |--- writing score <= 84.50\n",
              "|   |   |   |   |--- writing score <= 82.50\n",
              "|   |   |   |   |   |--- value: [81.59]\n",
              "|   |   |   |   |--- writing score >  82.50\n",
              "|   |   |   |   |   |--- value: [83.53]\n",
              "|   |   |   |--- writing score >  84.50\n",
              "|   |   |   |   |--- writing score <= 86.50\n",
              "|   |   |   |   |   |--- value: [85.44]\n",
              "|   |   |   |   |--- writing score >  86.50\n",
              "|   |   |   |   |   |--- value: [87.95]\n",
              "|   |   |--- writing score >  89.50\n",
              "|   |   |   |--- writing score <= 95.50\n",
              "|   |   |   |   |--- writing score <= 92.50\n",
              "|   |   |   |   |   |--- value: [90.95]\n",
              "|   |   |   |   |--- writing score >  92.50\n",
              "|   |   |   |   |   |--- value: [94.11]\n",
              "|   |   |   |--- writing score >  95.50\n",
              "|   |   |   |   |--- writing score <= 98.50\n",
              "|   |   |   |   |   |--- value: [96.86]\n",
              "|   |   |   |   |--- writing score >  98.50\n",
              "|   |   |   |   |   |--- value: [99.85]\n",
              "</pre>"
            ]
          },
          "metadata": {},
          "execution_count": 125
        }
      ]
    }
  ]
}