{
  "nbformat": 4,
  "nbformat_minor": 0,
  "metadata": {
    "colab": {
      "name": "laba3",
      "provenance": [],
      "authorship_tag": "ABX9TyOi146ZgKOViK8Oeni1zGRv",
      "include_colab_link": true
    },
    "kernelspec": {
      "name": "python3",
      "display_name": "Python 3"
    },
    "language_info": {
      "name": "python"
    }
  },
  "cells": [
    {
      "cell_type": "markdown",
      "metadata": {
        "id": "view-in-github",
        "colab_type": "text"
      },
      "source": [
        "<a href=\"https://colab.research.google.com/github/blackfox2001/bmstu/blob/master/tmo2022/laba3.ipynb\" target=\"_parent\"><img src=\"https://colab.research.google.com/assets/colab-badge.svg\" alt=\"Open In Colab\"/></a>"
      ]
    },
    {
      "cell_type": "markdown",
      "source": [
        "# **Лабораторная работа 3**"
      ],
      "metadata": {
        "id": "PCcWLqXYKqtm"
      }
    },
    {
      "cell_type": "markdown",
      "source": [
        "## Задание"
      ],
      "metadata": {
        "id": "iAFO4YHJKwFA"
      }
    },
    {
      "cell_type": "markdown",
      "source": [
        "Выбрать набор данных (датасет) для решения задачи классификации или регрессии.\n",
        "\n",
        "С использованием метода train_test_split разделить выборку на обучающую и тестовую.\n",
        "\n",
        "Обучить модель ближайших соседей для произвольно заданного гиперпараметра K. Оценить качество модели с помощью подходящих для задачи метрик.\n",
        "\n",
        "Произвести подбор гиперпараметра K с использованием GridSearchCV и/или RandomizedSearchCV и кросс-валидации, оценить качество оптимальной модели. Желательно использование нескольких стратегий кросс-валидации.\n",
        "\n",
        "Сравнить метрики качества исходной и оптимальной моделей."
      ],
      "metadata": {
        "id": "JsOHTe4qK0gA"
      }
    },
    {
      "cell_type": "markdown",
      "source": [
        "## Выбор и загрузка данных"
      ],
      "metadata": {
        "id": "YpYZ6HQtK_Ch"
      }
    },
    {
      "cell_type": "markdown",
      "source": [
        "В качестве датасета будем использовать набор данных, содержащий данные о различных стёклах. Данный набор доступен по адресу: https://www.kaggle.com/datasets/uciml/glass\n",
        "\n",
        "Набор данных имеет следующие атрибуты:\n",
        "\n",
        "RI - Refractive Index - коэффициент преломления\n",
        "\n",
        "Na - Sodium - Содержание натрия (массовый процент в соответствующем оксиде)\n",
        "\n",
        "Mg - Magnesium - Содержание магния\n",
        "\n",
        "Al - Aluminum - Содержание алюминия\n",
        "\n",
        "Si - Silicon - Содержание кремния\n",
        "K - Potassium - Содержание калия\n",
        "\n",
        "Ca - Calcium - Содержание кальция\n",
        "\n",
        "Ba - Barium - Содеражние бария\n",
        "\n",
        "Fe - Iron - Содержание железа\n",
        "\n",
        "Type - Type of glass - тип стекла (1, 2 - стекла для зданий, 3, 4 - стекла для автомобилей, 5 - стеклотара, 6 - бытовые стекла, 7 - стекла для ламп; 4 отсутствует в данном наборе данных)"
      ],
      "metadata": {
        "id": "PMqt3mqwLEr2"
      }
    },
    {
      "cell_type": "markdown",
      "source": [
        "Импортируем библиотеки"
      ],
      "metadata": {
        "id": "783fkYAyLc1y"
      }
    },
    {
      "cell_type": "code",
      "execution_count": 3,
      "metadata": {
        "id": "2PLoimMeKnni"
      },
      "outputs": [],
      "source": [
        "import numpy as np\n",
        "import pandas as pd\n",
        "import seaborn as sns\n",
        "import matplotlib.pyplot as plt\n",
        "from google.colab import files\n",
        "%matplotlib inline\n",
        "sns.set(style=\"ticks\")"
      ]
    },
    {
      "cell_type": "markdown",
      "source": [
        "Загружаем данные"
      ],
      "metadata": {
        "id": "EscZf_lgLjrm"
      }
    },
    {
      "cell_type": "code",
      "source": [
        "files.upload()"
      ],
      "metadata": {
        "colab": {
          "base_uri": "https://localhost:8080/",
          "height": 111,
          "resources": {
            "http://localhost:8080/nbextensions/google.colab/files.js": {
              "data": "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",
              "ok": true,
              "headers": [
                [
                  "content-type",
                  "application/javascript"
                ]
              ],
              "status": 200,
              "status_text": "OK"
            }
          }
        },
        "id": "iV_0IKOQLm8F",
        "outputId": "9fc477d4-a4a8-416d-87f2-bcec10643944"
      },
      "execution_count": 4,
      "outputs": [
        {
          "output_type": "display_data",
          "data": {
            "text/plain": [
              "<IPython.core.display.HTML object>"
            ],
            "text/html": [
              "\n",
              "     <input type=\"file\" id=\"files-5365e00f-240e-4b11-89d7-835bd2bc8226\" name=\"files[]\" multiple disabled\n",
              "        style=\"border:none\" />\n",
              "     <output id=\"result-5365e00f-240e-4b11-89d7-835bd2bc8226\">\n",
              "      Upload widget is only available when the cell has been executed in the\n",
              "      current browser session. Please rerun this cell to enable.\n",
              "      </output>\n",
              "      <script src=\"/nbextensions/google.colab/files.js\"></script> "
            ]
          },
          "metadata": {}
        },
        {
          "output_type": "stream",
          "name": "stdout",
          "text": [
            "Saving glass.csv to glass.csv\n"
          ]
        },
        {
          "output_type": "execute_result",
          "data": {
            "text/plain": [
              "{'glass.csv': b'RI,Na,Mg,Al,Si,K,Ca,Ba,Fe,Type\\r\\n1.52101,13.64,4.49,1.1,71.78,0.06,8.75,0,0,1\\r\\n1.51761,13.89,3.6,1.36,72.73,0.48,7.83,0,0,1\\r\\n1.51618,13.53,3.55,1.54,72.99,0.39,7.78,0,0,1\\r\\n1.51766,13.21,3.69,1.29,72.61,0.57,8.22,0,0,1\\r\\n1.51742,13.27,3.62,1.24,73.08,0.55,8.07,0,0,1\\r\\n1.51596,12.79,3.61,1.62,72.97,0.64,8.07,0,0.26,1\\r\\n1.51743,13.3,3.6,1.14,73.09,0.58,8.17,0,0,1\\r\\n1.51756,13.15,3.61,1.05,73.24,0.57,8.24,0,0,1\\r\\n1.51918,14.04,3.58,1.37,72.08,0.56,8.3,0,0,1\\r\\n1.51755,13,3.6,1.36,72.99,0.57,8.4,0,0.11,1\\r\\n1.51571,12.72,3.46,1.56,73.2,0.67,8.09,0,0.24,1\\r\\n1.51763,12.8,3.66,1.27,73.01,0.6,8.56,0,0,1\\r\\n1.51589,12.88,3.43,1.4,73.28,0.69,8.05,0,0.24,1\\r\\n1.51748,12.86,3.56,1.27,73.21,0.54,8.38,0,0.17,1\\r\\n1.51763,12.61,3.59,1.31,73.29,0.58,8.5,0,0,1\\r\\n1.51761,12.81,3.54,1.23,73.24,0.58,8.39,0,0,1\\r\\n1.51784,12.68,3.67,1.16,73.11,0.61,8.7,0,0,1\\r\\n1.52196,14.36,3.85,0.89,71.36,0.15,9.15,0,0,1\\r\\n1.51911,13.9,3.73,1.18,72.12,0.06,8.89,0,0,1\\r\\n1.51735,13.02,3.54,1.69,72.73,0.54,8.44,0,0.07,1\\r\\n1.5175,12.82,3.55,1.49,72.75,0.54,8.52,0,0.19,1\\r\\n1.51966,14.77,3.75,0.29,72.02,0.03,9,0,0,1\\r\\n1.51736,12.78,3.62,1.29,72.79,0.59,8.7,0,0,1\\r\\n1.51751,12.81,3.57,1.35,73.02,0.62,8.59,0,0,1\\r\\n1.5172,13.38,3.5,1.15,72.85,0.5,8.43,0,0,1\\r\\n1.51764,12.98,3.54,1.21,73,0.65,8.53,0,0,1\\r\\n1.51793,13.21,3.48,1.41,72.64,0.59,8.43,0,0,1\\r\\n1.51721,12.87,3.48,1.33,73.04,0.56,8.43,0,0,1\\r\\n1.51768,12.56,3.52,1.43,73.15,0.57,8.54,0,0,1\\r\\n1.51784,13.08,3.49,1.28,72.86,0.6,8.49,0,0,1\\r\\n1.51768,12.65,3.56,1.3,73.08,0.61,8.69,0,0.14,1\\r\\n1.51747,12.84,3.5,1.14,73.27,0.56,8.55,0,0,1\\r\\n1.51775,12.85,3.48,1.23,72.97,0.61,8.56,0.09,0.22,1\\r\\n1.51753,12.57,3.47,1.38,73.39,0.6,8.55,0,0.06,1\\r\\n1.51783,12.69,3.54,1.34,72.95,0.57,8.75,0,0,1\\r\\n1.51567,13.29,3.45,1.21,72.74,0.56,8.57,0,0,1\\r\\n1.51909,13.89,3.53,1.32,71.81,0.51,8.78,0.11,0,1\\r\\n1.51797,12.74,3.48,1.35,72.96,0.64,8.68,0,0,1\\r\\n1.52213,14.21,3.82,0.47,71.77,0.11,9.57,0,0,1\\r\\n1.52213,14.21,3.82,0.47,71.77,0.11,9.57,0,0,1\\r\\n1.51793,12.79,3.5,1.12,73.03,0.64,8.77,0,0,1\\r\\n1.51755,12.71,3.42,1.2,73.2,0.59,8.64,0,0,1\\r\\n1.51779,13.21,3.39,1.33,72.76,0.59,8.59,0,0,1\\r\\n1.5221,13.73,3.84,0.72,71.76,0.17,9.74,0,0,1\\r\\n1.51786,12.73,3.43,1.19,72.95,0.62,8.76,0,0.3,1\\r\\n1.519,13.49,3.48,1.35,71.95,0.55,9,0,0,1\\r\\n1.51869,13.19,3.37,1.18,72.72,0.57,8.83,0,0.16,1\\r\\n1.52667,13.99,3.7,0.71,71.57,0.02,9.82,0,0.1,1\\r\\n1.52223,13.21,3.77,0.79,71.99,0.13,10.02,0,0,1\\r\\n1.51898,13.58,3.35,1.23,72.08,0.59,8.91,0,0,1\\r\\n1.5232,13.72,3.72,0.51,71.75,0.09,10.06,0,0.16,1\\r\\n1.51926,13.2,3.33,1.28,72.36,0.6,9.14,0,0.11,1\\r\\n1.51808,13.43,2.87,1.19,72.84,0.55,9.03,0,0,1\\r\\n1.51837,13.14,2.84,1.28,72.85,0.55,9.07,0,0,1\\r\\n1.51778,13.21,2.81,1.29,72.98,0.51,9.02,0,0.09,1\\r\\n1.51769,12.45,2.71,1.29,73.7,0.56,9.06,0,0.24,1\\r\\n1.51215,12.99,3.47,1.12,72.98,0.62,8.35,0,0.31,1\\r\\n1.51824,12.87,3.48,1.29,72.95,0.6,8.43,0,0,1\\r\\n1.51754,13.48,3.74,1.17,72.99,0.59,8.03,0,0,1\\r\\n1.51754,13.39,3.66,1.19,72.79,0.57,8.27,0,0.11,1\\r\\n1.51905,13.6,3.62,1.11,72.64,0.14,8.76,0,0,1\\r\\n1.51977,13.81,3.58,1.32,71.72,0.12,8.67,0.69,0,1\\r\\n1.52172,13.51,3.86,0.88,71.79,0.23,9.54,0,0.11,1\\r\\n1.52227,14.17,3.81,0.78,71.35,0,9.69,0,0,1\\r\\n1.52172,13.48,3.74,0.9,72.01,0.18,9.61,0,0.07,1\\r\\n1.52099,13.69,3.59,1.12,71.96,0.09,9.4,0,0,1\\r\\n1.52152,13.05,3.65,0.87,72.22,0.19,9.85,0,0.17,1\\r\\n1.52152,13.05,3.65,0.87,72.32,0.19,9.85,0,0.17,1\\r\\n1.52152,13.12,3.58,0.9,72.2,0.23,9.82,0,0.16,1\\r\\n1.523,13.31,3.58,0.82,71.99,0.12,10.17,0,0.03,1\\r\\n1.51574,14.86,3.67,1.74,71.87,0.16,7.36,0,0.12,2\\r\\n1.51848,13.64,3.87,1.27,71.96,0.54,8.32,0,0.32,2\\r\\n1.51593,13.09,3.59,1.52,73.1,0.67,7.83,0,0,2\\r\\n1.51631,13.34,3.57,1.57,72.87,0.61,7.89,0,0,2\\r\\n1.51596,13.02,3.56,1.54,73.11,0.72,7.9,0,0,2\\r\\n1.5159,13.02,3.58,1.51,73.12,0.69,7.96,0,0,2\\r\\n1.51645,13.44,3.61,1.54,72.39,0.66,8.03,0,0,2\\r\\n1.51627,13,3.58,1.54,72.83,0.61,8.04,0,0,2\\r\\n1.51613,13.92,3.52,1.25,72.88,0.37,7.94,0,0.14,2\\r\\n1.5159,12.82,3.52,1.9,72.86,0.69,7.97,0,0,2\\r\\n1.51592,12.86,3.52,2.12,72.66,0.69,7.97,0,0,2\\r\\n1.51593,13.25,3.45,1.43,73.17,0.61,7.86,0,0,2\\r\\n1.51646,13.41,3.55,1.25,72.81,0.68,8.1,0,0,2\\r\\n1.51594,13.09,3.52,1.55,72.87,0.68,8.05,0,0.09,2\\r\\n1.51409,14.25,3.09,2.08,72.28,1.1,7.08,0,0,2\\r\\n1.51625,13.36,3.58,1.49,72.72,0.45,8.21,0,0,2\\r\\n1.51569,13.24,3.49,1.47,73.25,0.38,8.03,0,0,2\\r\\n1.51645,13.4,3.49,1.52,72.65,0.67,8.08,0,0.1,2\\r\\n1.51618,13.01,3.5,1.48,72.89,0.6,8.12,0,0,2\\r\\n1.5164,12.55,3.48,1.87,73.23,0.63,8.08,0,0.09,2\\r\\n1.51841,12.93,3.74,1.11,72.28,0.64,8.96,0,0.22,2\\r\\n1.51605,12.9,3.44,1.45,73.06,0.44,8.27,0,0,2\\r\\n1.51588,13.12,3.41,1.58,73.26,0.07,8.39,0,0.19,2\\r\\n1.5159,13.24,3.34,1.47,73.1,0.39,8.22,0,0,2\\r\\n1.51629,12.71,3.33,1.49,73.28,0.67,8.24,0,0,2\\r\\n1.5186,13.36,3.43,1.43,72.26,0.51,8.6,0,0,2\\r\\n1.51841,13.02,3.62,1.06,72.34,0.64,9.13,0,0.15,2\\r\\n1.51743,12.2,3.25,1.16,73.55,0.62,8.9,0,0.24,2\\r\\n1.51689,12.67,2.88,1.71,73.21,0.73,8.54,0,0,2\\r\\n1.51811,12.96,2.96,1.43,72.92,0.6,8.79,0.14,0,2\\r\\n1.51655,12.75,2.85,1.44,73.27,0.57,8.79,0.11,0.22,2\\r\\n1.5173,12.35,2.72,1.63,72.87,0.7,9.23,0,0,2\\r\\n1.5182,12.62,2.76,0.83,73.81,0.35,9.42,0,0.2,2\\r\\n1.52725,13.8,3.15,0.66,70.57,0.08,11.64,0,0,2\\r\\n1.5241,13.83,2.9,1.17,71.15,0.08,10.79,0,0,2\\r\\n1.52475,11.45,0,1.88,72.19,0.81,13.24,0,0.34,2\\r\\n1.53125,10.73,0,2.1,69.81,0.58,13.3,3.15,0.28,2\\r\\n1.53393,12.3,0,1,70.16,0.12,16.19,0,0.24,2\\r\\n1.52222,14.43,0,1,72.67,0.1,11.52,0,0.08,2\\r\\n1.51818,13.72,0,0.56,74.45,0,10.99,0,0,2\\r\\n1.52664,11.23,0,0.77,73.21,0,14.68,0,0,2\\r\\n1.52739,11.02,0,0.75,73.08,0,14.96,0,0,2\\r\\n1.52777,12.64,0,0.67,72.02,0.06,14.4,0,0,2\\r\\n1.51892,13.46,3.83,1.26,72.55,0.57,8.21,0,0.14,2\\r\\n1.51847,13.1,3.97,1.19,72.44,0.6,8.43,0,0,2\\r\\n1.51846,13.41,3.89,1.33,72.38,0.51,8.28,0,0,2\\r\\n1.51829,13.24,3.9,1.41,72.33,0.55,8.31,0,0.1,2\\r\\n1.51708,13.72,3.68,1.81,72.06,0.64,7.88,0,0,2\\r\\n1.51673,13.3,3.64,1.53,72.53,0.65,8.03,0,0.29,2\\r\\n1.51652,13.56,3.57,1.47,72.45,0.64,7.96,0,0,2\\r\\n1.51844,13.25,3.76,1.32,72.4,0.58,8.42,0,0,2\\r\\n1.51663,12.93,3.54,1.62,72.96,0.64,8.03,0,0.21,2\\r\\n1.51687,13.23,3.54,1.48,72.84,0.56,8.1,0,0,2\\r\\n1.51707,13.48,3.48,1.71,72.52,0.62,7.99,0,0,2\\r\\n1.52177,13.2,3.68,1.15,72.75,0.54,8.52,0,0,2\\r\\n1.51872,12.93,3.66,1.56,72.51,0.58,8.55,0,0.12,2\\r\\n1.51667,12.94,3.61,1.26,72.75,0.56,8.6,0,0,2\\r\\n1.52081,13.78,2.28,1.43,71.99,0.49,9.85,0,0.17,2\\r\\n1.52068,13.55,2.09,1.67,72.18,0.53,9.57,0.27,0.17,2\\r\\n1.5202,13.98,1.35,1.63,71.76,0.39,10.56,0,0.18,2\\r\\n1.52177,13.75,1.01,1.36,72.19,0.33,11.14,0,0,2\\r\\n1.52614,13.7,0,1.36,71.24,0.19,13.44,0,0.1,2\\r\\n1.51813,13.43,3.98,1.18,72.49,0.58,8.15,0,0,2\\r\\n1.518,13.71,3.93,1.54,71.81,0.54,8.21,0,0.15,2\\r\\n1.51811,13.33,3.85,1.25,72.78,0.52,8.12,0,0,2\\r\\n1.51789,13.19,3.9,1.3,72.33,0.55,8.44,0,0.28,2\\r\\n1.51806,13,3.8,1.08,73.07,0.56,8.38,0,0.12,2\\r\\n1.51711,12.89,3.62,1.57,72.96,0.61,8.11,0,0,2\\r\\n1.51674,12.79,3.52,1.54,73.36,0.66,7.9,0,0,2\\r\\n1.51674,12.87,3.56,1.64,73.14,0.65,7.99,0,0,2\\r\\n1.5169,13.33,3.54,1.61,72.54,0.68,8.11,0,0,2\\r\\n1.51851,13.2,3.63,1.07,72.83,0.57,8.41,0.09,0.17,2\\r\\n1.51662,12.85,3.51,1.44,73.01,0.68,8.23,0.06,0.25,2\\r\\n1.51709,13,3.47,1.79,72.72,0.66,8.18,0,0,2\\r\\n1.5166,12.99,3.18,1.23,72.97,0.58,8.81,0,0.24,2\\r\\n1.51839,12.85,3.67,1.24,72.57,0.62,8.68,0,0.35,2\\r\\n1.51769,13.65,3.66,1.11,72.77,0.11,8.6,0,0,3\\r\\n1.5161,13.33,3.53,1.34,72.67,0.56,8.33,0,0,3\\r\\n1.5167,13.24,3.57,1.38,72.7,0.56,8.44,0,0.1,3\\r\\n1.51643,12.16,3.52,1.35,72.89,0.57,8.53,0,0,3\\r\\n1.51665,13.14,3.45,1.76,72.48,0.6,8.38,0,0.17,3\\r\\n1.52127,14.32,3.9,0.83,71.5,0,9.49,0,0,3\\r\\n1.51779,13.64,3.65,0.65,73,0.06,8.93,0,0,3\\r\\n1.5161,13.42,3.4,1.22,72.69,0.59,8.32,0,0,3\\r\\n1.51694,12.86,3.58,1.31,72.61,0.61,8.79,0,0,3\\r\\n1.51646,13.04,3.4,1.26,73.01,0.52,8.58,0,0,3\\r\\n1.51655,13.41,3.39,1.28,72.64,0.52,8.65,0,0,3\\r\\n1.52121,14.03,3.76,0.58,71.79,0.11,9.65,0,0,3\\r\\n1.51776,13.53,3.41,1.52,72.04,0.58,8.79,0,0,3\\r\\n1.51796,13.5,3.36,1.63,71.94,0.57,8.81,0,0.09,3\\r\\n1.51832,13.33,3.34,1.54,72.14,0.56,8.99,0,0,3\\r\\n1.51934,13.64,3.54,0.75,72.65,0.16,8.89,0.15,0.24,3\\r\\n1.52211,14.19,3.78,0.91,71.36,0.23,9.14,0,0.37,3\\r\\n1.51514,14.01,2.68,3.5,69.89,1.68,5.87,2.2,0,5\\r\\n1.51915,12.73,1.85,1.86,72.69,0.6,10.09,0,0,5\\r\\n1.52171,11.56,1.88,1.56,72.86,0.47,11.41,0,0,5\\r\\n1.52151,11.03,1.71,1.56,73.44,0.58,11.62,0,0,5\\r\\n1.51969,12.64,0,1.65,73.75,0.38,11.53,0,0,5\\r\\n1.51666,12.86,0,1.83,73.88,0.97,10.17,0,0,5\\r\\n1.51994,13.27,0,1.76,73.03,0.47,11.32,0,0,5\\r\\n1.52369,13.44,0,1.58,72.22,0.32,12.24,0,0,5\\r\\n1.51316,13.02,0,3.04,70.48,6.21,6.96,0,0,5\\r\\n1.51321,13,0,3.02,70.7,6.21,6.93,0,0,5\\r\\n1.52043,13.38,0,1.4,72.25,0.33,12.5,0,0,5\\r\\n1.52058,12.85,1.61,2.17,72.18,0.76,9.7,0.24,0.51,5\\r\\n1.52119,12.97,0.33,1.51,73.39,0.13,11.27,0,0.28,5\\r\\n1.51905,14,2.39,1.56,72.37,0,9.57,0,0,6\\r\\n1.51937,13.79,2.41,1.19,72.76,0,9.77,0,0,6\\r\\n1.51829,14.46,2.24,1.62,72.38,0,9.26,0,0,6\\r\\n1.51852,14.09,2.19,1.66,72.67,0,9.32,0,0,6\\r\\n1.51299,14.4,1.74,1.54,74.55,0,7.59,0,0,6\\r\\n1.51888,14.99,0.78,1.74,72.5,0,9.95,0,0,6\\r\\n1.51916,14.15,0,2.09,72.74,0,10.88,0,0,6\\r\\n1.51969,14.56,0,0.56,73.48,0,11.22,0,0,6\\r\\n1.51115,17.38,0,0.34,75.41,0,6.65,0,0,6\\r\\n1.51131,13.69,3.2,1.81,72.81,1.76,5.43,1.19,0,7\\r\\n1.51838,14.32,3.26,2.22,71.25,1.46,5.79,1.63,0,7\\r\\n1.52315,13.44,3.34,1.23,72.38,0.6,8.83,0,0,7\\r\\n1.52247,14.86,2.2,2.06,70.26,0.76,9.76,0,0,7\\r\\n1.52365,15.79,1.83,1.31,70.43,0.31,8.61,1.68,0,7\\r\\n1.51613,13.88,1.78,1.79,73.1,0,8.67,0.76,0,7\\r\\n1.51602,14.85,0,2.38,73.28,0,8.76,0.64,0.09,7\\r\\n1.51623,14.2,0,2.79,73.46,0.04,9.04,0.4,0.09,7\\r\\n1.51719,14.75,0,2,73.02,0,8.53,1.59,0.08,7\\r\\n1.51683,14.56,0,1.98,73.29,0,8.52,1.57,0.07,7\\r\\n1.51545,14.14,0,2.68,73.39,0.08,9.07,0.61,0.05,7\\r\\n1.51556,13.87,0,2.54,73.23,0.14,9.41,0.81,0.01,7\\r\\n1.51727,14.7,0,2.34,73.28,0,8.95,0.66,0,7\\r\\n1.51531,14.38,0,2.66,73.1,0.04,9.08,0.64,0,7\\r\\n1.51609,15.01,0,2.51,73.05,0.05,8.83,0.53,0,7\\r\\n1.51508,15.15,0,2.25,73.5,0,8.34,0.63,0,7\\r\\n1.51653,11.95,0,1.19,75.18,2.7,8.93,0,0,7\\r\\n1.51514,14.85,0,2.42,73.72,0,8.39,0.56,0,7\\r\\n1.51658,14.8,0,1.99,73.11,0,8.28,1.71,0,7\\r\\n1.51617,14.95,0,2.27,73.3,0,8.71,0.67,0,7\\r\\n1.51732,14.95,0,1.8,72.99,0,8.61,1.55,0,7\\r\\n1.51645,14.94,0,1.87,73.11,0,8.67,1.38,0,7\\r\\n1.51831,14.39,0,1.82,72.86,1.41,6.47,2.88,0,7\\r\\n1.5164,14.37,0,2.74,72.85,0,9.45,0.54,0,7\\r\\n1.51623,14.14,0,2.88,72.61,0.08,9.18,1.06,0,7\\r\\n1.51685,14.92,0,1.99,73.06,0,8.4,1.59,0,7\\r\\n1.52065,14.36,0,2.02,73.42,0,8.44,1.64,0,7\\r\\n1.51651,14.38,0,1.94,73.61,0,8.48,1.57,0,7\\r\\n1.51711,14.23,0,2.08,73.36,0,8.62,1.67,0,7\\r\\n'}"
            ]
          },
          "metadata": {},
          "execution_count": 4
        }
      ]
    },
    {
      "cell_type": "code",
      "source": [
        "data = pd.read_csv('glass.csv')"
      ],
      "metadata": {
        "id": "g_-9rCQaL22X"
      },
      "execution_count": 5,
      "outputs": []
    },
    {
      "cell_type": "markdown",
      "source": [
        "Первые 5 строк датасета:"
      ],
      "metadata": {
        "id": "GkzDRf7SMJm4"
      }
    },
    {
      "cell_type": "code",
      "source": [
        "data.head()"
      ],
      "metadata": {
        "colab": {
          "base_uri": "https://localhost:8080/",
          "height": 206
        },
        "id": "HQj8eGOiMOmJ",
        "outputId": "d8c2082e-4b1f-45b8-e647-0dc8e32e0bd3"
      },
      "execution_count": 6,
      "outputs": [
        {
          "output_type": "execute_result",
          "data": {
            "text/plain": [
              "        RI     Na    Mg    Al     Si     K    Ca   Ba   Fe  Type\n",
              "0  1.52101  13.64  4.49  1.10  71.78  0.06  8.75  0.0  0.0     1\n",
              "1  1.51761  13.89  3.60  1.36  72.73  0.48  7.83  0.0  0.0     1\n",
              "2  1.51618  13.53  3.55  1.54  72.99  0.39  7.78  0.0  0.0     1\n",
              "3  1.51766  13.21  3.69  1.29  72.61  0.57  8.22  0.0  0.0     1\n",
              "4  1.51742  13.27  3.62  1.24  73.08  0.55  8.07  0.0  0.0     1"
            ],
            "text/html": [
              "\n",
              "  <div id=\"df-2fec2ed3-3727-4646-87c0-a439ad42417d\">\n",
              "    <div class=\"colab-df-container\">\n",
              "      <div>\n",
              "<style scoped>\n",
              "    .dataframe tbody tr th:only-of-type {\n",
              "        vertical-align: middle;\n",
              "    }\n",
              "\n",
              "    .dataframe tbody tr th {\n",
              "        vertical-align: top;\n",
              "    }\n",
              "\n",
              "    .dataframe thead th {\n",
              "        text-align: right;\n",
              "    }\n",
              "</style>\n",
              "<table border=\"1\" class=\"dataframe\">\n",
              "  <thead>\n",
              "    <tr style=\"text-align: right;\">\n",
              "      <th></th>\n",
              "      <th>RI</th>\n",
              "      <th>Na</th>\n",
              "      <th>Mg</th>\n",
              "      <th>Al</th>\n",
              "      <th>Si</th>\n",
              "      <th>K</th>\n",
              "      <th>Ca</th>\n",
              "      <th>Ba</th>\n",
              "      <th>Fe</th>\n",
              "      <th>Type</th>\n",
              "    </tr>\n",
              "  </thead>\n",
              "  <tbody>\n",
              "    <tr>\n",
              "      <th>0</th>\n",
              "      <td>1.52101</td>\n",
              "      <td>13.64</td>\n",
              "      <td>4.49</td>\n",
              "      <td>1.10</td>\n",
              "      <td>71.78</td>\n",
              "      <td>0.06</td>\n",
              "      <td>8.75</td>\n",
              "      <td>0.0</td>\n",
              "      <td>0.0</td>\n",
              "      <td>1</td>\n",
              "    </tr>\n",
              "    <tr>\n",
              "      <th>1</th>\n",
              "      <td>1.51761</td>\n",
              "      <td>13.89</td>\n",
              "      <td>3.60</td>\n",
              "      <td>1.36</td>\n",
              "      <td>72.73</td>\n",
              "      <td>0.48</td>\n",
              "      <td>7.83</td>\n",
              "      <td>0.0</td>\n",
              "      <td>0.0</td>\n",
              "      <td>1</td>\n",
              "    </tr>\n",
              "    <tr>\n",
              "      <th>2</th>\n",
              "      <td>1.51618</td>\n",
              "      <td>13.53</td>\n",
              "      <td>3.55</td>\n",
              "      <td>1.54</td>\n",
              "      <td>72.99</td>\n",
              "      <td>0.39</td>\n",
              "      <td>7.78</td>\n",
              "      <td>0.0</td>\n",
              "      <td>0.0</td>\n",
              "      <td>1</td>\n",
              "    </tr>\n",
              "    <tr>\n",
              "      <th>3</th>\n",
              "      <td>1.51766</td>\n",
              "      <td>13.21</td>\n",
              "      <td>3.69</td>\n",
              "      <td>1.29</td>\n",
              "      <td>72.61</td>\n",
              "      <td>0.57</td>\n",
              "      <td>8.22</td>\n",
              "      <td>0.0</td>\n",
              "      <td>0.0</td>\n",
              "      <td>1</td>\n",
              "    </tr>\n",
              "    <tr>\n",
              "      <th>4</th>\n",
              "      <td>1.51742</td>\n",
              "      <td>13.27</td>\n",
              "      <td>3.62</td>\n",
              "      <td>1.24</td>\n",
              "      <td>73.08</td>\n",
              "      <td>0.55</td>\n",
              "      <td>8.07</td>\n",
              "      <td>0.0</td>\n",
              "      <td>0.0</td>\n",
              "      <td>1</td>\n",
              "    </tr>\n",
              "  </tbody>\n",
              "</table>\n",
              "</div>\n",
              "      <button class=\"colab-df-convert\" onclick=\"convertToInteractive('df-2fec2ed3-3727-4646-87c0-a439ad42417d')\"\n",
              "              title=\"Convert this dataframe to an interactive table.\"\n",
              "              style=\"display:none;\">\n",
              "        \n",
              "  <svg xmlns=\"http://www.w3.org/2000/svg\" height=\"24px\"viewBox=\"0 0 24 24\"\n",
              "       width=\"24px\">\n",
              "    <path d=\"M0 0h24v24H0V0z\" fill=\"none\"/>\n",
              "    <path d=\"M18.56 5.44l.94 2.06.94-2.06 2.06-.94-2.06-.94-.94-2.06-.94 2.06-2.06.94zm-11 1L8.5 8.5l.94-2.06 2.06-.94-2.06-.94L8.5 2.5l-.94 2.06-2.06.94zm10 10l.94 2.06.94-2.06 2.06-.94-2.06-.94-.94-2.06-.94 2.06-2.06.94z\"/><path d=\"M17.41 7.96l-1.37-1.37c-.4-.4-.92-.59-1.43-.59-.52 0-1.04.2-1.43.59L10.3 9.45l-7.72 7.72c-.78.78-.78 2.05 0 2.83L4 21.41c.39.39.9.59 1.41.59.51 0 1.02-.2 1.41-.59l7.78-7.78 2.81-2.81c.8-.78.8-2.07 0-2.86zM5.41 20L4 18.59l7.72-7.72 1.47 1.35L5.41 20z\"/>\n",
              "  </svg>\n",
              "      </button>\n",
              "      \n",
              "  <style>\n",
              "    .colab-df-container {\n",
              "      display:flex;\n",
              "      flex-wrap:wrap;\n",
              "      gap: 12px;\n",
              "    }\n",
              "\n",
              "    .colab-df-convert {\n",
              "      background-color: #E8F0FE;\n",
              "      border: none;\n",
              "      border-radius: 50%;\n",
              "      cursor: pointer;\n",
              "      display: none;\n",
              "      fill: #1967D2;\n",
              "      height: 32px;\n",
              "      padding: 0 0 0 0;\n",
              "      width: 32px;\n",
              "    }\n",
              "\n",
              "    .colab-df-convert:hover {\n",
              "      background-color: #E2EBFA;\n",
              "      box-shadow: 0px 1px 2px rgba(60, 64, 67, 0.3), 0px 1px 3px 1px rgba(60, 64, 67, 0.15);\n",
              "      fill: #174EA6;\n",
              "    }\n",
              "\n",
              "    [theme=dark] .colab-df-convert {\n",
              "      background-color: #3B4455;\n",
              "      fill: #D2E3FC;\n",
              "    }\n",
              "\n",
              "    [theme=dark] .colab-df-convert:hover {\n",
              "      background-color: #434B5C;\n",
              "      box-shadow: 0px 1px 3px 1px rgba(0, 0, 0, 0.15);\n",
              "      filter: drop-shadow(0px 1px 2px rgba(0, 0, 0, 0.3));\n",
              "      fill: #FFFFFF;\n",
              "    }\n",
              "  </style>\n",
              "\n",
              "      <script>\n",
              "        const buttonEl =\n",
              "          document.querySelector('#df-2fec2ed3-3727-4646-87c0-a439ad42417d button.colab-df-convert');\n",
              "        buttonEl.style.display =\n",
              "          google.colab.kernel.accessAllowed ? 'block' : 'none';\n",
              "\n",
              "        async function convertToInteractive(key) {\n",
              "          const element = document.querySelector('#df-2fec2ed3-3727-4646-87c0-a439ad42417d');\n",
              "          const dataTable =\n",
              "            await google.colab.kernel.invokeFunction('convertToInteractive',\n",
              "                                                     [key], {});\n",
              "          if (!dataTable) return;\n",
              "\n",
              "          const docLinkHtml = 'Like what you see? Visit the ' +\n",
              "            '<a target=\"_blank\" href=https://colab.research.google.com/notebooks/data_table.ipynb>data table notebook</a>'\n",
              "            + ' to learn more about interactive tables.';\n",
              "          element.innerHTML = '';\n",
              "          dataTable['output_type'] = 'display_data';\n",
              "          await google.colab.output.renderOutput(dataTable, element);\n",
              "          const docLink = document.createElement('div');\n",
              "          docLink.innerHTML = docLinkHtml;\n",
              "          element.appendChild(docLink);\n",
              "        }\n",
              "      </script>\n",
              "    </div>\n",
              "  </div>\n",
              "  "
            ]
          },
          "metadata": {},
          "execution_count": 6
        }
      ]
    },
    {
      "cell_type": "markdown",
      "source": [
        "Размер датасета:"
      ],
      "metadata": {
        "id": "_PTfJ0AtMOB_"
      }
    },
    {
      "cell_type": "code",
      "source": [
        "data.shape"
      ],
      "metadata": {
        "colab": {
          "base_uri": "https://localhost:8080/"
        },
        "id": "VoGf50FHMYxo",
        "outputId": "a6f45a74-e4a3-4d65-ae06-ea07ea729c19"
      },
      "execution_count": 7,
      "outputs": [
        {
          "output_type": "execute_result",
          "data": {
            "text/plain": [
              "(214, 10)"
            ]
          },
          "metadata": {},
          "execution_count": 7
        }
      ]
    },
    {
      "cell_type": "markdown",
      "source": [
        "## Разделение данных"
      ],
      "metadata": {
        "id": "3zy62z4yMcYB"
      }
    },
    {
      "cell_type": "markdown",
      "source": [
        "Сначала разделим на данные целевого признака и на остальные данные:"
      ],
      "metadata": {
        "id": "Edqp6BbqMkRw"
      }
    },
    {
      "cell_type": "code",
      "source": [
        "X = data.drop(\"Type\", axis=1)\n",
        "y = data[\"Type\"]"
      ],
      "metadata": {
        "id": "DPsGT4uBM8sd"
      },
      "execution_count": 8,
      "outputs": []
    },
    {
      "cell_type": "code",
      "source": [
        "print(X.head(), \"\\n\")\n",
        "print(y.head())"
      ],
      "metadata": {
        "colab": {
          "base_uri": "https://localhost:8080/"
        },
        "id": "gDsGJ-IuNAq0",
        "outputId": "6182eb5c-de70-4368-d0c8-1c10dfa3413c"
      },
      "execution_count": 9,
      "outputs": [
        {
          "output_type": "stream",
          "name": "stdout",
          "text": [
            "        RI     Na    Mg    Al     Si     K    Ca   Ba   Fe\n",
            "0  1.52101  13.64  4.49  1.10  71.78  0.06  8.75  0.0  0.0\n",
            "1  1.51761  13.89  3.60  1.36  72.73  0.48  7.83  0.0  0.0\n",
            "2  1.51618  13.53  3.55  1.54  72.99  0.39  7.78  0.0  0.0\n",
            "3  1.51766  13.21  3.69  1.29  72.61  0.57  8.22  0.0  0.0\n",
            "4  1.51742  13.27  3.62  1.24  73.08  0.55  8.07  0.0  0.0 \n",
            "\n",
            "0    1\n",
            "1    1\n",
            "2    1\n",
            "3    1\n",
            "4    1\n",
            "Name: Type, dtype: int64\n"
          ]
        }
      ]
    },
    {
      "cell_type": "code",
      "source": [
        "print(X.shape)\n",
        "print(y.shape)"
      ],
      "metadata": {
        "colab": {
          "base_uri": "https://localhost:8080/"
        },
        "id": "hpHFES1cNEPC",
        "outputId": "ac0bffad-ca62-4e6f-9295-a194d5662af4"
      },
      "execution_count": 10,
      "outputs": [
        {
          "output_type": "stream",
          "name": "stdout",
          "text": [
            "(214, 9)\n",
            "(214,)\n"
          ]
        }
      ]
    },
    {
      "cell_type": "markdown",
      "source": [
        "Разделим выборку с помощью функции train_test_split:"
      ],
      "metadata": {
        "id": "DpHIa-CDNMSk"
      }
    },
    {
      "cell_type": "code",
      "source": [
        "from sklearn.model_selection import train_test_split"
      ],
      "metadata": {
        "id": "Y_J6vF4cNNRx"
      },
      "execution_count": 11,
      "outputs": []
    },
    {
      "cell_type": "code",
      "source": [
        "X_train, X_test, y_train, y_test = train_test_split(X, y, random_state=1)"
      ],
      "metadata": {
        "id": "3TeA88DONQRh"
      },
      "execution_count": 12,
      "outputs": []
    },
    {
      "cell_type": "markdown",
      "source": [
        "Размеры обучающей выборки и тестовой выборки:"
      ],
      "metadata": {
        "id": "k6uiAboBNSvp"
      }
    },
    {
      "cell_type": "code",
      "source": [
        "X_train.shape, y_train.shape"
      ],
      "metadata": {
        "colab": {
          "base_uri": "https://localhost:8080/"
        },
        "id": "KrxIOEU6NVf9",
        "outputId": "3c4f7aaa-d98a-4950-fa3c-fc2bc9d0087f"
      },
      "execution_count": 13,
      "outputs": [
        {
          "output_type": "execute_result",
          "data": {
            "text/plain": [
              "((160, 9), (160,))"
            ]
          },
          "metadata": {},
          "execution_count": 13
        }
      ]
    },
    {
      "cell_type": "code",
      "source": [
        "X_test.shape, y_test.shape"
      ],
      "metadata": {
        "colab": {
          "base_uri": "https://localhost:8080/"
        },
        "id": "sS8WozjwNi4z",
        "outputId": "6d5584ca-6d7a-4abd-b9e4-4fbedad4169a"
      },
      "execution_count": 14,
      "outputs": [
        {
          "output_type": "execute_result",
          "data": {
            "text/plain": [
              "((54, 9), (54,))"
            ]
          },
          "metadata": {},
          "execution_count": 14
        }
      ]
    },
    {
      "cell_type": "markdown",
      "source": [
        "В выборках остались все типы стекол, доступные в изначальном датасете (4 отсутствует в исходном):"
      ],
      "metadata": {
        "id": "-RDA-34pNhMp"
      }
    },
    {
      "cell_type": "code",
      "source": [
        "np.unique(y_train)"
      ],
      "metadata": {
        "colab": {
          "base_uri": "https://localhost:8080/"
        },
        "id": "gOHgaeC4N-HI",
        "outputId": "aa7fd0d0-0490-4961-9031-27805cdc8cf2"
      },
      "execution_count": 15,
      "outputs": [
        {
          "output_type": "execute_result",
          "data": {
            "text/plain": [
              "array([1, 2, 3, 5, 6, 7])"
            ]
          },
          "metadata": {},
          "execution_count": 15
        }
      ]
    },
    {
      "cell_type": "code",
      "source": [
        "np.unique(y_test)"
      ],
      "metadata": {
        "colab": {
          "base_uri": "https://localhost:8080/"
        },
        "id": "tGdOWIlaONnw",
        "outputId": "b69cabe9-3a58-400b-e044-430d232cd199"
      },
      "execution_count": 16,
      "outputs": [
        {
          "output_type": "execute_result",
          "data": {
            "text/plain": [
              "array([1, 2, 3, 5, 6, 7])"
            ]
          },
          "metadata": {},
          "execution_count": 16
        }
      ]
    },
    {
      "cell_type": "markdown",
      "source": [
        "Проверим распределение типов стекол:"
      ],
      "metadata": {
        "id": "9fAQp2jGOMrt"
      }
    },
    {
      "cell_type": "code",
      "source": [
        "from typing import Dict, Tuple"
      ],
      "metadata": {
        "id": "8OLoMtwosFJ5"
      },
      "execution_count": 18,
      "outputs": []
    },
    {
      "cell_type": "code",
      "source": [
        "def type_proportions(array: np.ndarray) -> Dict[int, Tuple[int, float]]:\n",
        "    labels, counts = np.unique(array, return_counts=True)\n",
        "    counts_perc = counts/array.size\n",
        "    res = dict()\n",
        "    for label, count2 in zip(labels, zip(counts, counts_perc)):\n",
        "        res[label] = count2\n",
        "    return res\n",
        "\n",
        "def print_type_proportions(array: np.ndarray):\n",
        "    proportions = type_proportions(array)\n",
        "    if len(proportions)>0:\n",
        "        print('Тип \\t Количество \\t Процент встречаемости')\n",
        "    for i in proportions:\n",
        "        val, val_perc = proportions[i]\n",
        "        val_perc_100 = round(val_perc * 100, 2)\n",
        "        print('{} \\t {} \\t \\t {}%'.format(i, val, val_perc_100))"
      ],
      "metadata": {
        "id": "1eRocu0arwl9"
      },
      "execution_count": 19,
      "outputs": []
    },
    {
      "cell_type": "code",
      "source": [
        "print_type_proportions(data.Type)"
      ],
      "metadata": {
        "colab": {
          "base_uri": "https://localhost:8080/"
        },
        "id": "XrfTdQ1IsMUg",
        "outputId": "c4a0fb2b-5cb8-44d8-e53c-40a497ef110c"
      },
      "execution_count": 20,
      "outputs": [
        {
          "output_type": "stream",
          "name": "stdout",
          "text": [
            "Тип \t Количество \t Процент встречаемости\n",
            "1 \t 70 \t \t 32.71%\n",
            "2 \t 76 \t \t 35.51%\n",
            "3 \t 17 \t \t 7.94%\n",
            "5 \t 13 \t \t 6.07%\n",
            "6 \t 9 \t \t 4.21%\n",
            "7 \t 29 \t \t 13.55%\n"
          ]
        }
      ]
    },
    {
      "cell_type": "code",
      "source": [
        "print_type_proportions(y_train)"
      ],
      "metadata": {
        "colab": {
          "base_uri": "https://localhost:8080/"
        },
        "id": "8j5SR_mPsQM7",
        "outputId": "eac349fc-2107-4913-b01e-d6b1a0225265"
      },
      "execution_count": 21,
      "outputs": [
        {
          "output_type": "stream",
          "name": "stdout",
          "text": [
            "Тип \t Количество \t Процент встречаемости\n",
            "1 \t 47 \t \t 29.38%\n",
            "2 \t 60 \t \t 37.5%\n",
            "3 \t 10 \t \t 6.25%\n",
            "5 \t 12 \t \t 7.5%\n",
            "6 \t 8 \t \t 5.0%\n",
            "7 \t 23 \t \t 14.37%\n"
          ]
        }
      ]
    },
    {
      "cell_type": "code",
      "source": [
        "print_type_proportions(y_test)"
      ],
      "metadata": {
        "colab": {
          "base_uri": "https://localhost:8080/"
        },
        "id": "UkKJLz-wsTSA",
        "outputId": "78f86906-2be6-474a-bcd3-4b7507560ed2"
      },
      "execution_count": 22,
      "outputs": [
        {
          "output_type": "stream",
          "name": "stdout",
          "text": [
            "Тип \t Количество \t Процент встречаемости\n",
            "1 \t 23 \t \t 42.59%\n",
            "2 \t 16 \t \t 29.63%\n",
            "3 \t 7 \t \t 12.96%\n",
            "5 \t 1 \t \t 1.85%\n",
            "6 \t 1 \t \t 1.85%\n",
            "7 \t 6 \t \t 11.11%\n"
          ]
        }
      ]
    },
    {
      "cell_type": "markdown",
      "source": [
        "Пропорции примерно сохранились."
      ],
      "metadata": {
        "id": "CFGR96vbsKC0"
      }
    },
    {
      "cell_type": "markdown",
      "source": [
        "## Построение модели ближайших соседей"
      ],
      "metadata": {
        "id": "1vg20AvLsYd5"
      }
    },
    {
      "cell_type": "markdown",
      "source": [
        "Пусть гиперпараметр будет равен 10, построим модель:"
      ],
      "metadata": {
        "id": "O3RihA2ksiQ7"
      }
    },
    {
      "cell_type": "code",
      "source": [
        "from sklearn.neighbors import KNeighborsClassifier"
      ],
      "metadata": {
        "id": "VWPVOV3KskCN"
      },
      "execution_count": 43,
      "outputs": []
    },
    {
      "cell_type": "code",
      "source": [
        "clf_i = KNeighborsClassifier(n_neighbors=10)\n",
        "clf_i.fit(X_train, y_train)\n",
        "target_i = clf_i.predict(X_test)\n",
        "len(target_i), target_i"
      ],
      "metadata": {
        "colab": {
          "base_uri": "https://localhost:8080/"
        },
        "id": "ajG264ATsnR_",
        "outputId": "895d682a-099f-4a56-c998-087550c71cea"
      },
      "execution_count": 27,
      "outputs": [
        {
          "output_type": "execute_result",
          "data": {
            "text/plain": [
              "(54, array([5, 7, 5, 2, 1, 1, 2, 1, 2, 1, 2, 1, 2, 1, 1, 5, 1, 1, 1, 1, 1, 7,\n",
              "        2, 1, 1, 1, 2, 2, 2, 1, 5, 7, 1, 1, 1, 2, 1, 1, 5, 1, 1, 7, 7, 1,\n",
              "        7, 1, 1, 1, 2, 7, 1, 2, 1, 2]))"
            ]
          },
          "metadata": {},
          "execution_count": 27
        }
      ]
    },
    {
      "cell_type": "markdown",
      "source": [
        "## Кросс-валидация и подбор гиперпараметра"
      ],
      "metadata": {
        "id": "9zbE1jG2stU7"
      }
    },
    {
      "cell_type": "markdown",
      "source": [
        "**Кросс-валидация**"
      ],
      "metadata": {
        "id": "ZXDLYePYs79U"
      }
    },
    {
      "cell_type": "code",
      "source": [
        "from sklearn.model_selection import cross_val_score, cross_validate"
      ],
      "metadata": {
        "id": "wVXmlWXis6Jx"
      },
      "execution_count": 25,
      "outputs": []
    },
    {
      "cell_type": "code",
      "source": [
        "scores = cross_val_score(KNeighborsClassifier(n_neighbors=2), \n",
        "                         data, data.Type, cv=3)\n",
        "scores"
      ],
      "metadata": {
        "colab": {
          "base_uri": "https://localhost:8080/"
        },
        "id": "lageyKZ2tFJw",
        "outputId": "92d9a726-be9b-4f07-e472-dc00630f2416"
      },
      "execution_count": 26,
      "outputs": [
        {
          "output_type": "execute_result",
          "data": {
            "text/plain": [
              "array([0.91666667, 0.95774648, 0.95774648])"
            ]
          },
          "metadata": {},
          "execution_count": 26
        }
      ]
    },
    {
      "cell_type": "code",
      "source": [
        "scoring = {'precision': 'precision_weighted', \n",
        "           'recall': 'recall_weighted',\n",
        "           'f1': 'f1_weighted'}\n",
        "scores = cross_validate(KNeighborsClassifier(n_neighbors=2), \n",
        "                        data, data.Type, scoring='f1_weighted', \n",
        "                        cv=3, return_train_score=True)\n",
        "scores"
      ],
      "metadata": {
        "colab": {
          "base_uri": "https://localhost:8080/"
        },
        "id": "GAAcbiSiuBAJ",
        "outputId": "9b22bdea-6544-4cbc-ee1e-b0dc01fec62f"
      },
      "execution_count": 28,
      "outputs": [
        {
          "output_type": "execute_result",
          "data": {
            "text/plain": [
              "{'fit_time': array([0.00491524, 0.00486898, 0.004251  ]),\n",
              " 'score_time': array([0.00999904, 0.00827098, 0.00835347]),\n",
              " 'test_score': array([0.91673789, 0.95774648, 0.95301901]),\n",
              " 'train_score': array([0.9930479 , 0.98664493, 0.97930491])}"
            ]
          },
          "metadata": {},
          "execution_count": 28
        }
      ]
    },
    {
      "cell_type": "markdown",
      "source": [
        "Как мы видим, достаточно 2/3 частей для обучения модели, заполненная ею часть обладает достаточно хорошими характеристиками."
      ],
      "metadata": {
        "id": "g5JVMl0kuKy2"
      }
    },
    {
      "cell_type": "markdown",
      "source": [
        "**Стратегия K-Fold**"
      ],
      "metadata": {
        "id": "Qi8owyVouxBN"
      }
    },
    {
      "cell_type": "code",
      "source": [
        "from sklearn.model_selection import KFold"
      ],
      "metadata": {
        "id": "XnkYhsbEuzQL"
      },
      "execution_count": 29,
      "outputs": []
    },
    {
      "cell_type": "code",
      "source": [
        "kf = KFold(n_splits=5)\n",
        "scores = cross_validate(KNeighborsClassifier(n_neighbors=2), \n",
        "                         data, data.Type, scoring='f1_weighted', \n",
        "                         cv=kf)\n",
        "scores"
      ],
      "metadata": {
        "colab": {
          "base_uri": "https://localhost:8080/"
        },
        "id": "e8DM0A6au1l1",
        "outputId": "c883b5cc-d690-4a48-985f-44195848eaa3"
      },
      "execution_count": 30,
      "outputs": [
        {
          "output_type": "execute_result",
          "data": {
            "text/plain": [
              "{'fit_time': array([0.00926948, 0.00525236, 0.00386238, 0.00398278, 0.00370955]),\n",
              " 'score_time': array([0.0076766 , 0.00660777, 0.00720596, 0.0067718 , 0.00667524]),\n",
              " 'test_score': array([1.        , 1.        , 0.925     , 0.46055632, 0.01858304])}"
            ]
          },
          "metadata": {},
          "execution_count": 30
        }
      ]
    },
    {
      "cell_type": "markdown",
      "source": [
        "**Оптимизация гиперпараметра через GridSearch**"
      ],
      "metadata": {
        "id": "7xy7pIa9u4Q1"
      }
    },
    {
      "cell_type": "code",
      "source": [
        "from sklearn.model_selection import GridSearchCV"
      ],
      "metadata": {
        "id": "orzJ2dPavRFx"
      },
      "execution_count": 31,
      "outputs": []
    },
    {
      "cell_type": "markdown",
      "source": [
        "Создадим массив с количеством ближайших соседей - среди них мы и будем искать оптимальное значение K."
      ],
      "metadata": {
        "id": "Xw9P1eOOwV1c"
      }
    },
    {
      "cell_type": "code",
      "source": [
        "n_range = np.array(range(5,55,5))\n",
        "tuned_parameters = [{'n_neighbors': n_range}]\n",
        "tuned_parameters"
      ],
      "metadata": {
        "colab": {
          "base_uri": "https://localhost:8080/"
        },
        "id": "ECKgpHMavUO1",
        "outputId": "405952ef-507e-4117-cf95-df02858227a2"
      },
      "execution_count": 32,
      "outputs": [
        {
          "output_type": "execute_result",
          "data": {
            "text/plain": [
              "[{'n_neighbors': array([ 5, 10, 15, 20, 25, 30, 35, 40, 45, 50])}]"
            ]
          },
          "metadata": {},
          "execution_count": 32
        }
      ]
    },
    {
      "cell_type": "code",
      "source": [
        "%%time\n",
        "clf_gs = GridSearchCV(KNeighborsClassifier(), tuned_parameters, cv=5, scoring='accuracy')\n",
        "clf_gs.fit(X_train, y_train)"
      ],
      "metadata": {
        "colab": {
          "base_uri": "https://localhost:8080/"
        },
        "id": "17vHaFzBwKzh",
        "outputId": "b7bd9ee4-a2f1-477b-86d2-2964060309d9"
      },
      "execution_count": 33,
      "outputs": [
        {
          "output_type": "stream",
          "name": "stdout",
          "text": [
            "CPU times: user 464 ms, sys: 0 ns, total: 464 ms\n",
            "Wall time: 496 ms\n"
          ]
        }
      ]
    },
    {
      "cell_type": "code",
      "source": [
        "clf_gs.cv_results_"
      ],
      "metadata": {
        "colab": {
          "base_uri": "https://localhost:8080/"
        },
        "id": "wez_BNAGwQqQ",
        "outputId": "dbbd2a06-8b9c-4207-ad27-f03aa5d228c1"
      },
      "execution_count": 34,
      "outputs": [
        {
          "output_type": "execute_result",
          "data": {
            "text/plain": [
              "{'mean_fit_time': array([0.00557842, 0.00325794, 0.00320091, 0.00372486, 0.0033103 ,\n",
              "        0.00390673, 0.00330853, 0.0034379 , 0.00326138, 0.00348878]),\n",
              " 'mean_score_time': array([0.00526032, 0.0048449 , 0.00553536, 0.00552192, 0.00516167,\n",
              "        0.00507178, 0.00531135, 0.00518494, 0.00517111, 0.00565453]),\n",
              " 'mean_test_score': array([0.625  , 0.60625, 0.59375, 0.58125, 0.56875, 0.54375, 0.5375 ,\n",
              "        0.55   , 0.49375, 0.45625]),\n",
              " 'param_n_neighbors': masked_array(data=[5, 10, 15, 20, 25, 30, 35, 40, 45, 50],\n",
              "              mask=[False, False, False, False, False, False, False, False,\n",
              "                    False, False],\n",
              "        fill_value='?',\n",
              "             dtype=object),\n",
              " 'params': [{'n_neighbors': 5},\n",
              "  {'n_neighbors': 10},\n",
              "  {'n_neighbors': 15},\n",
              "  {'n_neighbors': 20},\n",
              "  {'n_neighbors': 25},\n",
              "  {'n_neighbors': 30},\n",
              "  {'n_neighbors': 35},\n",
              "  {'n_neighbors': 40},\n",
              "  {'n_neighbors': 45},\n",
              "  {'n_neighbors': 50}],\n",
              " 'rank_test_score': array([ 1,  2,  3,  4,  5,  7,  8,  6,  9, 10], dtype=int32),\n",
              " 'split0_test_score': array([0.5625 , 0.5625 , 0.5625 , 0.59375, 0.5625 , 0.53125, 0.53125,\n",
              "        0.625  , 0.53125, 0.40625]),\n",
              " 'split1_test_score': array([0.65625, 0.6875 , 0.625  , 0.5625 , 0.59375, 0.59375, 0.5625 ,\n",
              "        0.59375, 0.5625 , 0.53125]),\n",
              " 'split2_test_score': array([0.625  , 0.5625 , 0.59375, 0.5625 , 0.59375, 0.5625 , 0.59375,\n",
              "        0.5    , 0.5    , 0.53125]),\n",
              " 'split3_test_score': array([0.53125, 0.5    , 0.5    , 0.53125, 0.4375 , 0.375  , 0.40625,\n",
              "        0.40625, 0.34375, 0.34375]),\n",
              " 'split4_test_score': array([0.75   , 0.71875, 0.6875 , 0.65625, 0.65625, 0.65625, 0.59375,\n",
              "        0.625  , 0.53125, 0.46875]),\n",
              " 'std_fit_time': array([0.00394177, 0.00012115, 0.00015845, 0.00070342, 0.00013176,\n",
              "        0.00111957, 0.00010219, 0.00035626, 0.00024685, 0.00016604]),\n",
              " 'std_score_time': array([0.00023926, 0.00017737, 0.00155028, 0.00072637, 0.00010244,\n",
              "        0.00012232, 0.00048609, 0.00037783, 0.00025708, 0.00077208]),\n",
              " 'std_test_score': array([0.07654655, 0.08291562, 0.0625    , 0.04238956, 0.07234898,\n",
              "        0.0939581 , 0.06959705, 0.08523864, 0.07756046, 0.0728869 ])}"
            ]
          },
          "metadata": {},
          "execution_count": 34
        }
      ]
    },
    {
      "cell_type": "markdown",
      "source": [
        "Лучшая модель:"
      ],
      "metadata": {
        "id": "uxTGjMBDwqo0"
      }
    },
    {
      "cell_type": "code",
      "source": [
        "clf_gs.best_estimator_"
      ],
      "metadata": {
        "colab": {
          "base_uri": "https://localhost:8080/"
        },
        "id": "4zwdGylywpvq",
        "outputId": "ebb25d68-a4a1-4f73-abd0-515eb20e00d2"
      },
      "execution_count": 35,
      "outputs": [
        {
          "output_type": "execute_result",
          "data": {
            "text/plain": [
              "KNeighborsClassifier()"
            ]
          },
          "metadata": {},
          "execution_count": 35
        }
      ]
    },
    {
      "cell_type": "markdown",
      "source": [
        "Лучшее значение метрики:"
      ],
      "metadata": {
        "id": "0RGqRmzqwvgt"
      }
    },
    {
      "cell_type": "code",
      "source": [
        "clf_gs.best_score_"
      ],
      "metadata": {
        "colab": {
          "base_uri": "https://localhost:8080/"
        },
        "id": "r15v7eX6wuhj",
        "outputId": "4e8e8ec2-e59d-452d-ccf7-3bf2b2143786"
      },
      "execution_count": 36,
      "outputs": [
        {
          "output_type": "execute_result",
          "data": {
            "text/plain": [
              "0.625"
            ]
          },
          "metadata": {},
          "execution_count": 36
        }
      ]
    },
    {
      "cell_type": "markdown",
      "source": [
        "Лучшее значение параметров:"
      ],
      "metadata": {
        "id": "DSMsLLmawyCp"
      }
    },
    {
      "cell_type": "code",
      "source": [
        "clf_gs.best_params_"
      ],
      "metadata": {
        "colab": {
          "base_uri": "https://localhost:8080/"
        },
        "id": "bRkt1lNLw1Ee",
        "outputId": "9c4c30e2-56f7-4a06-e7a0-36dfed8d30f2"
      },
      "execution_count": 37,
      "outputs": [
        {
          "output_type": "execute_result",
          "data": {
            "text/plain": [
              "{'n_neighbors': 5}"
            ]
          },
          "metadata": {},
          "execution_count": 37
        }
      ]
    },
    {
      "cell_type": "markdown",
      "source": [
        "Изменение качества заполненных моделей в зависимости от K:"
      ],
      "metadata": {
        "id": "HYDFF9Imw8IP"
      }
    },
    {
      "cell_type": "code",
      "source": [
        "\n",
        "plt.plot(n_range, clf_gs.cv_results_['mean_test_score'])"
      ],
      "metadata": {
        "colab": {
          "base_uri": "https://localhost:8080/",
          "height": 285
        },
        "id": "hlYqXk13w59_",
        "outputId": "93855cc7-2756-48cf-a113-f229288aaf1a"
      },
      "execution_count": 38,
      "outputs": [
        {
          "output_type": "execute_result",
          "data": {
            "text/plain": [
              "[<matplotlib.lines.Line2D at 0x7fe57d06b3d0>]"
            ]
          },
          "metadata": {},
          "execution_count": 38
        },
        {
          "output_type": "display_data",
          "data": {
            "text/plain": [
              "<Figure size 432x288 with 1 Axes>"
            ],
            "image/png": "[encoded data removed]"
          },
          "metadata": {}
        }
      ]
    },
    {
      "cell_type": "markdown",
      "source": [
        "**Оптимизация гиперпараметра через RandomizedSearch**"
      ],
      "metadata": {
        "id": "oBKvzdr3xBtP"
      }
    },
    {
      "cell_type": "code",
      "source": [
        "from sklearn.model_selection import RandomizedSearchCV"
      ],
      "metadata": {
        "id": "iiZNNt5CxJDm"
      },
      "execution_count": 39,
      "outputs": []
    },
    {
      "cell_type": "code",
      "source": [
        "%%time\n",
        "clf_rs = RandomizedSearchCV(KNeighborsClassifier(), tuned_parameters, cv=5, scoring='accuracy')\n",
        "clf_rs.fit(X_train, y_train)"
      ],
      "metadata": {
        "colab": {
          "base_uri": "https://localhost:8080/"
        },
        "id": "Yd3HRBlAxMlt",
        "outputId": "7d9d90ad-2178-4972-d498-530576cc0bb8"
      },
      "execution_count": 40,
      "outputs": [
        {
          "output_type": "stream",
          "name": "stdout",
          "text": [
            "CPU times: user 466 ms, sys: 0 ns, total: 466 ms\n",
            "Wall time: 512 ms\n"
          ]
        }
      ]
    },
    {
      "cell_type": "markdown",
      "source": [
        "Оптимальные параметры:"
      ],
      "metadata": {
        "id": "IM7_LwoGxPNH"
      }
    },
    {
      "cell_type": "code",
      "source": [
        "\n",
        "clf_rs.best_score_, clf_rs.best_params_"
      ],
      "metadata": {
        "colab": {
          "base_uri": "https://localhost:8080/"
        },
        "id": "0caT18wIxPt4",
        "outputId": "7776259e-a4b1-4dc7-e000-57c32796901c"
      },
      "execution_count": 41,
      "outputs": [
        {
          "output_type": "execute_result",
          "data": {
            "text/plain": [
              "(0.625, {'n_neighbors': 5})"
            ]
          },
          "metadata": {},
          "execution_count": 41
        }
      ]
    },
    {
      "cell_type": "markdown",
      "source": [
        "Изменение качества заполненных моделей в зависимости от K:"
      ],
      "metadata": {
        "id": "MmL_QV4IxTft"
      }
    },
    {
      "cell_type": "code",
      "source": [
        "plt.plot(n_range, clf_rs.cv_results_['mean_test_score'])"
      ],
      "metadata": {
        "colab": {
          "base_uri": "https://localhost:8080/",
          "height": 285
        },
        "id": "KUm_TypbxV5q",
        "outputId": "cc61c16c-0c53-4f11-ce9e-5fe564f7f156"
      },
      "execution_count": 42,
      "outputs": [
        {
          "output_type": "execute_result",
          "data": {
            "text/plain": [
              "[<matplotlib.lines.Line2D at 0x7fe57cfde350>]"
            ]
          },
          "metadata": {},
          "execution_count": 42
        },
        {
          "output_type": "display_data",
          "data": {
            "text/plain": [
              "<Figure size 432x288 with 1 Axes>"
            ],
            "image/png": "[encoded data removed]"
          },
          "metadata": {}
        }
      ]
    },
    {
      "cell_type": "markdown",
      "source": [
        ""
      ],
      "metadata": {
        "id": "bC4x7pAxxooG"
      }
    },
    {
      "cell_type": "markdown",
      "source": [
        "## Построение оптимальной модели"
      ],
      "metadata": {
        "id": "-4VnQn3eyGpf"
      }
    },
    {
      "cell_type": "markdown",
      "source": [
        "Оптимальное число ближайших соседей = 5"
      ],
      "metadata": {
        "id": "7hqGpEHpyKZ1"
      }
    },
    {
      "cell_type": "code",
      "source": [
        "clf_o = KNeighborsClassifier(n_neighbors=5)\n",
        "clf_o.fit(X_train, y_train)\n",
        "target_o = clf_o.predict(X_test)\n",
        "len(target_o), target_o"
      ],
      "metadata": {
        "colab": {
          "base_uri": "https://localhost:8080/"
        },
        "id": "DQyrxA2PxsRM",
        "outputId": "def385cf-1586-40a1-af47-8b7d5f68b197"
      },
      "execution_count": 44,
      "outputs": [
        {
          "output_type": "execute_result",
          "data": {
            "text/plain": [
              "(54, array([5, 7, 2, 2, 1, 1, 2, 1, 2, 1, 2, 1, 2, 1, 1, 2, 1, 1, 1, 1, 1, 7,\n",
              "        2, 1, 1, 1, 2, 2, 1, 1, 5, 6, 1, 1, 1, 2, 1, 1, 5, 1, 1, 7, 7, 1,\n",
              "        7, 1, 1, 1, 2, 7, 2, 2, 1, 2]))"
            ]
          },
          "metadata": {},
          "execution_count": 44
        }
      ]
    },
    {
      "cell_type": "markdown",
      "source": [
        "## Оценка качества исходной и оптимальной модели"
      ],
      "metadata": {
        "id": "NNBGqMYUyPMX"
      }
    },
    {
      "cell_type": "markdown",
      "source": [
        "**Метрика Accuracy**"
      ],
      "metadata": {
        "id": "hWLunlIfyW4O"
      }
    },
    {
      "cell_type": "code",
      "source": [
        "from sklearn.metrics import accuracy_score, balanced_accuracy_score"
      ],
      "metadata": {
        "id": "SfEb-or4ydLo"
      },
      "execution_count": 45,
      "outputs": []
    },
    {
      "cell_type": "markdown",
      "source": [
        "Проверим для всех типов исходной модели:"
      ],
      "metadata": {
        "id": "lV9NB3WMyisD"
      }
    },
    {
      "cell_type": "code",
      "source": [
        "accuracy_score(y_test, target_i)"
      ],
      "metadata": {
        "colab": {
          "base_uri": "https://localhost:8080/"
        },
        "id": "Qb-Vj931ygsL",
        "outputId": "099e22e3-50ff-4e2a-8f90-e68890a12404"
      },
      "execution_count": 46,
      "outputs": [
        {
          "output_type": "execute_result",
          "data": {
            "text/plain": [
              "0.6481481481481481"
            ]
          },
          "metadata": {},
          "execution_count": 46
        }
      ]
    },
    {
      "cell_type": "markdown",
      "source": [
        "И оптимальной модели:"
      ],
      "metadata": {
        "id": "7tOmZgDsym3a"
      }
    },
    {
      "cell_type": "code",
      "source": [
        "\n",
        "accuracy_score(y_test, target_o)"
      ],
      "metadata": {
        "colab": {
          "base_uri": "https://localhost:8080/"
        },
        "id": "bg2EYlwKymNB",
        "outputId": "3ddc47f3-5097-45a5-aa12-a998f4cc9eaa"
      },
      "execution_count": 47,
      "outputs": [
        {
          "output_type": "execute_result",
          "data": {
            "text/plain": [
              "0.7222222222222222"
            ]
          },
          "metadata": {},
          "execution_count": 47
        }
      ]
    },
    {
      "cell_type": "markdown",
      "source": [
        "Точность оптимальной модели (5 ближайших соседей) выше, чем в исходной модели (20)."
      ],
      "metadata": {
        "id": "A_rlMiR9ysYX"
      }
    },
    {
      "cell_type": "markdown",
      "source": [
        "Теперь проверим для каждого конкретного типа:"
      ],
      "metadata": {
        "id": "NnVXBARLyziM"
      }
    },
    {
      "cell_type": "code",
      "source": [
        "def accuracy_score_for_types(\n",
        "    y_true: np.ndarray, \n",
        "    y_pred: np.ndarray) -> Dict[int, float]:\n",
        "    d = {'t': y_true, 'p': y_pred}\n",
        "    df = pd.DataFrame(data=d)\n",
        "    types = np.unique(y_true)\n",
        "    res = dict()\n",
        "    for t in types:\n",
        "        temp_data_flt = df[df['t']==t]\n",
        "        temp_acc = accuracy_score(\n",
        "            temp_data_flt['t'].values, \n",
        "            temp_data_flt['p'].values)\n",
        "        res[t] = temp_acc\n",
        "    return res\n",
        "\n",
        "def print_accuracy_score_for_types(\n",
        "    y_true: np.ndarray, \n",
        "    y_pred: np.ndarray):\n",
        "    accs = accuracy_score_for_types(y_true, y_pred)\n",
        "    if len(accs)>0:\n",
        "        print('Тип \\t Accuracy')\n",
        "    for i in accs:\n",
        "        print('{} \\t {}'.format(i, accs[i]))"
      ],
      "metadata": {
        "id": "bSs4QeNSyvyQ"
      },
      "execution_count": 48,
      "outputs": []
    },
    {
      "cell_type": "markdown",
      "source": [
        "Для исходной модели:"
      ],
      "metadata": {
        "id": "PO39a0ywy31D"
      }
    },
    {
      "cell_type": "code",
      "source": [
        "print_accuracy_score_for_types(y_test, target_i)"
      ],
      "metadata": {
        "colab": {
          "base_uri": "https://localhost:8080/"
        },
        "id": "NdpyEUcry2bO",
        "outputId": "f2fa3925-b1a7-4205-cfcb-3e9d62adf163"
      },
      "execution_count": 49,
      "outputs": [
        {
          "output_type": "stream",
          "name": "stdout",
          "text": [
            "Тип \t Accuracy\n",
            "1 \t 0.8260869565217391\n",
            "2 \t 0.5625\n",
            "3 \t 0.0\n",
            "5 \t 1.0\n",
            "6 \t 0.0\n",
            "7 \t 1.0\n"
          ]
        }
      ]
    },
    {
      "cell_type": "markdown",
      "source": [
        "Для оптимальной модели:\n"
      ],
      "metadata": {
        "id": "Ts7ZanMxy9tL"
      }
    },
    {
      "cell_type": "code",
      "source": [
        "print_accuracy_score_for_types(y_test, target_o)"
      ],
      "metadata": {
        "colab": {
          "base_uri": "https://localhost:8080/"
        },
        "id": "JOvjo8u3y8uE",
        "outputId": "94b5b5f7-044e-4bab-d41a-7d4aa047578f"
      },
      "execution_count": 50,
      "outputs": [
        {
          "output_type": "stream",
          "name": "stdout",
          "text": [
            "Тип \t Accuracy\n",
            "1 \t 0.8695652173913043\n",
            "2 \t 0.6875\n",
            "3 \t 0.0\n",
            "5 \t 1.0\n",
            "6 \t 1.0\n",
            "7 \t 1.0\n"
          ]
        }
      ]
    },
    {
      "cell_type": "markdown",
      "source": [
        "**Метрика \"Матрица ошибок\"**"
      ],
      "metadata": {
        "id": "-_xJl3S8zLdG"
      }
    },
    {
      "cell_type": "code",
      "source": [
        "from sklearn.metrics import ConfusionMatrixDisplay\n",
        "from sklearn.metrics import confusion_matrix"
      ],
      "metadata": {
        "id": "Hqp5It6DzP6W"
      },
      "execution_count": 51,
      "outputs": []
    },
    {
      "cell_type": "markdown",
      "source": [
        "Для исходной модели:"
      ],
      "metadata": {
        "id": "uMztC6w1zOfx"
      }
    },
    {
      "cell_type": "code",
      "source": [
        "confusion_matrix(y_test, target_i, labels=[0, 1, 2, 3, 4, 5, 6, 7])"
      ],
      "metadata": {
        "colab": {
          "base_uri": "https://localhost:8080/"
        },
        "id": "GP40vxaZzVrD",
        "outputId": "7926d819-9ac7-4f43-b9a3-5c51a5f43d5d"
      },
      "execution_count": 52,
      "outputs": [
        {
          "output_type": "execute_result",
          "data": {
            "text/plain": [
              "array([[ 0,  0,  0,  0,  0,  0,  0,  0],\n",
              "       [ 0, 19,  4,  0,  0,  0,  0,  0],\n",
              "       [ 0,  3,  9,  0,  0,  4,  0,  0],\n",
              "       [ 0,  7,  0,  0,  0,  0,  0,  0],\n",
              "       [ 0,  0,  0,  0,  0,  0,  0,  0],\n",
              "       [ 0,  0,  0,  0,  0,  1,  0,  0],\n",
              "       [ 0,  0,  0,  0,  0,  0,  0,  1],\n",
              "       [ 0,  0,  0,  0,  0,  0,  0,  6]])"
            ]
          },
          "metadata": {},
          "execution_count": 52
        }
      ]
    },
    {
      "cell_type": "markdown",
      "source": [
        "Визуально представим матрицу ошибок, показывающую количество верно и ошибочно классифицированных данных:"
      ],
      "metadata": {
        "id": "InYMptKJzdoW"
      }
    },
    {
      "cell_type": "code",
      "source": [
        "ConfusionMatrixDisplay.from_estimator(\n",
        "        clf_i,\n",
        "        X_test,\n",
        "        y_test,\n",
        "        display_labels=clf_i.classes_,\n",
        "        cmap=plt.cm.Blues,\n",
        "        normalize='true',\n",
        "    )"
      ],
      "metadata": {
        "colab": {
          "base_uri": "https://localhost:8080/",
          "height": 306
        },
        "id": "X3w5FA92zeOz",
        "outputId": "ae4b9ab1-8861-48c8-9b83-f679fd4ed3d5"
      },
      "execution_count": 53,
      "outputs": [
        {
          "output_type": "execute_result",
          "data": {
            "text/plain": [
              "<sklearn.metrics._plot.confusion_matrix.ConfusionMatrixDisplay at 0x7fe57ca68850>"
            ]
          },
          "metadata": {},
          "execution_count": 53
        },
        {
          "output_type": "display_data",
          "data": {
            "text/plain": [
              "<Figure size 432x288 with 2 Axes>"
            ],
            "image/png": "[encoded data removed]"
          },
          "metadata": {}
        }
      ]
    },
    {
      "cell_type": "markdown",
      "source": [
        "Для оптимальной модели:"
      ],
      "metadata": {
        "id": "6flq9SdqzkH9"
      }
    },
    {
      "cell_type": "code",
      "source": [
        "\n",
        "confusion_matrix(y_test, target_o, labels=[0, 1, 2, 3, 4, 5, 6, 7])"
      ],
      "metadata": {
        "colab": {
          "base_uri": "https://localhost:8080/"
        },
        "id": "aMZS_PWIzj0d",
        "outputId": "f3def940-a5a5-4f21-85f1-629e651cd1f0"
      },
      "execution_count": 55,
      "outputs": [
        {
          "output_type": "execute_result",
          "data": {
            "text/plain": [
              "array([[ 0,  0,  0,  0,  0,  0,  0,  0],\n",
              "       [ 0, 20,  3,  0,  0,  0,  0,  0],\n",
              "       [ 0,  3, 11,  0,  0,  2,  0,  0],\n",
              "       [ 0,  6,  1,  0,  0,  0,  0,  0],\n",
              "       [ 0,  0,  0,  0,  0,  0,  0,  0],\n",
              "       [ 0,  0,  0,  0,  0,  1,  0,  0],\n",
              "       [ 0,  0,  0,  0,  0,  0,  1,  0],\n",
              "       [ 0,  0,  0,  0,  0,  0,  0,  6]])"
            ]
          },
          "metadata": {},
          "execution_count": 55
        }
      ]
    },
    {
      "cell_type": "code",
      "source": [
        "ConfusionMatrixDisplay.from_estimator(\n",
        "        clf_o,\n",
        "        X_test,\n",
        "        y_test,\n",
        "        display_labels=clf_o.classes_,\n",
        "        cmap=plt.cm.Blues,\n",
        "        normalize='true',\n",
        "    )"
      ],
      "metadata": {
        "colab": {
          "base_uri": "https://localhost:8080/",
          "height": 306
        },
        "id": "eK0Zs4HWznz7",
        "outputId": "a9dea4d8-ce27-463d-cb23-cbd508ad577d"
      },
      "execution_count": 54,
      "outputs": [
        {
          "output_type": "execute_result",
          "data": {
            "text/plain": [
              "<sklearn.metrics._plot.confusion_matrix.ConfusionMatrixDisplay at 0x7fe57ca68410>"
            ]
          },
          "metadata": {},
          "execution_count": 54
        },
        {
          "output_type": "display_data",
          "data": {
            "text/plain": [
              "<Figure size 432x288 with 2 Axes>"
            ],
            "image/png": "[encoded data removed]"
          },
          "metadata": {}
        }
      ]
    },
    {
      "cell_type": "markdown",
      "source": [
        "Точность у оптимальной немного модели выше, чем у исходной."
      ],
      "metadata": {
        "id": "DI0M4xKlznQE"
      }
    }
  ]
}